{
 "cells": [
  {
   "attachments": {},
   "cell_type": "markdown",
   "metadata": {},
   "source": [
    "loop epoch\n",
    "\n",
    "-   loop batches\n",
    "\n",
    "is preferable for large dataset\n",
    "\n",
    "Epoch = 1 forward and backward pass of ALL training samples\n",
    "\n",
    "batch_size = number of training samples in one forward & backward pass\n",
    "\n",
    "number of iterations = number of passes, each pass using [batch_size] number of samples\n",
    "\n",
    "e.g. 100 samples, batch_size=20 -> 100/20 = 5 iterations for 1 epoch"
   ]
  },
  {
   "cell_type": "code",
   "execution_count": 1,
   "metadata": {},
   "outputs": [],
   "source": [
    "import torch\n",
    "import torchvision\n",
    "from torch.utils.data import Dataset, DataLoader\n",
    "import numpy as np\n",
    "import math\n",
    "from sklearn.preprocessing import MinMaxScaler\n",
    "from sklearn.model_selection import train_test_split\n",
    "import torch.nn as nn\n",
    "\n",
    "device = torch.device(\"cuda:0\" if torch.cuda.is_available() else \"cpu\")"
   ]
  },
  {
   "cell_type": "code",
   "execution_count": 2,
   "metadata": {},
   "outputs": [],
   "source": [
    "class WineTrain(Dataset):\n",
    "\n",
    "    def __init__(self):\n",
    "        # data loading\n",
    "        # using , to split the data, skip the row 1 because it is the title\n",
    "        xy = np.loadtxt(\"/home/tian/Projects/d2l/data/wine.csv\", delimiter=\",\", dtype=np.float32, skiprows=1)\n",
    "        # column 0 is the classes, the input should be those features in column[1:]\n",
    "        x = torch.from_numpy(xy [:, 1:].astype(np.float32))\n",
    "        y = torch.from_numpy(xy [:, [0]].astype(np.float32)) # size = n_sample, 1\n",
    "        self.n_labels = int(max(y.squeeze(1).numpy()))\n",
    "        sc = MinMaxScaler()\n",
    "        self.x, _, self.y, _ = train_test_split(x, y, test_size=0.2, random_state=1)\n",
    "        self.x = sc.fit_transform(self.x)\n",
    "        self.x = torch.from_numpy(self.x.astype(np.float32))\n",
    "        # self.y = self.y.type(torch.int64)\n",
    "        # self.y = nn.functional.one_hot(self.y , -1)\n",
    "        # self.y = self.y.squeeze(1).type(torch.float32)\n",
    "        self.y = self.y.squeeze(1)- 1\n",
    "        self.n_features = self.x.shape[1]\n",
    "        self.n_samples = self.x.shape[0]\n",
    "\n",
    "\n",
    "\n",
    "    def __getitem__(self, index):\n",
    "        # dataset[0]\n",
    "        return self.x[index], self.y[index]\n",
    "\n",
    "    def __len__(self):\n",
    "        # len(dataset)\n",
    "        return self.n_samples\n"
   ]
  },
  {
   "cell_type": "code",
   "execution_count": 3,
   "metadata": {},
   "outputs": [],
   "source": [
    "train_data = WineTrain()"
   ]
  },
  {
   "cell_type": "code",
   "execution_count": 14,
   "metadata": {},
   "outputs": [],
   "source": [
    "class WineTest(Dataset):\n",
    "\n",
    "    def __init__(self):\n",
    "        # data loading\n",
    "        # using , to split the data, skip the row 1 because it is the title\n",
    "        xy = np.loadtxt(\"/home/tian/Projects/d2l/data/wine.csv\", delimiter=\",\", dtype=np.float32, skiprows=1)\n",
    "        # column 0 is the classes, the input should be those features in column[1:]\n",
    "        x = torch.from_numpy(xy [:, 1:].astype(np.float32))\n",
    "        y = torch.from_numpy(xy [:, [0]].astype(np.float32)) # size = n_sample, 1\n",
    "        self.n_labels = int(max(y.squeeze(1).numpy()))\n",
    "        sc = MinMaxScaler()\n",
    "        _, self.x, _, self.y = train_test_split(x, y, test_size=0.2, random_state=1)\n",
    "        self.x = sc.fit_transform(self.x)\n",
    "        self.x = torch.from_numpy(self.x.astype(np.float32))\n",
    "        # self.y = torch.from_numpy(self.y.astype(np.float32))\n",
    "        self.y = self.y.squeeze(1)- 1\n",
    "        self.n_features = self.x.shape[1]\n",
    "        self.n_samples = self.x.shape[0]\n",
    "\n",
    "\n",
    "    def __getitem__(self, index):\n",
    "        # dataset[0]\n",
    "        return self.x[index], self.y[index]\n",
    "\n",
    "    def __len__(self):\n",
    "        # len(dataset)\n",
    "        return self.n_samples"
   ]
  },
  {
   "cell_type": "code",
   "execution_count": 15,
   "metadata": {},
   "outputs": [],
   "source": [
    "test_data = WineTest()"
   ]
  },
  {
   "cell_type": "code",
   "execution_count": 6,
   "metadata": {},
   "outputs": [],
   "source": [
    "# train_data = WineTrain()\n",
    "# test_data = WineTest()\n",
    "batch_size = 10\n",
    "dataloader = DataLoader(dataset=train_data, batch_size=batch_size, shuffle=True, num_workers=2)"
   ]
  },
  {
   "cell_type": "code",
   "execution_count": 7,
   "metadata": {},
   "outputs": [
    {
     "data": {
      "text/plain": [
       "(tensor([0.2553, 0.1245, 0.5668, 0.6369, 0.1739, 0.1621, 0.1920, 0.7400, 0.3849,\n",
       "         0.1980, 0.4310, 0.5055, 0.1227]),\n",
       " tensor(1.))"
      ]
     },
     "execution_count": 7,
     "metadata": {},
     "output_type": "execute_result"
    }
   ],
   "source": [
    "# play with Dataset\n",
    "\n",
    "first_data = train_data[0]\n",
    "features, labels = first_data\n",
    "features, labels"
   ]
  },
  {
   "cell_type": "code",
   "execution_count": 8,
   "metadata": {},
   "outputs": [],
   "source": [
    "# # play with dataloader\n",
    "\n",
    "# datatiter = iter(dataloader)\n",
    "# data = next(datatiter)\n",
    "# features, labels = data\n",
    "# features.shape, labels.shape"
   ]
  },
  {
   "cell_type": "code",
   "execution_count": 9,
   "metadata": {},
   "outputs": [],
   "source": [
    "# 1 model\n",
    "# f = wx + b, sigmoid at the end\n",
    "\n",
    "\n",
    "class Model(nn.Module):\n",
    "\n",
    "    def __init__(self, n_features, n_labels):\n",
    "        super(Model, self).__init__()\n",
    "        self.l1 = nn.Linear(n_features, 64)\n",
    "        self.sm = nn.Sigmoid()\n",
    "        self.l2 = nn.Linear(64, n_labels)\n",
    "\n",
    "    \n",
    "    def forward(self, x):\n",
    "        x = self.sm(self.l1(x))\n",
    "        x = self.l2(x)\n",
    "        return x\n",
    "\n",
    "model = Model(n_features=train_data.n_features, n_labels=train_data.n_labels)\n",
    "# model.to(device)"
   ]
  },
  {
   "cell_type": "code",
   "execution_count": null,
   "metadata": {},
   "outputs": [],
   "source": [
    "print('W:',list(model.parameters())[0].size())\n",
    "print('b',list(model.parameters())[1].size())"
   ]
  },
  {
   "cell_type": "code",
   "execution_count": 10,
   "metadata": {},
   "outputs": [
    {
     "data": {
      "text/plain": [
       "(142, 15)"
      ]
     },
     "execution_count": 10,
     "metadata": {},
     "output_type": "execute_result"
    }
   ],
   "source": [
    "# training hyperpara\n",
    "total_samples = len(train_data)\n",
    "n_iterations = math.ceil(total_samples/batch_size)   # have the int\n",
    "total_samples, n_iterations"
   ]
  },
  {
   "cell_type": "code",
   "execution_count": 11,
   "metadata": {},
   "outputs": [],
   "source": [
    "num_epochs = 100\n",
    "lr = 0.01\n",
    "criterion = nn.CrossEntropyLoss()\n",
    "optimizer = torch.optim.Adam(model.parameters(), lr = lr)"
   ]
  },
  {
   "cell_type": "code",
   "execution_count": 12,
   "metadata": {},
   "outputs": [
    {
     "name": "stdout",
     "output_type": "stream",
     "text": [
      "epoch 1/100, step 10/15, inputs torch.Size([10, 13]), loss = 1.1771\n",
      "epoch 2/100, step 10/15, inputs torch.Size([10, 13]), loss = 0.8645\n",
      "epoch 3/100, step 10/15, inputs torch.Size([10, 13]), loss = 0.7937\n",
      "epoch 4/100, step 10/15, inputs torch.Size([10, 13]), loss = 0.7202\n",
      "epoch 5/100, step 10/15, inputs torch.Size([10, 13]), loss = 0.4578\n",
      "epoch 6/100, step 10/15, inputs torch.Size([10, 13]), loss = 0.4133\n",
      "epoch 7/100, step 10/15, inputs torch.Size([10, 13]), loss = 0.3043\n",
      "epoch 8/100, step 10/15, inputs torch.Size([10, 13]), loss = 0.2113\n",
      "epoch 9/100, step 10/15, inputs torch.Size([10, 13]), loss = 0.1367\n",
      "epoch 10/100, step 10/15, inputs torch.Size([10, 13]), loss = 0.2117\n",
      "epoch 11/100, step 10/15, inputs torch.Size([10, 13]), loss = 0.2583\n",
      "epoch 12/100, step 10/15, inputs torch.Size([10, 13]), loss = 0.1250\n",
      "epoch 13/100, step 10/15, inputs torch.Size([10, 13]), loss = 0.0591\n",
      "epoch 14/100, step 10/15, inputs torch.Size([10, 13]), loss = 0.1019\n",
      "epoch 15/100, step 10/15, inputs torch.Size([10, 13]), loss = 0.0803\n",
      "epoch 16/100, step 10/15, inputs torch.Size([10, 13]), loss = 0.0372\n",
      "epoch 17/100, step 10/15, inputs torch.Size([10, 13]), loss = 0.0215\n",
      "epoch 18/100, step 10/15, inputs torch.Size([10, 13]), loss = 0.0895\n",
      "epoch 19/100, step 10/15, inputs torch.Size([10, 13]), loss = 0.0629\n",
      "epoch 20/100, step 10/15, inputs torch.Size([10, 13]), loss = 0.0806\n",
      "epoch 21/100, step 10/15, inputs torch.Size([10, 13]), loss = 0.0782\n",
      "epoch 22/100, step 10/15, inputs torch.Size([10, 13]), loss = 0.0759\n",
      "epoch 23/100, step 10/15, inputs torch.Size([10, 13]), loss = 0.1705\n",
      "epoch 24/100, step 10/15, inputs torch.Size([10, 13]), loss = 0.0518\n",
      "epoch 25/100, step 10/15, inputs torch.Size([10, 13]), loss = 0.2386\n",
      "epoch 26/100, step 10/15, inputs torch.Size([10, 13]), loss = 0.1263\n",
      "epoch 27/100, step 10/15, inputs torch.Size([10, 13]), loss = 0.0058\n",
      "epoch 28/100, step 10/15, inputs torch.Size([10, 13]), loss = 0.1105\n",
      "epoch 29/100, step 10/15, inputs torch.Size([10, 13]), loss = 0.0874\n",
      "epoch 30/100, step 10/15, inputs torch.Size([10, 13]), loss = 0.1290\n",
      "epoch 31/100, step 10/15, inputs torch.Size([10, 13]), loss = 0.0876\n",
      "epoch 32/100, step 10/15, inputs torch.Size([10, 13]), loss = 0.0229\n",
      "epoch 33/100, step 10/15, inputs torch.Size([10, 13]), loss = 0.1133\n",
      "epoch 34/100, step 10/15, inputs torch.Size([10, 13]), loss = 0.0386\n",
      "epoch 35/100, step 10/15, inputs torch.Size([10, 13]), loss = 0.1255\n",
      "epoch 36/100, step 10/15, inputs torch.Size([10, 13]), loss = 0.0285\n",
      "epoch 37/100, step 10/15, inputs torch.Size([10, 13]), loss = 0.0190\n",
      "epoch 38/100, step 10/15, inputs torch.Size([10, 13]), loss = 0.0686\n",
      "epoch 39/100, step 10/15, inputs torch.Size([10, 13]), loss = 0.0094\n",
      "epoch 40/100, step 10/15, inputs torch.Size([10, 13]), loss = 0.0910\n",
      "epoch 41/100, step 10/15, inputs torch.Size([10, 13]), loss = 0.0314\n",
      "epoch 42/100, step 10/15, inputs torch.Size([10, 13]), loss = 0.0370\n",
      "epoch 43/100, step 10/15, inputs torch.Size([10, 13]), loss = 0.0308\n",
      "epoch 44/100, step 10/15, inputs torch.Size([10, 13]), loss = 0.0602\n",
      "epoch 45/100, step 10/15, inputs torch.Size([10, 13]), loss = 0.0116\n",
      "epoch 46/100, step 10/15, inputs torch.Size([10, 13]), loss = 0.0363\n",
      "epoch 47/100, step 10/15, inputs torch.Size([10, 13]), loss = 0.0053\n",
      "epoch 48/100, step 10/15, inputs torch.Size([10, 13]), loss = 0.0148\n",
      "epoch 49/100, step 10/15, inputs torch.Size([10, 13]), loss = 0.0080\n",
      "epoch 50/100, step 10/15, inputs torch.Size([10, 13]), loss = 0.0144\n",
      "epoch 51/100, step 10/15, inputs torch.Size([10, 13]), loss = 0.0060\n",
      "epoch 52/100, step 10/15, inputs torch.Size([10, 13]), loss = 0.0562\n",
      "epoch 53/100, step 10/15, inputs torch.Size([10, 13]), loss = 0.0284\n",
      "epoch 54/100, step 10/15, inputs torch.Size([10, 13]), loss = 0.0179\n",
      "epoch 55/100, step 10/15, inputs torch.Size([10, 13]), loss = 0.0058\n",
      "epoch 56/100, step 10/15, inputs torch.Size([10, 13]), loss = 0.0085\n",
      "epoch 57/100, step 10/15, inputs torch.Size([10, 13]), loss = 0.0053\n",
      "epoch 58/100, step 10/15, inputs torch.Size([10, 13]), loss = 0.0019\n",
      "epoch 59/100, step 10/15, inputs torch.Size([10, 13]), loss = 0.0008\n",
      "epoch 60/100, step 10/15, inputs torch.Size([10, 13]), loss = 0.0442\n",
      "epoch 61/100, step 10/15, inputs torch.Size([10, 13]), loss = 0.0080\n",
      "epoch 62/100, step 10/15, inputs torch.Size([10, 13]), loss = 0.0149\n",
      "epoch 63/100, step 10/15, inputs torch.Size([10, 13]), loss = 0.0016\n",
      "epoch 64/100, step 10/15, inputs torch.Size([10, 13]), loss = 0.0031\n",
      "epoch 65/100, step 10/15, inputs torch.Size([10, 13]), loss = 0.0007\n",
      "epoch 66/100, step 10/15, inputs torch.Size([10, 13]), loss = 0.0081\n",
      "epoch 67/100, step 10/15, inputs torch.Size([10, 13]), loss = 0.0432\n",
      "epoch 68/100, step 10/15, inputs torch.Size([10, 13]), loss = 0.0012\n",
      "epoch 69/100, step 10/15, inputs torch.Size([10, 13]), loss = 0.1103\n",
      "epoch 70/100, step 10/15, inputs torch.Size([10, 13]), loss = 0.0616\n",
      "epoch 71/100, step 10/15, inputs torch.Size([10, 13]), loss = 0.0085\n",
      "epoch 72/100, step 10/15, inputs torch.Size([10, 13]), loss = 0.0002\n",
      "epoch 73/100, step 10/15, inputs torch.Size([10, 13]), loss = 0.0344\n",
      "epoch 74/100, step 10/15, inputs torch.Size([10, 13]), loss = 0.0039\n",
      "epoch 75/100, step 10/15, inputs torch.Size([10, 13]), loss = 0.0086\n",
      "epoch 76/100, step 10/15, inputs torch.Size([10, 13]), loss = 0.0118\n",
      "epoch 77/100, step 10/15, inputs torch.Size([10, 13]), loss = 0.0040\n",
      "epoch 78/100, step 10/15, inputs torch.Size([10, 13]), loss = 0.0065\n",
      "epoch 79/100, step 10/15, inputs torch.Size([10, 13]), loss = 0.0002\n",
      "epoch 80/100, step 10/15, inputs torch.Size([10, 13]), loss = 0.0040\n",
      "epoch 81/100, step 10/15, inputs torch.Size([10, 13]), loss = 0.0059\n",
      "epoch 82/100, step 10/15, inputs torch.Size([10, 13]), loss = 0.0030\n",
      "epoch 83/100, step 10/15, inputs torch.Size([10, 13]), loss = 0.0083\n",
      "epoch 84/100, step 10/15, inputs torch.Size([10, 13]), loss = 0.0033\n",
      "epoch 85/100, step 10/15, inputs torch.Size([10, 13]), loss = 0.0146\n",
      "epoch 86/100, step 10/15, inputs torch.Size([10, 13]), loss = 0.0036\n",
      "epoch 87/100, step 10/15, inputs torch.Size([10, 13]), loss = 0.0160\n",
      "epoch 88/100, step 10/15, inputs torch.Size([10, 13]), loss = 0.0198\n",
      "epoch 89/100, step 10/15, inputs torch.Size([10, 13]), loss = 0.0063\n",
      "epoch 90/100, step 10/15, inputs torch.Size([10, 13]), loss = 0.0162\n",
      "epoch 91/100, step 10/15, inputs torch.Size([10, 13]), loss = 0.0059\n",
      "epoch 92/100, step 10/15, inputs torch.Size([10, 13]), loss = 0.0057\n",
      "epoch 93/100, step 10/15, inputs torch.Size([10, 13]), loss = 0.0067\n",
      "epoch 94/100, step 10/15, inputs torch.Size([10, 13]), loss = 0.0178\n",
      "epoch 95/100, step 10/15, inputs torch.Size([10, 13]), loss = 0.0016\n",
      "epoch 96/100, step 10/15, inputs torch.Size([10, 13]), loss = 0.0196\n",
      "epoch 97/100, step 10/15, inputs torch.Size([10, 13]), loss = 0.0067\n",
      "epoch 98/100, step 10/15, inputs torch.Size([10, 13]), loss = 0.0060\n",
      "epoch 99/100, step 10/15, inputs torch.Size([10, 13]), loss = 0.0021\n",
      "epoch 100/100, step 10/15, inputs torch.Size([10, 13]), loss = 0.0003\n"
     ]
    }
   ],
   "source": [
    "# training loop\n",
    "\n",
    "for epoch in range(num_epochs):\n",
    "    for i, (inputs, labels) in enumerate(dataloader):\n",
    "        optimizer.zero_grad()\n",
    "        # inputs = inputs.to(device)\n",
    "        labels = labels.type(torch.LongTensor)\n",
    "        # forward backward, update\n",
    "        y_pred = model(inputs)\n",
    "        loss = criterion(y_pred, labels)\n",
    "        loss.backward()\n",
    "        optimizer.step()\n",
    "        \n",
    "        if (i+1) % batch_size ==0:\n",
    "            print(f'epoch {epoch+1}/{num_epochs}, step {i+1}/{n_iterations}, inputs {inputs.shape}, loss = {loss.item():.4f}')\n",
    "\n"
   ]
  },
  {
   "cell_type": "code",
   "execution_count": 27,
   "metadata": {},
   "outputs": [
    {
     "name": "stdout",
     "output_type": "stream",
     "text": [
      "tensor([[ -1.7424,  -3.9385,   3.7010],\n",
      "        [ -4.3664,  12.2377, -12.4058],\n",
      "        [  8.2782,  -2.2371,  -7.9188],\n",
      "        [ -2.2519,  10.9694, -13.0374],\n",
      "        [  9.5574,  -4.6117,  -6.2853]])\n",
      "tensor([[ -2.,  -4.,   4.],\n",
      "        [ -4.,  12., -12.],\n",
      "        [  8.,  -2.,  -8.],\n",
      "        [ -2.,  11., -13.],\n",
      "        [ 10.,  -5.,  -6.]])\n",
      "tensor([2, 1, 0, 1, 0])\n",
      "accuracy = 0.9722\n"
     ]
    }
   ],
   "source": [
    "with torch.no_grad():\n",
    "    y_pred = model(test_data.x)\n",
    "    print(y_pred[:5])\n",
    "    y_pred_cls = y_pred.round()\n",
    "    print(y_pred_cls[:5])\n",
    "    y_pred_cls_one = torch.argmax(y_pred_cls, dim=1)\n",
    "    print(y_pred_cls_one[:5])\n",
    "    acc = y_pred_cls_one.eq(test_data.y).sum() / float(test_data.n_samples)\n",
    "    print(f'accuracy = {acc:.4f}')"
   ]
  }
 ],
 "metadata": {
  "kernelspec": {
   "display_name": "d2l",
   "language": "python",
   "name": "python3"
  },
  "language_info": {
   "codemirror_mode": {
    "name": "ipython",
    "version": 3
   },
   "file_extension": ".py",
   "mimetype": "text/x-python",
   "name": "python",
   "nbconvert_exporter": "python",
   "pygments_lexer": "ipython3",
   "version": "3.9.15"
  },
  "orig_nbformat": 4,
  "vscode": {
   "interpreter": {
    "hash": "d21ee89defff7085579ccbc45d3f7bf353eb099fd9123e86b61fb4fca6d154f2"
   }
  }
 },
 "nbformat": 4,
 "nbformat_minor": 2
}
