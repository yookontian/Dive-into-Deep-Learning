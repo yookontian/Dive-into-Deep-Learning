{
 "cells": [
  {
   "attachments": {},
   "cell_type": "markdown",
   "metadata": {},
   "source": [
    "using the in-built model in pytorch\n",
    "\n",
    "on MNIST dataset"
   ]
  },
  {
   "cell_type": "code",
   "execution_count": 1,
   "metadata": {},
   "outputs": [],
   "source": [
    "import torch\n",
    "import torch.nn as nn\n",
    "import torchvision\n",
    "import torchvision.transforms as transforms\n",
    "\n",
    "device = torch.device('cuda')\n"
   ]
  },
  {
   "cell_type": "code",
   "execution_count": 2,
   "metadata": {},
   "outputs": [],
   "source": [
    "# input_size = 784    #28 x 28\n",
    "hidden_size = 128\n",
    "num_classes = 10\n",
    "num_epochs = 2\n",
    "batch_size = 100\n",
    "learning_rate = 0.001\n",
    "\n",
    "# using RNN to classify images means to input a image row by row, treat the rows as a seq.\n",
    "input_size = 28\n",
    "sequence_length = 28\n",
    "num_layers = 2"
   ]
  },
  {
   "cell_type": "code",
   "execution_count": 3,
   "metadata": {},
   "outputs": [],
   "source": [
    "# load datasets\n",
    "\n",
    "train_dataset = torchvision.datasets.MNIST(root='./data/', train=True, transform=transforms.ToTensor(), download=False)\n",
    "\n",
    "test_dataset = torchvision.datasets.MNIST(root='./data/', train=False, transform=transforms.ToTensor())"
   ]
  },
  {
   "cell_type": "code",
   "execution_count": 4,
   "metadata": {},
   "outputs": [
    {
     "data": {
      "text/plain": [
       "torch.Size([60000, 28, 28])"
      ]
     },
     "execution_count": 4,
     "metadata": {},
     "output_type": "execute_result"
    }
   ],
   "source": [
    "train_dataset.data.shape"
   ]
  },
  {
   "cell_type": "code",
   "execution_count": 5,
   "metadata": {},
   "outputs": [],
   "source": [
    "# create data loader\n",
    "\n",
    "train_loader = torch.utils.data.DataLoader(dataset=train_dataset, batch_size=batch_size, shuffle=True)\n",
    "\n",
    "test_loader = torch.utils.data.DataLoader(dataset=test_dataset, batch_size=batch_size, shuffle=False)"
   ]
  },
  {
   "cell_type": "code",
   "execution_count": 6,
   "metadata": {},
   "outputs": [],
   "source": [
    "# rnn model\n",
    "class RNN(nn.Module):\n",
    "    def __init__(self, input_size, hidden_size, num_layers, num_classes):\n",
    "        super(RNN, self).__init__()\n",
    "        self.num_layers = num_layers\n",
    "        self.hidden_size = hidden_size\n",
    "        self.rnn = nn.RNN(input_size, hidden_size, num_layers, batch_first=True) # treat the batch_size as the first dim\n",
    "        # x.shape -> (batch_size, seq, input_size)\n",
    "        self.fc = nn.Linear(hidden_size, num_classes)\n",
    "\n",
    "    def forward(self, x):\n",
    "        # rnn need 2 inputs: x and init_hidden\n",
    "        h0 = torch.zeros(self.num_layers, x.size(0), self.hidden_size).to(device)\n",
    "\n",
    "        out, _ = self.rnn(x, h0)\n",
    "        # out: batch_size, seq_length, hidden_size\n",
    "        # decode the hidden_state only for the last step\n",
    "        # out: N, 28, 128\n",
    "        out = out[:, -1, :]\n",
    "        # out: N, 128\n",
    "        out = self.fc(out)\n",
    "        return out\n"
   ]
  },
  {
   "cell_type": "code",
   "execution_count": 7,
   "metadata": {},
   "outputs": [],
   "source": [
    "# GRU model\n",
    "class GRU(nn.Module):\n",
    "    def __init__(self, input_size, hidden_size, num_layers, num_classes):\n",
    "        super(RNN, self).__init__()\n",
    "        self.num_layers = num_layers\n",
    "        self.hidden_size = hidden_size\n",
    "        self.gru = nn.GRU(input_size, hidden_size, num_layers, batch_first=True) # treat the batch_size as the first dim\n",
    "        # x.shape -> (batch_size, seq, input_size)\n",
    "        self.fc = nn.Linear(hidden_size, num_classes)\n",
    "\n",
    "    def forward(self, x):\n",
    "        # rnn need 2 inputs: x and init_hidden\n",
    "        h0 = torch.zeros(self.num_layers, x.size(0), self.hidden_size).to(device)\n",
    "\n",
    "        out, _ = self.gru(x, h0)\n",
    "        # out: batch_size, seq_length, hidden_size\n",
    "        # decode the hidden_state only for the last step\n",
    "        # out: N, 28, 128\n",
    "        out = out[:, -1, :]\n",
    "        # out: N, 128\n",
    "        out = self.fc(out)\n",
    "        return out\n"
   ]
  },
  {
   "cell_type": "code",
   "execution_count": 8,
   "metadata": {},
   "outputs": [],
   "source": [
    "# GRU model\n",
    "class GRU(nn.Module):\n",
    "    def __init__(self, input_size, hidden_size, num_layers, num_classes):\n",
    "        super(GRU, self).__init__()\n",
    "        self.num_layers = num_layers\n",
    "        self.hidden_size = hidden_size\n",
    "        self.gru = nn.GRU(input_size, hidden_size, num_layers, batch_first=True) # treat the batch_size as the first dim\n",
    "        # x.shape -> (batch_size, seq, input_size)\n",
    "        self.fc = nn.Linear(hidden_size, num_classes)\n",
    "\n",
    "    def forward(self, x):\n",
    "        # rnn need 2 inputs: x and init_hidden\n",
    "        h0 = torch.zeros(self.num_layers, x.size(0), self.hidden_size).to(device)\n",
    "\n",
    "        out, _ = self.gru(x, h0)\n",
    "        # out: batch_size, seq_length, hidden_size\n",
    "        # decode the hidden_state only for the last step\n",
    "        # out: N, 28, 128\n",
    "        out = out[:, -1, :]\n",
    "        # out: N, 128\n",
    "        out = self.fc(out)\n",
    "        return out\n"
   ]
  },
  {
   "cell_type": "code",
   "execution_count": 9,
   "metadata": {},
   "outputs": [],
   "source": [
    "# LSTM model: needs additional cell state\n",
    "class LSTM(nn.Module):\n",
    "    def __init__(self, input_size, hidden_size, num_layers, num_classes):\n",
    "        super(LSTM, self).__init__()\n",
    "        self.num_layers = num_layers\n",
    "        self.hidden_size = hidden_size\n",
    "        self.lstm = nn.LSTM(input_size, hidden_size, num_layers, batch_first=True) # treat the batch_size as the first dim\n",
    "        # x.shape -> (batch_size, seq, input_size)\n",
    "        self.fc = nn.Linear(hidden_size, num_classes)\n",
    "\n",
    "    def forward(self, x):\n",
    "        # rnn need 2 inputs: x and init_hidden\n",
    "        h0 = torch.zeros(self.num_layers, x.size(0), self.hidden_size).to(device)\n",
    "        c0 = torch.zeros(self.num_layers, x.size(0), self.hidden_size).to(device)\n",
    "\n",
    "        out, _ = self.lstm(x, (h0, c0))\n",
    "        # out: batch_size, seq_length, hidden_size\n",
    "        # decode the hidden_state only for the last step\n",
    "        # out: N, 28, 128\n",
    "        out = out[:, -1, :]\n",
    "        # out: N, 128\n",
    "        out = self.fc(out)\n",
    "        return out\n"
   ]
  },
  {
   "cell_type": "code",
   "execution_count": 10,
   "metadata": {},
   "outputs": [],
   "source": [
    "rnn = LSTM(input_size, hidden_size, num_layers, num_classes).to(device)"
   ]
  },
  {
   "cell_type": "code",
   "execution_count": 11,
   "metadata": {},
   "outputs": [],
   "source": [
    "criterion = nn.CrossEntropyLoss()\n",
    "optimizer = torch.optim.Adam(rnn.parameters(), lr=learning_rate)\n",
    "\n",
    "n_total_steps = len(train_loader)"
   ]
  },
  {
   "cell_type": "code",
   "execution_count": 12,
   "metadata": {},
   "outputs": [
    {
     "name": "stdout",
     "output_type": "stream",
     "text": [
      "Epoch 1 / 2, Step [100 / 600], LOss: 0.7060\n",
      "Epoch 1 / 2, Step [200 / 600], LOss: 0.5439\n",
      "Epoch 1 / 2, Step [300 / 600], LOss: 0.5094\n",
      "Epoch 1 / 2, Step [400 / 600], LOss: 0.1605\n",
      "Epoch 1 / 2, Step [500 / 600], LOss: 0.1949\n",
      "Epoch 1 / 2, Step [600 / 600], LOss: 0.0979\n",
      "Epoch 2 / 2, Step [100 / 600], LOss: 0.1006\n",
      "Epoch 2 / 2, Step [200 / 600], LOss: 0.1996\n",
      "Epoch 2 / 2, Step [300 / 600], LOss: 0.1007\n",
      "Epoch 2 / 2, Step [400 / 600], LOss: 0.0347\n",
      "Epoch 2 / 2, Step [500 / 600], LOss: 0.2010\n",
      "Epoch 2 / 2, Step [600 / 600], LOss: 0.0421\n"
     ]
    }
   ],
   "source": [
    "# training loop\n",
    "\n",
    "for epoch in range(num_epochs):\n",
    "    for i, (images, labels) in enumerate(train_loader): \n",
    "        # batch_size, 28, 28, doesn't need a reshape\n",
    "        images = images.reshape(-1, sequence_length, input_size).to(device)\n",
    "        labels = labels.to(device)\n",
    "\n",
    "        #forward pass\n",
    "        output = rnn(images)\n",
    "        loss = criterion(output, labels)\n",
    "\n",
    "        optimizer.zero_grad()\n",
    "        loss.backward()\n",
    "        optimizer.step()\n",
    "\n",
    "        if (i+1) % batch_size == 0:\n",
    "            print(f'Epoch {epoch+1} / {num_epochs}, Step [{i+1} / {n_total_steps}], LOss: {loss.item():.4f}')\n"
   ]
  },
  {
   "cell_type": "code",
   "execution_count": 15,
   "metadata": {},
   "outputs": [
    {
     "name": "stdout",
     "output_type": "stream",
     "text": [
      "Accuracy: 97.44 %\n",
      "Accuracy of 0 - zero: 97.24489795918367 %\n",
      "Accuracy of 1 - one: 99.64757709251101 %\n",
      "Accuracy of 2 - two: 97.18992248062015 %\n",
      "Accuracy of 3 - three: 96.93069306930693 %\n",
      "Accuracy of 4 - four: 97.35234215885947 %\n",
      "Accuracy of 5 - five: 97.19730941704036 %\n",
      "Accuracy of 6 - six: 98.43423799582463 %\n",
      "Accuracy of 7 - seven: 96.40077821011673 %\n",
      "Accuracy of 8 - eight: 98.56262833675565 %\n",
      "Accuracy of 9 - nine: 95.24281466798811 %\n"
     ]
    }
   ],
   "source": [
    "# eval loop\n",
    "# prediction\n",
    "with torch.no_grad():\n",
    "    n_correct = 0\n",
    "    n_samples = 0\n",
    "    n_class_correct = [0 for i in range(10)]\n",
    "    n_class_samples = [0 for i in range(10)]\n",
    "    for images, labels in test_loader:\n",
    "        images = images.reshape(-1, sequence_length, input_size).to(device)\n",
    "        labels = labels.to(device)\n",
    "        outputs = rnn(images)\n",
    "\n",
    "        # max returns (value, index)\n",
    "        _, preds = torch.max(outputs, 1)\n",
    "        n_samples += labels.size(0) # labels: [batch_size, 1]\n",
    "        n_correct += (preds == labels).sum().item()\n",
    "\n",
    "        for i in range(batch_size):\n",
    "            label = labels[i]\n",
    "            pred = preds[i]\n",
    "            if label == pred :\n",
    "                n_class_correct[label] += 1\n",
    "            n_class_samples[label] += 1\n",
    "\n",
    "    acc = 100.0 * n_correct / n_samples\n",
    "    print(f'Accuracy: {acc} %')\n",
    "\n",
    "    for i in range(10):\n",
    "        acc = 100.0 * n_class_correct[i] / n_class_samples[i]\n",
    "        print(f'Accuracy of {train_dataset.classes[i]}: {acc} %')"
   ]
  }
 ],
 "metadata": {
  "kernelspec": {
   "display_name": "d2l",
   "language": "python",
   "name": "python3"
  },
  "language_info": {
   "codemirror_mode": {
    "name": "ipython",
    "version": 3
   },
   "file_extension": ".py",
   "mimetype": "text/x-python",
   "name": "python",
   "nbconvert_exporter": "python",
   "pygments_lexer": "ipython3",
   "version": "3.9.15"
  },
  "orig_nbformat": 4,
  "vscode": {
   "interpreter": {
    "hash": "d21ee89defff7085579ccbc45d3f7bf353eb099fd9123e86b61fb4fca6d154f2"
   }
  }
 },
 "nbformat": 4,
 "nbformat_minor": 2
}
