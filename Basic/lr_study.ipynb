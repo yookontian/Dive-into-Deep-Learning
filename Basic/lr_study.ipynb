{
 "cells": [
  {
   "attachments": {},
   "cell_type": "markdown",
   "metadata": {},
   "source": [
    "https://pytorch.org/docs/stable/optim.html"
   ]
  },
  {
   "cell_type": "code",
   "execution_count": 2,
   "metadata": {},
   "outputs": [],
   "source": [
    "import torch\n",
    "import torch.optim.lr_scheduler as lr_scheduler\n",
    "import torch.nn as nn\n",
    "\n",
    "device = torch.device('cuda')"
   ]
  },
  {
   "cell_type": "code",
   "execution_count": 3,
   "metadata": {},
   "outputs": [],
   "source": [
    "lr = 0.1\n",
    "model = nn.Linear(10, 1).to(device)"
   ]
  },
  {
   "cell_type": "code",
   "execution_count": 6,
   "metadata": {},
   "outputs": [],
   "source": [
    "optimizer = torch.optim.Adam(model.parameters(), lr=lr)"
   ]
  },
  {
   "cell_type": "code",
   "execution_count": 8,
   "metadata": {},
   "outputs": [
    {
     "name": "stdout",
     "output_type": "stream",
     "text": [
      "{'state': {}, 'param_groups': [{'lr': 0.0, 'betas': (0.9, 0.999), 'eps': 1e-08, 'weight_decay': 0, 'amsgrad': False, 'maximize': False, 'foreach': None, 'capturable': False, 'initial_lr': 0.1, 'params': [0, 1]}]}\n",
      "0.010000000000000002\n",
      "0.020000000000000004\n",
      "0.03\n",
      "0.04000000000000001\n",
      "0.05\n"
     ]
    }
   ],
   "source": [
    "lambda1 = lambda epoch: epoch / 10\n",
    "scheduler = lr_scheduler.LambdaLR(optimizer, lambda1)\n",
    "\n",
    "print(optimizer.state_dict())\n",
    "\n",
    "for epoch in range(5):\n",
    "    optimizer.step()\n",
    "    scheduler.step()\n",
    "    print(optimizer.state_dict()['param_groups'][0]['lr'])"
   ]
  },
  {
   "cell_type": "code",
   "execution_count": 9,
   "metadata": {},
   "outputs": [
    {
     "name": "stdout",
     "output_type": "stream",
     "text": [
      "{'state': {}, 'param_groups': [{'lr': 0.05, 'betas': (0.9, 0.999), 'eps': 1e-08, 'weight_decay': 0, 'amsgrad': False, 'maximize': False, 'foreach': None, 'capturable': False, 'initial_lr': 0.1, 'params': [0, 1]}]}\n",
      "0.05263157894736842\n",
      "0.11080332409972297\n",
      "0.3499052339991252\n",
      "1.4732851957857902\n",
      "7.754132609398896\n"
     ]
    }
   ],
   "source": [
    "lambda1 = lambda epoch: epoch / 0.95\n",
    "scheduler = lr_scheduler.MultiplicativeLR(optimizer, lambda1)\n",
    "\n",
    "print(optimizer.state_dict())\n",
    "\n",
    "for epoch in range(5):\n",
    "    optimizer.step()\n",
    "    scheduler.step()\n",
    "    print(optimizer.state_dict()['param_groups'][0]['lr'])"
   ]
  },
  {
   "cell_type": "code",
   "execution_count": 11,
   "metadata": {},
   "outputs": [
    {
     "name": "stdout",
     "output_type": "stream",
     "text": [
      "{'state': {}, 'param_groups': [{'lr': 7.754132609398898e-05, 'betas': (0.9, 0.999), 'eps': 1e-08, 'weight_decay': 0, 'amsgrad': False, 'maximize': False, 'foreach': None, 'capturable': False, 'initial_lr': 0.1, 'params': [0, 1]}]}\n",
      "7.754132609398898e-05\n",
      "7.754132609398897e-06\n",
      "7.754132609398897e-06\n",
      "7.754132609398898e-07\n",
      "7.754132609398898e-07\n",
      "7.754132609398898e-08\n",
      "7.754132609398898e-08\n",
      "7.754132609398898e-09\n"
     ]
    }
   ],
   "source": [
    "# lambda1 = lambda epoch: epoch / 0.95\n",
    "scheduler = lr_scheduler.StepLR(optimizer, step_size=2, gamma=0.1)\n",
    "\n",
    "print(optimizer.state_dict())\n",
    "\n",
    "for epoch in range(8):\n",
    "    optimizer.step()\n",
    "    scheduler.step()\n",
    "    print(optimizer.state_dict()['param_groups'][0]['lr'])"
   ]
  },
  {
   "attachments": {},
   "cell_type": "markdown",
   "metadata": {},
   "source": [
    "lr_scheduler.ReduceLROnPlateau: \n",
    "\n",
    "Reduce learning rate when a metric has stopped improving."
   ]
  }
 ],
 "metadata": {
  "kernelspec": {
   "display_name": "d2l",
   "language": "python",
   "name": "python3"
  },
  "language_info": {
   "codemirror_mode": {
    "name": "ipython",
    "version": 3
   },
   "file_extension": ".py",
   "mimetype": "text/x-python",
   "name": "python",
   "nbconvert_exporter": "python",
   "pygments_lexer": "ipython3",
   "version": "3.9.15"
  },
  "orig_nbformat": 4,
  "vscode": {
   "interpreter": {
    "hash": "d21ee89defff7085579ccbc45d3f7bf353eb099fd9123e86b61fb4fca6d154f2"
   }
  }
 },
 "nbformat": 4,
 "nbformat_minor": 2
}
