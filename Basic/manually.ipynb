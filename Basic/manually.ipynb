{
 "cells": [
  {
   "cell_type": "code",
   "execution_count": 1,
   "metadata": {},
   "outputs": [],
   "source": [
    "import numpy as np"
   ]
  },
  {
   "cell_type": "code",
   "execution_count": 2,
   "metadata": {},
   "outputs": [],
   "source": [
    "\"\"\" f = w * x\n",
    "    f = 2 * x \"\"\"\n",
    "\n",
    "X = np.array([1, 2, 3, 4], dtype=np.float32)\n",
    "Y = np.array([2, 4, 6, 8], dtype=np.float32)\n",
    "\n",
    "w = 0.0"
   ]
  },
  {
   "cell_type": "code",
   "execution_count": 3,
   "metadata": {},
   "outputs": [],
   "source": [
    "\"\"\" model prediction \"\"\"\n",
    "\n",
    "def forward(x):\n",
    "    return w * x\n",
    "\n",
    "\"\"\"loss = MSE\"\"\"\n",
    "\n",
    "def loss(y, y_pred):\n",
    "    return ((y_pred - y)**2).mean()\n",
    "\n",
    "\"\"\"gradient\n",
    "MSE = 1/N * (w * x - y)**2\n",
    "dJ/dw = 1/n 2x (w * x - y)\"\"\"\n",
    "\n",
    "def gradient(x, y, y_pred):\n",
    "    return np.mean(2*x*(y_pred - y))\n"
   ]
  },
  {
   "cell_type": "code",
   "execution_count": 4,
   "metadata": {},
   "outputs": [],
   "source": [
    "\"\"\"Traininig\"\"\"\n",
    "\n",
    "lr = 0.01\n",
    "epoch = 30"
   ]
  },
  {
   "cell_type": "code",
   "execution_count": 5,
   "metadata": {},
   "outputs": [
    {
     "name": "stdout",
     "output_type": "stream",
     "text": [
      "Prediction before training: f(5) = 0.000\n",
      "epoch 1: w = 0.300, loss = 30.00000000\n",
      "epoch 2: w = 0.555, loss = 21.67499924\n",
      "epoch 3: w = 0.772, loss = 15.66018677\n",
      "epoch 4: w = 0.956, loss = 11.31448555\n",
      "epoch 5: w = 1.113, loss = 8.17471600\n",
      "epoch 6: w = 1.246, loss = 5.90623236\n",
      "epoch 7: w = 1.359, loss = 4.26725292\n",
      "epoch 8: w = 1.455, loss = 3.08308983\n",
      "epoch 9: w = 1.537, loss = 2.22753215\n",
      "epoch 10: w = 1.606, loss = 1.60939264\n",
      "epoch 11: w = 1.665, loss = 1.16278565\n",
      "epoch 12: w = 1.716, loss = 0.84011310\n",
      "epoch 13: w = 1.758, loss = 0.60698175\n",
      "epoch 14: w = 1.794, loss = 0.43854395\n",
      "epoch 15: w = 1.825, loss = 0.31684822\n",
      "epoch 16: w = 1.851, loss = 0.22892293\n",
      "epoch 17: w = 1.874, loss = 0.16539653\n",
      "epoch 18: w = 1.893, loss = 0.11949898\n",
      "epoch 19: w = 1.909, loss = 0.08633806\n",
      "epoch 20: w = 1.922, loss = 0.06237932\n",
      "epoch 21: w = 1.934, loss = 0.04506905\n",
      "epoch 22: w = 1.944, loss = 0.03256244\n",
      "epoch 23: w = 1.952, loss = 0.02352631\n",
      "epoch 24: w = 1.960, loss = 0.01699772\n",
      "epoch 25: w = 1.966, loss = 0.01228092\n",
      "epoch 26: w = 1.971, loss = 0.00887291\n",
      "epoch 27: w = 1.975, loss = 0.00641072\n",
      "epoch 28: w = 1.979, loss = 0.00463173\n",
      "epoch 29: w = 1.982, loss = 0.00334642\n",
      "epoch 30: w = 1.985, loss = 0.00241778\n",
      "Prediction after training: f(5) = 9.924\n"
     ]
    }
   ],
   "source": [
    "# print(f'Prediction before training: f(5) = {forward(5):.3f}')\n",
    "print(f'Prediction before training: f(5) = {forward(5):.3f}')\n",
    "\n",
    "for i in range(epoch):\n",
    "    # prediction\n",
    "    y_pred = forward(X)\n",
    "\n",
    "    # loss\n",
    "    l = loss(Y, y_pred)\n",
    "\n",
    "    # gradient\n",
    "    dw = gradient(X, Y, y_pred)\n",
    "\n",
    "    # update weight\n",
    "    w -= lr * dw\n",
    "\n",
    "    if i % 1 == 0:\n",
    "        print(f'epoch {i + 1}: w = {w:.3f}, loss = {l:.8f}')\n",
    "\n",
    "\n",
    "print(f'Prediction after training: f(5) = {forward(5):.3f}')"
   ]
  }
 ],
 "metadata": {
  "kernelspec": {
   "display_name": "d2l",
   "language": "python",
   "name": "python3"
  },
  "language_info": {
   "codemirror_mode": {
    "name": "ipython",
    "version": 3
   },
   "file_extension": ".py",
   "mimetype": "text/x-python",
   "name": "python",
   "nbconvert_exporter": "python",
   "pygments_lexer": "ipython3",
   "version": "3.9.15"
  },
  "orig_nbformat": 4,
  "vscode": {
   "interpreter": {
    "hash": "d21ee89defff7085579ccbc45d3f7bf353eb099fd9123e86b61fb4fca6d154f2"
   }
  }
 },
 "nbformat": 4,
 "nbformat_minor": 2
}
