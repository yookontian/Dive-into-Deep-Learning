{
 "cells": [
  {
   "attachments": {},
   "cell_type": "markdown",
   "metadata": {},
   "source": [
    "RNNs are a class of neural networks that allow previous outputs to be useed as inputs while having hidden states\n",
    "\n",
    "to classify names to countries"
   ]
  },
  {
   "cell_type": "code",
   "execution_count": 2,
   "metadata": {},
   "outputs": [],
   "source": [
    "import io\n",
    "import os\n",
    "import unicodedata\n",
    "import string\n",
    "import glob\n",
    "\n",
    "import torch\n",
    "import random"
   ]
  },
  {
   "attachments": {},
   "cell_type": "markdown",
   "metadata": {},
   "source": [
    "# utils"
   ]
  },
  {
   "cell_type": "code",
   "execution_count": 3,
   "metadata": {},
   "outputs": [],
   "source": [
    "# alphabet small and capital lettes + \" .,;\"\n",
    "\n",
    "ALL_LETTERS = string.ascii_letters + \" .,;\"\n",
    "N_LETTERS = len(ALL_LETTERS)"
   ]
  },
  {
   "cell_type": "code",
   "execution_count": 4,
   "metadata": {},
   "outputs": [],
   "source": [
    "# translate unicode string to plain ASCII\n",
    "\n",
    "def unicode_to_ascii(s):\n",
    "    return ''.join(\n",
    "        c for c in unicodedata.normalize('NFD', s)\n",
    "        if unicodedata.category(c) != 'Mn'\n",
    "        and c in ALL_LETTERS\n",
    "    )"
   ]
  },
  {
   "cell_type": "code",
   "execution_count": 5,
   "metadata": {},
   "outputs": [
    {
     "data": {
      "text/plain": [
       "'GHNCcghsdfdRomao'"
      ]
     },
     "execution_count": 5,
     "metadata": {},
     "output_type": "execute_result"
    }
   ],
   "source": [
    "unicode_to_ascii(f\"&^%*GHNCcghsdfdら为Romão\")"
   ]
  },
  {
   "cell_type": "code",
   "execution_count": 6,
   "metadata": {},
   "outputs": [],
   "source": [
    "def load_data():\n",
    "    # build the category_lines dictionary, a list of names per language\n",
    "    category_lines = {}\n",
    "    all_categories = []\n",
    "\n",
    "    def find_files(path):\n",
    "        return glob.glob(path)  # Return a list of paths matching a pathname pattern.\n",
    "    \n",
    "    # read a file and split into lines\n",
    "    def read_lines(filename):\n",
    "        lines = io.open(filename, encoding='utf-8').read().strip().split('\\n')\n",
    "        return [unicode_to_ascii(line) for line in lines]\n",
    "\n",
    "    for filename in find_files('data/data_rnn/names/*.txt'):\n",
    "        category = os.path.splitext(os.path.basename(filename))[0]\n",
    "        all_categories.append(category)\n",
    "\n",
    "        lines = read_lines(filename)\n",
    "        category_lines[category] = lines\n",
    "    return category_lines, all_categories"
   ]
  },
  {
   "cell_type": "code",
   "execution_count": 7,
   "metadata": {},
   "outputs": [],
   "source": [
    "names, categories = load_data()"
   ]
  },
  {
   "cell_type": "code",
   "execution_count": 8,
   "metadata": {},
   "outputs": [],
   "source": [
    "# position of the letter in ALL_LETTERS\n",
    "def letter_to_index(letter):\n",
    "    return ALL_LETTERS.find(letter)"
   ]
  },
  {
   "cell_type": "code",
   "execution_count": 9,
   "metadata": {},
   "outputs": [],
   "source": [
    "def letter_to_tensor(letter):\n",
    "    tensor = torch.zeros(1, N_LETTERS)\n",
    "    tensor[0][letter_to_index(letter)] = 1\n",
    "    return tensor"
   ]
  },
  {
   "cell_type": "code",
   "execution_count": 10,
   "metadata": {},
   "outputs": [],
   "source": [
    "# Translate a line into a <ine_length x 1 x n_letters>,\n",
    "# or an array of one-hot letter vectors\n",
    "\n",
    "def line_to_tensor(line):\n",
    "    tensor = torch.zeros(len(line), 1, N_LETTERS)\n",
    "    for i, letter in enumerate(line):\n",
    "        tensor[i][0][letter_to_index(letter)] = 1\n",
    "    return tensor"
   ]
  },
  {
   "cell_type": "code",
   "execution_count": 11,
   "metadata": {},
   "outputs": [],
   "source": [
    "def random_training_example(category_lines, all_categories):\n",
    "    \n",
    "    def random_choice(a):\n",
    "        random_idx = random.randint(0, len(a) - 1)\n",
    "        return a[random_idx]\n",
    "    \n",
    "    category = random_choice(all_categories)\n",
    "    line = random_choice(category_lines[category])\n",
    "    category_tensor = torch.tensor([all_categories.index(category)], dtype=torch.long)\n",
    "    line_tensor = line_to_tensor(line)\n",
    "    return category, line, category_tensor, line_tensor"
   ]
  },
  {
   "attachments": {},
   "cell_type": "markdown",
   "metadata": {},
   "source": [
    "# RNN"
   ]
  },
  {
   "cell_type": "code",
   "execution_count": 12,
   "metadata": {},
   "outputs": [],
   "source": [
    "import torch.nn as nn\n",
    "import matplotlib.pyplot as plt"
   ]
  },
  {
   "cell_type": "code",
   "execution_count": 13,
   "metadata": {},
   "outputs": [],
   "source": [
    "class RNN(nn.Module):\n",
    "    # from scratch\n",
    "    def __init__(self, input_size, hidden_size, output_size):\n",
    "        super(RNN, self).__init__()\n",
    "\n",
    "        self.hidden_size = hidden_size\n",
    "        # combine (concatenate) the input vector and hidden vector\n",
    "        self.i2h = nn.Linear(input_size + hidden_size, hidden_size) # input to hidden\n",
    "        self.i2o = nn.Linear(input_size + hidden_size, output_size) # input to output\n",
    "        self.softmax = nn.LogSoftmax(dim=1) # input shape: 1 x 57, take the second dim\n",
    "\n",
    "    def forward(self, input_tensor, hidden_tensor):\n",
    "        combined_tensor = torch.cat((input_tensor, hidden_tensor), 1)   # concactenate in dim=1\n",
    "\n",
    "        hidden = self.i2h(combined_tensor)\n",
    "        output = self.i2o(combined_tensor)\n",
    "        output = self.softmax(output)\n",
    "        return output, hidden\n",
    "        \n",
    "    def init_hidden(self):\n",
    "        return torch.zeros(1, self.hidden_size)\n",
    "        "
   ]
  },
  {
   "cell_type": "code",
   "execution_count": 14,
   "metadata": {},
   "outputs": [],
   "source": [
    "names_dict, categories = load_data()"
   ]
  },
  {
   "cell_type": "code",
   "execution_count": 15,
   "metadata": {},
   "outputs": [],
   "source": [
    "n_categories = len(categories)\n"
   ]
  },
  {
   "cell_type": "code",
   "execution_count": 16,
   "metadata": {},
   "outputs": [
    {
     "data": {
      "text/plain": [
       "(['Ang', 'AuYong', 'Bai'], 18, ['Dutch', 'Polish', 'Arabic'])"
      ]
     },
     "execution_count": 16,
     "metadata": {},
     "output_type": "execute_result"
    }
   ],
   "source": [
    "names_dict['Chinese'][:3], n_categories, categories[:3]"
   ]
  },
  {
   "cell_type": "code",
   "execution_count": 17,
   "metadata": {},
   "outputs": [],
   "source": [
    "device = torch.device('cuda')\n",
    "n_hidden = 128\n",
    "rnn = RNN(N_LETTERS, n_hidden, n_categories).to(device)"
   ]
  },
  {
   "cell_type": "code",
   "execution_count": 20,
   "metadata": {},
   "outputs": [],
   "source": [
    "# one step try\n",
    "\n",
    "input_tensor = letter_to_tensor(\"A\")\n",
    "hidden_tensor = rnn.init_hidden()\n",
    "input_tensor = input_tensor.to(device)\n",
    "hidden_tensor = hidden_tensor.to(device)"
   ]
  },
  {
   "cell_type": "code",
   "execution_count": 21,
   "metadata": {},
   "outputs": [
    {
     "name": "stdout",
     "output_type": "stream",
     "text": [
      "torch.Size([1, 18])\n",
      "torch.Size([1, 128])\n"
     ]
    }
   ],
   "source": [
    "output, next_hidden = rnn(input_tensor, hidden_tensor)\n",
    "print(output.size())\n",
    "print(next_hidden.size())"
   ]
  },
  {
   "cell_type": "code",
   "execution_count": 22,
   "metadata": {},
   "outputs": [
    {
     "name": "stdout",
     "output_type": "stream",
     "text": [
      "torch.Size([1, 18])\n",
      "torch.Size([1, 128])\n"
     ]
    }
   ],
   "source": [
    "# whole seq/name\n",
    "\n",
    "input_tensor = line_to_tensor(\"Yooko\")\n",
    "input_tensor = input_tensor.to(device)\n",
    "hidden_tensor = rnn.init_hidden()\n",
    "hidden_tensor = hidden_tensor.to(device)\n",
    "\n",
    "output, next_hidden = rnn(input_tensor[0], hidden_tensor)\n",
    "print(output.size())\n",
    "print(next_hidden.size())"
   ]
  },
  {
   "cell_type": "code",
   "execution_count": 23,
   "metadata": {},
   "outputs": [],
   "source": [
    "def category_from_output(output):\n",
    "    category_idx = torch.argmax(output).item()\n",
    "    return categories[category_idx]"
   ]
  },
  {
   "cell_type": "code",
   "execution_count": 24,
   "metadata": {},
   "outputs": [
    {
     "data": {
      "text/plain": [
       "'Chinese'"
      ]
     },
     "execution_count": 24,
     "metadata": {},
     "output_type": "execute_result"
    }
   ],
   "source": [
    "category_from_output(output)"
   ]
  },
  {
   "attachments": {},
   "cell_type": "markdown",
   "metadata": {},
   "source": [
    "# train process"
   ]
  },
  {
   "cell_type": "code",
   "execution_count": 25,
   "metadata": {},
   "outputs": [],
   "source": [
    "criterion = nn.NLLLoss()    # negative likelihoo loss fuc\n",
    "\n",
    "learning_rate = 0.005\n",
    "\n",
    "optimizer = torch.optim.SGD(rnn.parameters(), lr=learning_rate)"
   ]
  },
  {
   "cell_type": "code",
   "execution_count": 27,
   "metadata": {},
   "outputs": [],
   "source": [
    "# one training step\n",
    "\n",
    "def train(line_tensor, category_tensor):\n",
    "    line_tensor = line_tensor.to(device)\n",
    "    category_tensor = category_tensor.to(device)\n",
    "    \n",
    "    hidden = rnn.init_hidden().to(device)\n",
    "\n",
    "    for i in range(line_tensor.size()[0]):  # length of a name\n",
    "\n",
    "        output, hidden = rnn(line_tensor[i], hidden)\n",
    "\n",
    "    loss = criterion(output, category_tensor)\n",
    "\n",
    "    optimizer.zero_grad()\n",
    "    loss.backward()\n",
    "    optimizer.step()\n",
    "\n",
    "    return output, loss.item()"
   ]
  },
  {
   "cell_type": "code",
   "execution_count": 28,
   "metadata": {},
   "outputs": [
    {
     "name": "stdout",
     "output_type": "stream",
     "text": [
      "4999 4.9990 2.4812 Noguerra / Japanese WRONG (should be Spanish)\n",
      "9999 9.9990 1.8439 Minami / Italian WRONG (should be Japanese)\n",
      "14999 14.9990 2.3253 Jacques / Dutch WRONG (should be French)\n",
      "19999 19.9990 2.1384 Favero / Portuguese WRONG (should be Italian)\n",
      "24999 24.9990 1.9245 De santigo / Italian WRONG (should be Portuguese)\n",
      "29999 29.9990 0.7111 Tong / Vietnamese CORRECT\n",
      "34999 34.9990 0.7465 Nishiwaki / Polish WRONG (should be Japanese)\n",
      "39999 39.9990 0.8964 Telis / Greek CORRECT\n",
      "44999 44.9990 2.6750 Knowler / German WRONG (should be English)\n",
      "49999 49.9990 0.1631 Tsujimoto / Japanese CORRECT\n",
      "54999 54.9990 1.3239 Menendez / Spanish CORRECT\n",
      "59999 59.9990 0.3762 Sfakianos / Greek CORRECT\n",
      "64999 64.9990 0.5755 Sakelaris / Greek CORRECT\n",
      "69999 69.9990 0.6016 Lichko / Russian CORRECT\n",
      "74999 74.9990 2.7348 Sleiman / Irish WRONG (should be Arabic)\n",
      "79999 79.9990 0.0524 Karnoupakis / Greek CORRECT\n",
      "84999 84.9990 0.0044 Ishiyama / Japanese CORRECT\n",
      "89999 89.9990 3.0512 Weigand / English WRONG (should be German)\n",
      "94999 94.9990 0.4519 Luc / Vietnamese CORRECT\n",
      "99999 99.9990 1.5236 Ruscoe / Scottish WRONG (should be English)\n"
     ]
    },
    {
     "data": {
      "image/png": "[encoded data removed]",
      "text/plain": [
       "<Figure size 640x480 with 1 Axes>"
      ]
     },
     "metadata": {},
     "output_type": "display_data"
    }
   ],
   "source": [
    "current_loss = 0.0\n",
    "all_losses = []\n",
    "plot_steps, print_steps = 1000, 5000\n",
    "n_iters = 100000\n",
    "for i in range(n_iters):\n",
    "    category, line, category_tensor, line_tensor = random_training_example(names_dict, all_categories=categories)\n",
    "\n",
    "    output, loss = train(line_tensor, category_tensor)\n",
    "    current_loss += loss\n",
    "\n",
    "    if (i+1) % plot_steps == 0:\n",
    "        all_losses.append(current_loss / plot_steps)\n",
    "        current_loss = 0.0\n",
    "\n",
    "    if (i+1) % print_steps == 0:\n",
    "        pred = category_from_output(output)\n",
    "        correct = \"CORRECT\" if pred == category else f\"WRONG (should be {category})\"\n",
    "        print(f\"{i} {i / n_iters*100:.4f} {loss:.4f} {line} / {pred} {correct}\")\n",
    "\n",
    "\n",
    "\n",
    "plt.figure()\n",
    "plt.plot(all_losses)\n",
    "plt.show()"
   ]
  },
  {
   "cell_type": "code",
   "execution_count": 31,
   "metadata": {},
   "outputs": [
    {
     "name": "stdout",
     "output_type": "stream",
     "text": [
      "\n",
      " > Santa\n",
      "Czech\n",
      "\n",
      " > Sam\n",
      "Korean\n",
      "\n",
      " > Kim\n",
      "Korean\n",
      "\n",
      " > Jack\n",
      "Korean\n",
      "\n",
      " > Sung\n",
      "Chinese\n",
      "\n",
      " > Kinstov\n",
      "Russian\n",
      "\n",
      " > Patrick\n",
      "Czech\n",
      "\n",
      " > Jerry\n",
      "English\n",
      "\n",
      " > Adam\n",
      "Irish\n"
     ]
    }
   ],
   "source": [
    "# predict an input\n",
    "\n",
    "def predict(input_line):\n",
    "    print(f\"\\n > {input_line}\")\n",
    "    with torch.no_grad():\n",
    "        line_tensor = line_to_tensor(input_line).to(device)\n",
    "        hidden = rnn.init_hidden().to(device)\n",
    "\n",
    "        for i in range(line_tensor.size()[0]):  # length of a name\n",
    "            output, hidden = rnn(line_tensor[i], hidden)\n",
    "\n",
    "        pred = category_from_output(output)\n",
    "        print(f\"{pred}\")\n",
    "\n",
    "while True:\n",
    "    sentence = input(\"Input:\")\n",
    "    if sentence == \"quit\":\n",
    "        break\n",
    "\n",
    "    predict(sentence)"
   ]
  }
 ],
 "metadata": {
  "kernelspec": {
   "display_name": "d2l",
   "language": "python",
   "name": "python3"
  },
  "language_info": {
   "codemirror_mode": {
    "name": "ipython",
    "version": 3
   },
   "file_extension": ".py",
   "mimetype": "text/x-python",
   "name": "python",
   "nbconvert_exporter": "python",
   "pygments_lexer": "ipython3",
   "version": "3.9.15"
  },
  "orig_nbformat": 4,
  "vscode": {
   "interpreter": {
    "hash": "d21ee89defff7085579ccbc45d3f7bf353eb099fd9123e86b61fb4fca6d154f2"
   }
  }
 },
 "nbformat": 4,
 "nbformat_minor": 2
}
