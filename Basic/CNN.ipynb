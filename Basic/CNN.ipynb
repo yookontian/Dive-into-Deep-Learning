{
 "cells": [
  {
   "attachments": {},
   "cell_type": "markdown",
   "metadata": {},
   "source": [
    "CIFAR-10 dataset, 10 classes with different viecles and animals\n",
    "\n",
    "Convolutional Neural Networks\n",
    "\n",
    "Structure be like:\n",
    "\n",
    "CONV RELU CONV POOL CONV RELU CONV RELU POOL FC\n",
    "\n",
    "Initial image * Filter = Resulting image\n",
    "\n",
    "Max Pooling: A way to compress the image maybe from 100x100 to 10x10"
   ]
  },
  {
   "cell_type": "code",
   "execution_count": 1,
   "metadata": {},
   "outputs": [],
   "source": [
    "import torch\n",
    "import torch.nn as nn\n",
    "import torch.nn.functional as F\n",
    "import torchvision\n",
    "import torchvision.transforms as transforms\n",
    "import matplotlib.pylab as plt\n",
    "import numpy as np\n",
    "\n",
    "device = torch.device('cuda')"
   ]
  },
  {
   "cell_type": "code",
   "execution_count": 2,
   "metadata": {},
   "outputs": [],
   "source": [
    "# hyperpara\n",
    "\n",
    "num_epochs = 4\n",
    "batch_size = 4\n",
    "learning_rate = 0.001"
   ]
  },
  {
   "cell_type": "code",
   "execution_count": 3,
   "metadata": {},
   "outputs": [
    {
     "name": "stdout",
     "output_type": "stream",
     "text": [
      "Downloading https://www.cs.toronto.edu/~kriz/cifar-10-python.tar.gz to ./data/cifar-10-python.tar.gz\n"
     ]
    },
    {
     "data": {
      "application/vnd.jupyter.widget-view+json": {
       "model_id": "8ca48bf9bc3b4b1ebe0e953ba2fbf9b1",
       "version_major": 2,
       "version_minor": 0
      },
      "text/plain": [
       "  0%|          | 0/170498071 [00:00<?, ?it/s]"
      ]
     },
     "metadata": {},
     "output_type": "display_data"
    },
    {
     "name": "stdout",
     "output_type": "stream",
     "text": [
      "Extracting ./data/cifar-10-python.tar.gz to ./data\n",
      "Files already downloaded and verified\n"
     ]
    }
   ],
   "source": [
    "transform = transforms.Compose(\n",
    "    [transforms.ToTensor(),\n",
    "     transforms.Normalize((0.5, 0.5, 0.5), (0.5, 0.5, 0.5))])\n",
    "\n",
    "# CIFAR10: 60000 32x32 color images in 10 classes, with 6000 images per class\n",
    "train_dataset = torchvision.datasets.CIFAR10(root='./data', train=True,\n",
    "                                        download=True, transform=transform)\n",
    "\n",
    "test_dataset = torchvision.datasets.CIFAR10(root='./data', train=False,\n",
    "                                       download=True, transform=transform)\n",
    "\n",
    "train_loader = torch.utils.data.DataLoader(train_dataset, batch_size=batch_size,\n",
    "                                          shuffle=True)\n",
    "\n",
    "test_loader = torch.utils.data.DataLoader(test_dataset, batch_size=batch_size,\n",
    "                                         shuffle=False)"
   ]
  },
  {
   "cell_type": "code",
   "execution_count": 4,
   "metadata": {},
   "outputs": [],
   "source": [
    "classes = ('plane', 'car', 'bird', 'cat',\n",
    "           'deer', 'dog', 'frog', 'horse', 'ship', 'truck')"
   ]
  },
  {
   "cell_type": "code",
   "execution_count": 5,
   "metadata": {},
   "outputs": [],
   "source": [
    "def imshow(img):\n",
    "    img = img / 2 + 0.5  # unnormalize\n",
    "    npimg = img.numpy()\n",
    "    plt.imshow(np.transpose(npimg, (1, 2, 0)))\n",
    "    plt.show()"
   ]
  },
  {
   "cell_type": "code",
   "execution_count": 11,
   "metadata": {},
   "outputs": [
    {
     "data": {
      "image/png": "[encoded data removed]",
      "text/plain": [
       "<Figure size 640x480 with 1 Axes>"
      ]
     },
     "metadata": {},
     "output_type": "display_data"
    }
   ],
   "source": [
    "# get some random training images\n",
    "dataiter = iter(train_loader)\n",
    "images, labels = next(dataiter)\n",
    "\n",
    "# show images\n",
    "imshow(torchvision.utils.make_grid(images))"
   ]
  },
  {
   "cell_type": "code",
   "execution_count": 13,
   "metadata": {},
   "outputs": [
    {
     "data": {
      "text/plain": [
       "torch.Size([4, 3, 32, 32])"
      ]
     },
     "execution_count": 13,
     "metadata": {},
     "output_type": "execute_result"
    }
   ],
   "source": [
    "images.shape\n",
    "# 4 = batch_size, 3 = color channels, 32x32 = img size"
   ]
  },
  {
   "cell_type": "code",
   "execution_count": 23,
   "metadata": {},
   "outputs": [
    {
     "name": "stdout",
     "output_type": "stream",
     "text": [
      "x:  torch.Size([4, 6, 28, 28])\n",
      "xx:  torch.Size([4, 6, 14, 14])\n",
      "xxx:  torch.Size([4, 16, 10, 10])\n",
      "xxxx:  torch.Size([4, 16, 5, 5])\n"
     ]
    }
   ],
   "source": [
    "# play with conv layer\n",
    "\n",
    "conv1 = nn.Conv2d(3, 6, 5)\n",
    "pool = nn.MaxPool2d(2, 2)\n",
    "conv2 = nn.Conv2d(6, 16, 5)\n",
    "x = conv1(images)\n",
    "print(\"x: \", x.shape)\n",
    "# 28 = ((Width - Filter + 2*Padding) / Stride )+1 = ((32 - 5 + 2*0) / 1) + 1\n",
    "xx = pool(x)\n",
    "print(\"xx: \", xx.shape)\n",
    "# 14 = 28 / 2\n",
    "xxx = conv2(xx)\n",
    "print(\"xxx: \", xxx.shape)\n",
    "# 10 = ((14 - 5 + 2*0) / 1) + 1\n",
    "xxxx = pool(xxx)\n",
    "print(\"xxxx: \", xxxx.shape)\n",
    "# 5 = 10 / 2"
   ]
  },
  {
   "cell_type": "code",
   "execution_count": 29,
   "metadata": {},
   "outputs": [],
   "source": [
    "class net(nn.Module):\n",
    "    def __init__(self, in_channels=3, num_classes=10):\n",
    "        super(net,self).__init__()\n",
    "        self.con1 = nn.Conv2d(in_channels=in_channels, out_channels=6, kernel_size=5)\n",
    "        self.pool = nn.MaxPool2d(2, 2)\n",
    "        self.con2 = nn.Conv2d(in_channels=6, out_channels=16, kernel_size=5)\n",
    "        self.fc1 = nn.Linear(16*5*5, 120)   # need flatten\n",
    "        self.fc2 = nn.Linear(120, 84)\n",
    "        self.fc3 = nn.Linear(84, num_classes)\n",
    "\n",
    "    def forward(self, x):\n",
    "        x = F.relu(self.con1(x))\n",
    "        x = self.pool(x)\n",
    "        x = F.relu(self.con2(x))\n",
    "        x = self.pool(x)\n",
    "        x = x.view(-1, 16*5*5)  # flatten\n",
    "        x = F.relu(self.fc1(x))\n",
    "        x = F.relu(self.fc2(x))\n",
    "        x = self.fc3(x)\n",
    "        return x\n",
    "        \n",
    "model = net().to(device)"
   ]
  },
  {
   "cell_type": "code",
   "execution_count": 30,
   "metadata": {},
   "outputs": [],
   "source": [
    "criterion = nn.CrossEntropyLoss()\n",
    "optimizer = torch.optim.SGD(model.parameters(), lr=learning_rate)"
   ]
  },
  {
   "cell_type": "code",
   "execution_count": 31,
   "metadata": {},
   "outputs": [],
   "source": [
    "n_total_steps = len(train_loader)"
   ]
  },
  {
   "cell_type": "code",
   "execution_count": 32,
   "metadata": {},
   "outputs": [
    {
     "name": "stdout",
     "output_type": "stream",
     "text": [
      "Epoch 1/ 4, StEp 2000/ 12500, Loss: 2.2613\n",
      "Epoch 1/ 4, StEp 4000/ 12500, Loss: 2.3083\n",
      "Epoch 1/ 4, StEp 6000/ 12500, Loss: 2.3232\n",
      "Epoch 1/ 4, StEp 8000/ 12500, Loss: 2.2797\n",
      "Epoch 1/ 4, StEp 10000/ 12500, Loss: 2.1751\n",
      "Epoch 1/ 4, StEp 12000/ 12500, Loss: 2.1037\n",
      "Epoch 2/ 4, StEp 2000/ 12500, Loss: 2.2198\n",
      "Epoch 2/ 4, StEp 4000/ 12500, Loss: 1.8309\n",
      "Epoch 2/ 4, StEp 6000/ 12500, Loss: 2.1505\n",
      "Epoch 2/ 4, StEp 8000/ 12500, Loss: 1.0579\n",
      "Epoch 2/ 4, StEp 10000/ 12500, Loss: 1.5682\n",
      "Epoch 2/ 4, StEp 12000/ 12500, Loss: 1.3042\n",
      "Epoch 3/ 4, StEp 2000/ 12500, Loss: 1.4885\n",
      "Epoch 3/ 4, StEp 4000/ 12500, Loss: 1.3471\n",
      "Epoch 3/ 4, StEp 6000/ 12500, Loss: 1.8615\n",
      "Epoch 3/ 4, StEp 8000/ 12500, Loss: 1.8601\n",
      "Epoch 3/ 4, StEp 10000/ 12500, Loss: 1.7416\n",
      "Epoch 3/ 4, StEp 12000/ 12500, Loss: 1.2317\n",
      "Epoch 4/ 4, StEp 2000/ 12500, Loss: 1.0485\n",
      "Epoch 4/ 4, StEp 4000/ 12500, Loss: 2.0533\n",
      "Epoch 4/ 4, StEp 6000/ 12500, Loss: 0.8914\n",
      "Epoch 4/ 4, StEp 8000/ 12500, Loss: 0.8369\n",
      "Epoch 4/ 4, StEp 10000/ 12500, Loss: 1.6778\n",
      "Epoch 4/ 4, StEp 12000/ 12500, Loss: 1.1192\n",
      "Finished Training\n"
     ]
    }
   ],
   "source": [
    "for epoch in range(num_epochs):\n",
    "    for i, (images, labels) in enumerate(train_loader):\n",
    "        # origin shape: [4, 3, 32, 32] -> [4, 3, 1024]\n",
    "        # input_layer: 3 input channels, 6 output channels, 5 kernel size\n",
    "\n",
    "        images = images.to(device)\n",
    "        labels = labels.to(device)\n",
    "\n",
    "        # forward pass\n",
    "        outputs = model(images)\n",
    "        loss = criterion(outputs, labels)\n",
    "\n",
    "        # backward pass\n",
    "        optimizer.zero_grad()\n",
    "        loss.backward()\n",
    "        optimizer.step()\n",
    "\n",
    "        if (i+1) % 2000 ==0:\n",
    "            print(f'Epoch {epoch+1}/ {num_epochs}, StEp {i+1}/ {n_total_steps}, Loss: {loss.item():.4f}')\n",
    "\n",
    "print(\"Finished Training\")\n"
   ]
  },
  {
   "cell_type": "code",
   "execution_count": 43,
   "metadata": {},
   "outputs": [
    {
     "name": "stdout",
     "output_type": "stream",
     "text": [
      "Accuracy: 46.6 %\n",
      "Accuracy of plane: 47.5 %\n",
      "Accuracy of car: 59.8 %\n",
      "Accuracy of bird: 16.8 %\n",
      "Accuracy of cat: 34.9 %\n",
      "Accuracy of deer: 40.3 %\n",
      "Accuracy of dog: 39.0 %\n",
      "Accuracy of frog: 65.5 %\n",
      "Accuracy of horse: 52.4 %\n",
      "Accuracy of ship: 52.8 %\n",
      "Accuracy of truck: 57.0 %\n"
     ]
    }
   ],
   "source": [
    "# prediction\n",
    "\n",
    "with torch.no_grad():\n",
    "    n_correct = 0\n",
    "    n_samples = 0\n",
    "    n_class_correct = [0 for i in range(10)]\n",
    "    n_class_samples = [0 for i in range(10)]\n",
    "    for images, labels in test_loader:\n",
    "        images = images.to(device)\n",
    "        labels = labels.to(device)\n",
    "        outputs = model(images)\n",
    "\n",
    "        # max returns (value, index)\n",
    "        _, preds = torch.max(outputs, 1)\n",
    "        n_samples += labels.size(0) # labels: [batch_size, 1]\n",
    "        n_correct += (preds == labels).sum().item()\n",
    "\n",
    "        for i in range(batch_size):\n",
    "            label = labels[i]\n",
    "            pred = preds[i]\n",
    "            if label == pred :\n",
    "                n_class_correct[label] += 1\n",
    "            n_class_samples[label] += 1\n",
    "\n",
    "    acc = 100.0 * n_correct / n_samples\n",
    "    print(f'Accuracy: {acc} %')\n",
    "\n",
    "    for i in range(10):\n",
    "        acc = 100.0 * n_class_correct[i] / n_class_samples[i]\n",
    "        print(f'Accuracy of {classes[i]}: {acc} %')"
   ]
  }
 ],
 "metadata": {
  "kernelspec": {
   "display_name": "d2l",
   "language": "python",
   "name": "python3"
  },
  "language_info": {
   "codemirror_mode": {
    "name": "ipython",
    "version": 3
   },
   "file_extension": ".py",
   "mimetype": "text/x-python",
   "name": "python",
   "nbconvert_exporter": "python",
   "pygments_lexer": "ipython3",
   "version": "3.9.15"
  },
  "orig_nbformat": 4,
  "vscode": {
   "interpreter": {
    "hash": "d21ee89defff7085579ccbc45d3f7bf353eb099fd9123e86b61fb4fca6d154f2"
   }
  }
 },
 "nbformat": 4,
 "nbformat_minor": 2
}
