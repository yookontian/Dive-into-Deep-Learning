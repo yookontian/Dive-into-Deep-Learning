{
 "cells": [
  {
   "attachments": {},
   "cell_type": "markdown",
   "metadata": {},
   "source": [
    "TensorBoard to analyze and visualize training"
   ]
  },
  {
   "cell_type": "code",
   "execution_count": 1,
   "metadata": {},
   "outputs": [],
   "source": [
    "import torch\n",
    "import torch.nn as nn\n",
    "import torchvision\n",
    "import torchvision.transforms as transforms\n",
    "import matplotlib.pyplot as plt\n",
    "import sys\n",
    "\n",
    "from torch.utils.tensorboard import SummaryWriter\n",
    "\n",
    "writer = SummaryWriter(\"runs/mnist2\")  # identify a directory for saving results\n",
    "\n",
    "device = torch.device('cuda' if torch.cuda.is_available() else 'cpu')"
   ]
  },
  {
   "cell_type": "code",
   "execution_count": 2,
   "metadata": {},
   "outputs": [],
   "source": [
    "input_size = 784 # images are 28x28\n",
    "hidden_size = 500\n",
    "num_classes = 10\n",
    "num_epochs = 1\n",
    "batch_size = 64\n",
    "learning_rate = 0.01"
   ]
  },
  {
   "cell_type": "code",
   "execution_count": 3,
   "metadata": {},
   "outputs": [],
   "source": [
    "# MNIST\n",
    "train_dataset = torchvision.datasets.MNIST(root='./data', train=True, transform=transforms.ToTensor(), download=True)\n",
    "\n",
    "test_dataset = torchvision.datasets.MNIST(root='./data', train=False, transform=transforms.ToTensor())"
   ]
  },
  {
   "cell_type": "code",
   "execution_count": 4,
   "metadata": {},
   "outputs": [],
   "source": [
    "train_loader = torch.utils.data.DataLoader(dataset=train_dataset, batch_size=batch_size, shuffle=True)\n",
    "\n",
    "test_loader = torch.utils.data.DataLoader(dataset=test_dataset, batch_size=batch_size, shuffle=False)"
   ]
  },
  {
   "cell_type": "code",
   "execution_count": 5,
   "metadata": {},
   "outputs": [
    {
     "data": {
      "text/plain": [
       "60000"
      ]
     },
     "execution_count": 5,
     "metadata": {},
     "output_type": "execute_result"
    }
   ],
   "source": [
    "len(train_dataset)"
   ]
  },
  {
   "cell_type": "code",
   "execution_count": 6,
   "metadata": {},
   "outputs": [
    {
     "data": {
      "text/plain": [
       "938"
      ]
     },
     "execution_count": 6,
     "metadata": {},
     "output_type": "execute_result"
    }
   ],
   "source": [
    "len(train_loader)   # 938 = 60000 // 64 +1"
   ]
  },
  {
   "cell_type": "code",
   "execution_count": 7,
   "metadata": {},
   "outputs": [
    {
     "data": {
      "text/plain": [
       "(torch.Size([64, 1, 28, 28]), torch.Size([64]))"
      ]
     },
     "execution_count": 7,
     "metadata": {},
     "output_type": "execute_result"
    }
   ],
   "source": [
    "examples = iter(train_loader)\n",
    "samples, labels = next(examples)\n",
    "samples.shape, labels.shape\n",
    "# 100 images, only one color channel, resolution 28x28"
   ]
  },
  {
   "cell_type": "code",
   "execution_count": 8,
   "metadata": {},
   "outputs": [
    {
     "data": {
      "image/png": "[encoded data removed]",
      "text/plain": [
       "<Figure size 640x480 with 3 Axes>"
      ]
     },
     "metadata": {},
     "output_type": "display_data"
    }
   ],
   "source": [
    "for i in range(3):\n",
    "    plt.subplot(1, 3, i+1)\n",
    "    plt.imshow(samples[i][0], cmap='gray')\n",
    "    # plt.show()\n",
    "\n",
    "# create a grid and write it into writer\n",
    "img_grid = torchvision.utils.make_grid(samples)\n",
    "writer.add_image('mnist_images', img_grid)\n",
    "writer.close()  # make sure all the output get flushed here"
   ]
  },
  {
   "cell_type": "code",
   "execution_count": 9,
   "metadata": {},
   "outputs": [],
   "source": [
    "class net(nn.Module):\n",
    "    def __init__(self, input_size, hidden_size, num_classes):\n",
    "        super(net,self).__init__()\n",
    "        self.l1 = nn.Linear(input_size, hidden_size)\n",
    "        self.relu = nn.ReLU()\n",
    "        self.l2 = nn.Linear(hidden_size, num_classes)\n",
    "    # no softmax, because the loss_function do it for us\n",
    "    def forward(self, x):\n",
    "        x = self.l1(x)\n",
    "        x = self.relu(x)\n",
    "        x = self.l2(x)\n",
    "        return x"
   ]
  },
  {
   "cell_type": "code",
   "execution_count": 10,
   "metadata": {},
   "outputs": [],
   "source": [
    "model = net(input_size, hidden_size, num_classes)\n",
    "model = model.to(device)"
   ]
  },
  {
   "cell_type": "code",
   "execution_count": 11,
   "metadata": {},
   "outputs": [],
   "source": [
    "# loss function & optimizer\n",
    "\n",
    "criterion = nn.CrossEntropyLoss()\n",
    "optimizer = torch.optim.Adam(model.parameters(),lr = learning_rate)\n",
    "\n",
    "# model graph\n",
    "writer.add_graph(model, samples.reshape(-1, 28*28).to(device))\n",
    "writer.close()"
   ]
  },
  {
   "cell_type": "code",
   "execution_count": 12,
   "metadata": {},
   "outputs": [
    {
     "name": "stdout",
     "output_type": "stream",
     "text": [
      "eopch 1 / 1, step 100 / 938, loss = 0.4407\n",
      "eopch 1 / 1, step 200 / 938, loss = 0.3501\n",
      "eopch 1 / 1, step 300 / 938, loss = 0.1977\n",
      "eopch 1 / 1, step 400 / 938, loss = 0.0806\n",
      "eopch 1 / 1, step 500 / 938, loss = 0.2699\n",
      "eopch 1 / 1, step 600 / 938, loss = 0.3355\n",
      "eopch 1 / 1, step 700 / 938, loss = 0.0421\n",
      "eopch 1 / 1, step 800 / 938, loss = 0.1670\n",
      "eopch 1 / 1, step 900 / 938, loss = 0.0775\n"
     ]
    }
   ],
   "source": [
    "# training loop\n",
    "n_total_step = len(train_loader)\n",
    "\n",
    "running_loss = 0.0\n",
    "running_correct = 0\n",
    "\n",
    "for epoch in range(num_epochs):\n",
    "    for i, (images, labels) in enumerate(train_loader):\n",
    "        # reshape from (100, 1, 28, 28) to (100, 784)\n",
    "        images = images.reshape(-1, 28*28).to(device)\n",
    "        labels = labels.to(device)\n",
    "\n",
    "        # forward pass\n",
    "        pred = model(images)\n",
    "        loss = criterion(pred, labels)\n",
    "\n",
    "        # backward pass\n",
    "        optimizer.zero_grad()\n",
    "        loss.backward()\n",
    "        optimizer.step()\n",
    "\n",
    "        running_loss += loss.item()\n",
    "        _, prediction = torch.max(pred, 1)\n",
    "        running_correct += (prediction == labels).sum().item()\n",
    "\n",
    "\n",
    "        if (i+1) % 100 == 0:\n",
    "            print(f'eopch {epoch+1} / {num_epochs}, step {i+1} / {n_total_step}, loss = {loss.item():.4f}')\n",
    "            writer.add_scalar('training loss', running_loss / 100, epoch * n_total_step + i)\n",
    "            writer.add_scalar('acc', running_correct / 100, epoch * n_total_step + i)\n",
    "            running_loss = 0.0\n",
    "            running_correct = 0"
   ]
  },
  {
   "cell_type": "code",
   "execution_count": 13,
   "metadata": {},
   "outputs": [],
   "source": [
    "#  a recall curve\n",
    "\n",
    "pred_label = []\n",
    "pred_logits = []\n",
    "\n",
    "# test\n",
    "\n",
    "with torch.no_grad():\n",
    "    n_correct = 0\n",
    "    n_samples = 0\n",
    "    for images, labels in test_loader:\n",
    "        images = images.reshape(-1, 28*28).to(device)\n",
    "        labels = labels.to(device)\n",
    "        output = model(images)\n",
    "\n",
    "        _, pred = torch.max(output, 1)\n",
    "        n_samples += labels.shape[0]\n",
    "        n_correct += (pred == labels).sum().item()\n",
    "\n",
    "        output_logits = [nn.functional.softmax(o, dim=0) for o in output]\n",
    "        pred_logits.append(output_logits)\n",
    "        pred_label.append(pred)"
   ]
  },
  {
   "cell_type": "code",
   "execution_count": 14,
   "metadata": {},
   "outputs": [],
   "source": [
    "pred_logits = torch.cat([torch.stack(batch) for batch in pred_logits])\n",
    "pred_label = torch.cat(pred_label)"
   ]
  },
  {
   "cell_type": "code",
   "execution_count": 15,
   "metadata": {},
   "outputs": [
    {
     "data": {
      "text/plain": [
       "(torch.Size([10000, 10]), torch.Size([10000]))"
      ]
     },
     "execution_count": 15,
     "metadata": {},
     "output_type": "execute_result"
    }
   ],
   "source": [
    "pred_logits.shape, pred_label.shape"
   ]
  },
  {
   "cell_type": "code",
   "execution_count": 16,
   "metadata": {},
   "outputs": [
    {
     "name": "stdout",
     "output_type": "stream",
     "text": [
      "Acc of the network on the test :95.46 %\n"
     ]
    }
   ],
   "source": [
    "acc = 100.0 * n_correct / n_samples\n",
    "print(f'Acc of the network on the test :{acc} %')"
   ]
  },
  {
   "cell_type": "code",
   "execution_count": 17,
   "metadata": {},
   "outputs": [
    {
     "data": {
      "text/plain": [
       "tensor([False,  True], device='cuda:0')"
      ]
     },
     "execution_count": 17,
     "metadata": {},
     "output_type": "execute_result"
    }
   ],
   "source": [
    "pred_label[:2] == 2"
   ]
  },
  {
   "cell_type": "code",
   "execution_count": 18,
   "metadata": {},
   "outputs": [
    {
     "name": "stdout",
     "output_type": "stream",
     "text": [
      "tensor([7, 2, 1,  ..., 4, 5, 6], device='cuda:0')\n",
      "tensor([False, False, False,  ..., False, False, False], device='cuda:0')    tensor([6.2710e-08, 9.4496e-15, 9.9134e-10,  ..., 5.8368e-13, 5.0057e-05,\n",
      "        3.1711e-07], device='cuda:0')\n",
      "tensor([7, 2, 1,  ..., 4, 5, 6], device='cuda:0')\n",
      "tensor([False, False,  True,  ..., False, False, False], device='cuda:0')    tensor([7.4163e-08, 6.5887e-04, 9.9998e-01,  ..., 3.1572e-07, 9.6078e-07,\n",
      "        5.0968e-10], device='cuda:0')\n",
      "tensor([7, 2, 1,  ..., 4, 5, 6], device='cuda:0')\n",
      "tensor([False,  True, False,  ..., False, False, False], device='cuda:0')    tensor([1.5293e-05, 9.9932e-01, 6.3492e-07,  ..., 6.8693e-12, 2.3208e-10,\n",
      "        2.8662e-07], device='cuda:0')\n",
      "tensor([7, 2, 1,  ..., 4, 5, 6], device='cuda:0')\n",
      "tensor([False, False, False,  ..., False, False, False], device='cuda:0')    tensor([7.6817e-06, 2.3126e-05, 4.3919e-08,  ..., 6.7951e-09, 2.9844e-04,\n",
      "        2.0305e-04], device='cuda:0')\n",
      "tensor([7, 2, 1,  ..., 4, 5, 6], device='cuda:0')\n",
      "tensor([False, False, False,  ...,  True, False, False], device='cuda:0')    tensor([1.4200e-10, 4.4791e-13, 3.9936e-06,  ..., 1.0000e+00, 4.3225e-07,\n",
      "        1.1460e-04], device='cuda:0')\n"
     ]
    }
   ],
   "source": [
    "n = 0\n",
    "for i in range(num_classes):\n",
    "    labels_i = pred_label == i\n",
    "    preds_i = pred_logits[:, i]\n",
    "    if n < 5:\n",
    "        print(pred_label)\n",
    "        print(labels_i, \"  \", preds_i)\n",
    "    writer.add_pr_curve(str(train_dataset.classes[i]), labels_i, preds_i, global_step=0)\n",
    "    writer.close()\n",
    "    n += 1"
   ]
  }
 ],
 "metadata": {
  "kernelspec": {
   "display_name": "d2l",
   "language": "python",
   "name": "python3"
  },
  "language_info": {
   "codemirror_mode": {
    "name": "ipython",
    "version": 3
   },
   "file_extension": ".py",
   "mimetype": "text/x-python",
   "name": "python",
   "nbconvert_exporter": "python",
   "pygments_lexer": "ipython3",
   "version": "3.9.15"
  },
  "orig_nbformat": 4,
  "vscode": {
   "interpreter": {
    "hash": "d21ee89defff7085579ccbc45d3f7bf353eb099fd9123e86b61fb4fca6d154f2"
   }
  }
 },
 "nbformat": 4,
 "nbformat_minor": 2
}
