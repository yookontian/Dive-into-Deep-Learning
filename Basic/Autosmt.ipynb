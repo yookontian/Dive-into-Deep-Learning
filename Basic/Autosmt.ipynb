{
 "cells": [
  {
   "attachments": {},
   "cell_type": "markdown",
   "metadata": {},
   "source": [
    "1. Design model(input, output, forward pass)\n",
    "\n",
    "2. construct loss and optimizer\n",
    "\n",
    "3. Training loop\n",
    "    - forward pass: compute prediction\n",
    "    - backward pass: gradients\n",
    "    - update weights\n"
   ]
  },
  {
   "cell_type": "code",
   "execution_count": 19,
   "metadata": {},
   "outputs": [],
   "source": [
    "# import numpy as np\n",
    "import torch.nn as nn\n",
    "import torch"
   ]
  },
  {
   "cell_type": "code",
   "execution_count": 20,
   "metadata": {},
   "outputs": [
    {
     "data": {
      "text/plain": [
       "(4, 1)"
      ]
     },
     "execution_count": 20,
     "metadata": {},
     "output_type": "execute_result"
    }
   ],
   "source": [
    "\"\"\" f = w * x\n",
    "    f = 2 * x \"\"\"\n",
    "\n",
    "X = torch.tensor([[1], [2], [3], [4]], dtype=torch.float32)\n",
    "Y = torch.tensor([[2], [4], [6], [8]], dtype=torch.float32)\n",
    "\n",
    "X_test = torch.tensor([5], dtype=torch.float32)\n",
    "\n",
    "n_samples, n_features = X.shape\n",
    "n_samples, n_features"
   ]
  },
  {
   "cell_type": "code",
   "execution_count": 61,
   "metadata": {},
   "outputs": [
    {
     "data": {
      "text/plain": [
       "'gradient\\nMSE = 1/N * (w * x - y)**2\\ndJ/dw = 1/n 2x (w * x - y)'"
      ]
     },
     "execution_count": 61,
     "metadata": {},
     "output_type": "execute_result"
    }
   ],
   "source": [
    "\"\"\" model prediction \"\"\"\n",
    "# w = torch.tensor(0.0, dtype=torch.float32, requires_grad=True)\n",
    "# def forward(x):\n",
    "#     return w * x\n",
    "input_size = n_features\n",
    "output_size = n_features\n",
    "# model = nn.Linear(input_size, output_size,bias = False)\n",
    "\n",
    "class LinearRegression(nn.Module):\n",
    "\n",
    "    def __init__(self, input_dim, output_dim, Bias) -> None:\n",
    "        super(LinearRegression, self).__init__()\n",
    "        # define layers\n",
    "        self.lin = nn.Linear(input_dim, output_dim, bias=Bias)\n",
    "    \n",
    "    def forward(self, x):\n",
    "        return self.lin(x)\n",
    "\n",
    "model = LinearRegression(input_size, output_size, False)\n",
    "\n",
    "# \"\"\"loss = MSE\"\"\"\n",
    "# def loss(y, y_pred):\n",
    "#     return ((y_pred - y)**2).mean()\n",
    "\n",
    "\"\"\"gradient\n",
    "MSE = 1/N * (w * x - y)**2\n",
    "dJ/dw = 1/n 2x (w * x - y)\"\"\"\n",
    "\n",
    "# def gradient(x, y, y_pred):\n",
    "#     return np.mean(2*x*(y_pred - y))\n"
   ]
  },
  {
   "cell_type": "code",
   "execution_count": 62,
   "metadata": {},
   "outputs": [],
   "source": [
    "\"\"\"Traininig\"\"\"\n",
    "lr = 0.01\n",
    "epoch = 80\n",
    "loss = nn.MSELoss()\n",
    "optimizer = torch.optim.SGD(model.parameters(), lr=lr)"
   ]
  },
  {
   "cell_type": "code",
   "execution_count": 63,
   "metadata": {},
   "outputs": [
    {
     "name": "stdout",
     "output_type": "stream",
     "text": [
      "Prediction before training: f(5) = -2.552\n",
      "epoch 1: w = -0.134, loss = 47.26808548\n",
      "epoch 7: w = 1.195, loss = 6.72349787\n",
      "epoch 13: w = 1.696, loss = 0.95636153\n",
      "epoch 19: w = 1.886, loss = 0.13603477\n",
      "epoch 25: w = 1.957, loss = 0.01934976\n",
      "epoch 31: w = 1.984, loss = 0.00275235\n",
      "epoch 37: w = 1.994, loss = 0.00039149\n",
      "epoch 43: w = 1.998, loss = 0.00005569\n",
      "epoch 49: w = 1.999, loss = 0.00000792\n",
      "epoch 55: w = 2.000, loss = 0.00000113\n",
      "epoch 61: w = 2.000, loss = 0.00000016\n",
      "epoch 67: w = 2.000, loss = 0.00000002\n",
      "epoch 73: w = 2.000, loss = 0.00000000\n",
      "epoch 79: w = 2.000, loss = 0.00000000\n",
      "Prediction after training: f(5) = 10.000\n"
     ]
    }
   ],
   "source": [
    "# print(f'Prediction before training: f(5) = {forward(5):.3f}')\n",
    "print(f'Prediction before training: f(5) = {model(X_test).item():.3f}')\n",
    "\n",
    "for i in range(epoch):\n",
    "    # prediction\n",
    "    y_pred = model(X)\n",
    "\n",
    "    # loss\n",
    "    l = loss(Y, y_pred)\n",
    "\n",
    "    # gradient\n",
    "    # dw = gradient(X, Y, y_pred)\n",
    "    l.backward()\n",
    "\n",
    "    # update weight\n",
    "    # w -= lr * dw\n",
    "    optimizer.step()\n",
    "\n",
    "    # zero gradients\n",
    "    # w.grad.zero_()\n",
    "    optimizer.zero_grad()\n",
    "\n",
    "    if i % 6 == 0:\n",
    "        [w] = model.parameters()\n",
    "        print(f'epoch {i + 1}: w = {w[0].item():.3f}, loss = {l:.8f}')\n",
    "\n",
    "\n",
    "print(f'Prediction after training: f(5) = {model(X_test).item():.3f}')"
   ]
  }
 ],
 "metadata": {
  "kernelspec": {
   "display_name": "d2l",
   "language": "python",
   "name": "python3"
  },
  "language_info": {
   "codemirror_mode": {
    "name": "ipython",
    "version": 3
   },
   "file_extension": ".py",
   "mimetype": "text/x-python",
   "name": "python",
   "nbconvert_exporter": "python",
   "pygments_lexer": "ipython3",
   "version": "3.9.15"
  },
  "orig_nbformat": 4,
  "vscode": {
   "interpreter": {
    "hash": "d21ee89defff7085579ccbc45d3f7bf353eb099fd9123e86b61fb4fca6d154f2"
   }
  }
 },
 "nbformat": 4,
 "nbformat_minor": 2
}
