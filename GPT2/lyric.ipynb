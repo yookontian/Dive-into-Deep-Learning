{
 "cells": [
  {
   "cell_type": "code",
   "execution_count": 50,
   "metadata": {},
   "outputs": [],
   "source": [
    "from transformers import GPT2LMHeadModel, GPT2Tokenizer\n",
    "import pandas as pd\n",
    "import numpy as np\n",
    "import random\n",
    "import torch\n",
    "from torch.utils.data import Dataset, DataLoader\n",
    "from transformers import AdamW, get_linear_schedule_with_warmup\n",
    "from tqdm import tqdm,trange\n",
    "import torch.nn.functional as F\n",
    "import csv\n",
    "import os"
   ]
  },
  {
   "attachments": {},
   "cell_type": "markdown",
   "metadata": {},
   "source": [
    "# lyric data"
   ]
  },
  {
   "cell_type": "code",
   "execution_count": 22,
   "metadata": {},
   "outputs": [
    {
     "data": {
      "text/html": [
       "<div>\n",
       "<style scoped>\n",
       "    .dataframe tbody tr th:only-of-type {\n",
       "        vertical-align: middle;\n",
       "    }\n",
       "\n",
       "    .dataframe tbody tr th {\n",
       "        vertical-align: top;\n",
       "    }\n",
       "\n",
       "    .dataframe thead th {\n",
       "        text-align: right;\n",
       "    }\n",
       "</style>\n",
       "<table border=\"1\" class=\"dataframe\">\n",
       "  <thead>\n",
       "    <tr style=\"text-align: right;\">\n",
       "      <th></th>\n",
       "      <th>ALink</th>\n",
       "      <th>SName</th>\n",
       "      <th>SLink</th>\n",
       "      <th>Lyric</th>\n",
       "      <th>language</th>\n",
       "    </tr>\n",
       "  </thead>\n",
       "  <tbody>\n",
       "    <tr>\n",
       "      <th>0</th>\n",
       "      <td>/ivete-sangalo/</td>\n",
       "      <td>Arerê</td>\n",
       "      <td>/ivete-sangalo/arere.html</td>\n",
       "      <td>Tudo o que eu quero nessa vida,\\nToda vida, é\\...</td>\n",
       "      <td>pt</td>\n",
       "    </tr>\n",
       "    <tr>\n",
       "      <th>1</th>\n",
       "      <td>/ivete-sangalo/</td>\n",
       "      <td>Se Eu Não Te Amasse Tanto Assim</td>\n",
       "      <td>/ivete-sangalo/se-eu-nao-te-amasse-tanto-assim...</td>\n",
       "      <td>Meu coração\\nSem direção\\nVoando só por voar\\n...</td>\n",
       "      <td>pt</td>\n",
       "    </tr>\n",
       "    <tr>\n",
       "      <th>2</th>\n",
       "      <td>/ivete-sangalo/</td>\n",
       "      <td>Céu da Boca</td>\n",
       "      <td>/ivete-sangalo/chupa-toda.html</td>\n",
       "      <td>É de babaixá!\\nÉ de balacubaca!\\nÉ de babaixá!...</td>\n",
       "      <td>pt</td>\n",
       "    </tr>\n",
       "    <tr>\n",
       "      <th>3</th>\n",
       "      <td>/ivete-sangalo/</td>\n",
       "      <td>Quando A Chuva Passar</td>\n",
       "      <td>/ivete-sangalo/quando-a-chuva-passar.html</td>\n",
       "      <td>Quando a chuva passar\\n\\nPra quê falar\\nSe voc...</td>\n",
       "      <td>pt</td>\n",
       "    </tr>\n",
       "    <tr>\n",
       "      <th>4</th>\n",
       "      <td>/ivete-sangalo/</td>\n",
       "      <td>Sorte Grande</td>\n",
       "      <td>/ivete-sangalo/sorte-grande.html</td>\n",
       "      <td>A minha sorte grande foi você cair do céu\\nMin...</td>\n",
       "      <td>pt</td>\n",
       "    </tr>\n",
       "    <tr>\n",
       "      <th>...</th>\n",
       "      <td>...</td>\n",
       "      <td>...</td>\n",
       "      <td>...</td>\n",
       "      <td>...</td>\n",
       "      <td>...</td>\n",
       "    </tr>\n",
       "    <tr>\n",
       "      <th>379926</th>\n",
       "      <td>/clegg-johnny/</td>\n",
       "      <td>The Waiting</td>\n",
       "      <td>/clegg-johnny/the-waiting.html</td>\n",
       "      <td>Chorus\\nHere we stand waiting on the plain\\nDa...</td>\n",
       "      <td>en</td>\n",
       "    </tr>\n",
       "    <tr>\n",
       "      <th>379927</th>\n",
       "      <td>/clegg-johnny/</td>\n",
       "      <td>Too Early For The Sky</td>\n",
       "      <td>/clegg-johnny/too-early-for-the-sky.html</td>\n",
       "      <td>I nearly disappeared into the mouth of a croco...</td>\n",
       "      <td>en</td>\n",
       "    </tr>\n",
       "    <tr>\n",
       "      <th>379928</th>\n",
       "      <td>/clegg-johnny/</td>\n",
       "      <td>Warsaw 1943 (I Never Betrayed The Revolution)</td>\n",
       "      <td>/clegg-johnny/warsaw-1943-i-never-betrayed-the...</td>\n",
       "      <td>Amambuka, amambuka azothengisa izwe lakithi, i...</td>\n",
       "      <td>en</td>\n",
       "    </tr>\n",
       "    <tr>\n",
       "      <th>379929</th>\n",
       "      <td>/clegg-johnny/</td>\n",
       "      <td>When The System Has Fallen</td>\n",
       "      <td>/clegg-johnny/when-the-system-has-fallen.html</td>\n",
       "      <td>Sweat in the heat for days on end\\nwaiting for...</td>\n",
       "      <td>en</td>\n",
       "    </tr>\n",
       "    <tr>\n",
       "      <th>379930</th>\n",
       "      <td>/clegg-johnny/</td>\n",
       "      <td>Woman Be My Country</td>\n",
       "      <td>/clegg-johnny/woman-be-my-country.html</td>\n",
       "      <td>Here we stand on the edge of the day\\nFaces me...</td>\n",
       "      <td>en</td>\n",
       "    </tr>\n",
       "  </tbody>\n",
       "</table>\n",
       "<p>379931 rows × 5 columns</p>\n",
       "</div>"
      ],
      "text/plain": [
       "                  ALink                                          SName  \\\n",
       "0       /ivete-sangalo/                                          Arerê   \n",
       "1       /ivete-sangalo/                Se Eu Não Te Amasse Tanto Assim   \n",
       "2       /ivete-sangalo/                                    Céu da Boca   \n",
       "3       /ivete-sangalo/                          Quando A Chuva Passar   \n",
       "4       /ivete-sangalo/                                   Sorte Grande   \n",
       "...                 ...                                            ...   \n",
       "379926   /clegg-johnny/                                    The Waiting   \n",
       "379927   /clegg-johnny/                          Too Early For The Sky   \n",
       "379928   /clegg-johnny/  Warsaw 1943 (I Never Betrayed The Revolution)   \n",
       "379929   /clegg-johnny/                     When The System Has Fallen   \n",
       "379930   /clegg-johnny/                            Woman Be My Country   \n",
       "\n",
       "                                                    SLink  \\\n",
       "0                               /ivete-sangalo/arere.html   \n",
       "1       /ivete-sangalo/se-eu-nao-te-amasse-tanto-assim...   \n",
       "2                          /ivete-sangalo/chupa-toda.html   \n",
       "3               /ivete-sangalo/quando-a-chuva-passar.html   \n",
       "4                        /ivete-sangalo/sorte-grande.html   \n",
       "...                                                   ...   \n",
       "379926                     /clegg-johnny/the-waiting.html   \n",
       "379927           /clegg-johnny/too-early-for-the-sky.html   \n",
       "379928  /clegg-johnny/warsaw-1943-i-never-betrayed-the...   \n",
       "379929      /clegg-johnny/when-the-system-has-fallen.html   \n",
       "379930             /clegg-johnny/woman-be-my-country.html   \n",
       "\n",
       "                                                    Lyric language  \n",
       "0       Tudo o que eu quero nessa vida,\\nToda vida, é\\...       pt  \n",
       "1       Meu coração\\nSem direção\\nVoando só por voar\\n...       pt  \n",
       "2       É de babaixá!\\nÉ de balacubaca!\\nÉ de babaixá!...       pt  \n",
       "3       Quando a chuva passar\\n\\nPra quê falar\\nSe voc...       pt  \n",
       "4       A minha sorte grande foi você cair do céu\\nMin...       pt  \n",
       "...                                                   ...      ...  \n",
       "379926  Chorus\\nHere we stand waiting on the plain\\nDa...       en  \n",
       "379927  I nearly disappeared into the mouth of a croco...       en  \n",
       "379928  Amambuka, amambuka azothengisa izwe lakithi, i...       en  \n",
       "379929  Sweat in the heat for days on end\\nwaiting for...       en  \n",
       "379930  Here we stand on the edge of the day\\nFaces me...       en  \n",
       "\n",
       "[379931 rows x 5 columns]"
      ]
     },
     "execution_count": 22,
     "metadata": {},
     "output_type": "execute_result"
    }
   ],
   "source": [
    "lyrics = pd.read_csv('dataset/archive/lyrics-data.csv')\n",
    "lyrics"
   ]
  },
  {
   "cell_type": "code",
   "execution_count": 23,
   "metadata": {},
   "outputs": [
    {
     "data": {
      "text/html": [
       "<div>\n",
       "<style scoped>\n",
       "    .dataframe tbody tr th:only-of-type {\n",
       "        vertical-align: middle;\n",
       "    }\n",
       "\n",
       "    .dataframe tbody tr th {\n",
       "        vertical-align: top;\n",
       "    }\n",
       "\n",
       "    .dataframe thead th {\n",
       "        text-align: right;\n",
       "    }\n",
       "</style>\n",
       "<table border=\"1\" class=\"dataframe\">\n",
       "  <thead>\n",
       "    <tr style=\"text-align: right;\">\n",
       "      <th></th>\n",
       "      <th>ALink</th>\n",
       "      <th>SName</th>\n",
       "      <th>SLink</th>\n",
       "      <th>Lyric</th>\n",
       "      <th>language</th>\n",
       "    </tr>\n",
       "  </thead>\n",
       "  <tbody>\n",
       "    <tr>\n",
       "      <th>69</th>\n",
       "      <td>/ivete-sangalo/</td>\n",
       "      <td>Careless Whisper</td>\n",
       "      <td>/ivete-sangalo/careless-whisper.html</td>\n",
       "      <td>I feel so unsure\\nAs I take your hand and lead...</td>\n",
       "      <td>en</td>\n",
       "    </tr>\n",
       "    <tr>\n",
       "      <th>86</th>\n",
       "      <td>/ivete-sangalo/</td>\n",
       "      <td>Could You Be Loved / Citação Musical do Rap: S...</td>\n",
       "      <td>/ivete-sangalo/could-you-be-loved-citacao-musi...</td>\n",
       "      <td>Don't let them fool, ya\\nOr even try to school...</td>\n",
       "      <td>en</td>\n",
       "    </tr>\n",
       "    <tr>\n",
       "      <th>88</th>\n",
       "      <td>/ivete-sangalo/</td>\n",
       "      <td>Cruisin' (Part. Saulo)</td>\n",
       "      <td>/ivete-sangalo/cruisin-part-saulo.html</td>\n",
       "      <td>Baby, let's cruise, away from here\\nDon't be c...</td>\n",
       "      <td>en</td>\n",
       "    </tr>\n",
       "    <tr>\n",
       "      <th>111</th>\n",
       "      <td>/ivete-sangalo/</td>\n",
       "      <td>Easy</td>\n",
       "      <td>/ivete-sangalo/easy.html</td>\n",
       "      <td>Know it sounds funny\\nBut, I just can't stand ...</td>\n",
       "      <td>en</td>\n",
       "    </tr>\n",
       "    <tr>\n",
       "      <th>140</th>\n",
       "      <td>/ivete-sangalo/</td>\n",
       "      <td>For Your Babies (The Voice cover)</td>\n",
       "      <td>/ivete-sangalo/for-your-babies-the-voice-cover...</td>\n",
       "      <td>You've got that look again\\nThe one I hoped I ...</td>\n",
       "      <td>en</td>\n",
       "    </tr>\n",
       "    <tr>\n",
       "      <th>...</th>\n",
       "      <td>...</td>\n",
       "      <td>...</td>\n",
       "      <td>...</td>\n",
       "      <td>...</td>\n",
       "      <td>...</td>\n",
       "    </tr>\n",
       "    <tr>\n",
       "      <th>379926</th>\n",
       "      <td>/clegg-johnny/</td>\n",
       "      <td>The Waiting</td>\n",
       "      <td>/clegg-johnny/the-waiting.html</td>\n",
       "      <td>Chorus\\nHere we stand waiting on the plain\\nDa...</td>\n",
       "      <td>en</td>\n",
       "    </tr>\n",
       "    <tr>\n",
       "      <th>379927</th>\n",
       "      <td>/clegg-johnny/</td>\n",
       "      <td>Too Early For The Sky</td>\n",
       "      <td>/clegg-johnny/too-early-for-the-sky.html</td>\n",
       "      <td>I nearly disappeared into the mouth of a croco...</td>\n",
       "      <td>en</td>\n",
       "    </tr>\n",
       "    <tr>\n",
       "      <th>379928</th>\n",
       "      <td>/clegg-johnny/</td>\n",
       "      <td>Warsaw 1943 (I Never Betrayed The Revolution)</td>\n",
       "      <td>/clegg-johnny/warsaw-1943-i-never-betrayed-the...</td>\n",
       "      <td>Amambuka, amambuka azothengisa izwe lakithi, i...</td>\n",
       "      <td>en</td>\n",
       "    </tr>\n",
       "    <tr>\n",
       "      <th>379929</th>\n",
       "      <td>/clegg-johnny/</td>\n",
       "      <td>When The System Has Fallen</td>\n",
       "      <td>/clegg-johnny/when-the-system-has-fallen.html</td>\n",
       "      <td>Sweat in the heat for days on end\\nwaiting for...</td>\n",
       "      <td>en</td>\n",
       "    </tr>\n",
       "    <tr>\n",
       "      <th>379930</th>\n",
       "      <td>/clegg-johnny/</td>\n",
       "      <td>Woman Be My Country</td>\n",
       "      <td>/clegg-johnny/woman-be-my-country.html</td>\n",
       "      <td>Here we stand on the edge of the day\\nFaces me...</td>\n",
       "      <td>en</td>\n",
       "    </tr>\n",
       "  </tbody>\n",
       "</table>\n",
       "<p>191814 rows × 5 columns</p>\n",
       "</div>"
      ],
      "text/plain": [
       "                  ALink                                              SName  \\\n",
       "69      /ivete-sangalo/                                   Careless Whisper   \n",
       "86      /ivete-sangalo/  Could You Be Loved / Citação Musical do Rap: S...   \n",
       "88      /ivete-sangalo/                             Cruisin' (Part. Saulo)   \n",
       "111     /ivete-sangalo/                                               Easy   \n",
       "140     /ivete-sangalo/                  For Your Babies (The Voice cover)   \n",
       "...                 ...                                                ...   \n",
       "379926   /clegg-johnny/                                        The Waiting   \n",
       "379927   /clegg-johnny/                              Too Early For The Sky   \n",
       "379928   /clegg-johnny/      Warsaw 1943 (I Never Betrayed The Revolution)   \n",
       "379929   /clegg-johnny/                         When The System Has Fallen   \n",
       "379930   /clegg-johnny/                                Woman Be My Country   \n",
       "\n",
       "                                                    SLink  \\\n",
       "69                   /ivete-sangalo/careless-whisper.html   \n",
       "86      /ivete-sangalo/could-you-be-loved-citacao-musi...   \n",
       "88                 /ivete-sangalo/cruisin-part-saulo.html   \n",
       "111                              /ivete-sangalo/easy.html   \n",
       "140     /ivete-sangalo/for-your-babies-the-voice-cover...   \n",
       "...                                                   ...   \n",
       "379926                     /clegg-johnny/the-waiting.html   \n",
       "379927           /clegg-johnny/too-early-for-the-sky.html   \n",
       "379928  /clegg-johnny/warsaw-1943-i-never-betrayed-the...   \n",
       "379929      /clegg-johnny/when-the-system-has-fallen.html   \n",
       "379930             /clegg-johnny/woman-be-my-country.html   \n",
       "\n",
       "                                                    Lyric language  \n",
       "69      I feel so unsure\\nAs I take your hand and lead...       en  \n",
       "86      Don't let them fool, ya\\nOr even try to school...       en  \n",
       "88      Baby, let's cruise, away from here\\nDon't be c...       en  \n",
       "111     Know it sounds funny\\nBut, I just can't stand ...       en  \n",
       "140     You've got that look again\\nThe one I hoped I ...       en  \n",
       "...                                                   ...      ...  \n",
       "379926  Chorus\\nHere we stand waiting on the plain\\nDa...       en  \n",
       "379927  I nearly disappeared into the mouth of a croco...       en  \n",
       "379928  Amambuka, amambuka azothengisa izwe lakithi, i...       en  \n",
       "379929  Sweat in the heat for days on end\\nwaiting for...       en  \n",
       "379930  Here we stand on the edge of the day\\nFaces me...       en  \n",
       "\n",
       "[191814 rows x 5 columns]"
      ]
     },
     "execution_count": 23,
     "metadata": {},
     "output_type": "execute_result"
    }
   ],
   "source": [
    "lyrics = lyrics[lyrics['language'] == 'en']\n",
    "lyrics"
   ]
  },
  {
   "cell_type": "code",
   "execution_count": 24,
   "metadata": {},
   "outputs": [],
   "source": [
    "lyrics.to_csv('dataset/enLirics.csv', index=False)"
   ]
  },
  {
   "cell_type": "code",
   "execution_count": 30,
   "metadata": {},
   "outputs": [
    {
     "data": {
      "text/html": [
       "<div>\n",
       "<style scoped>\n",
       "    .dataframe tbody tr th:only-of-type {\n",
       "        vertical-align: middle;\n",
       "    }\n",
       "\n",
       "    .dataframe tbody tr th {\n",
       "        vertical-align: top;\n",
       "    }\n",
       "\n",
       "    .dataframe thead th {\n",
       "        text-align: right;\n",
       "    }\n",
       "</style>\n",
       "<table border=\"1\" class=\"dataframe\">\n",
       "  <thead>\n",
       "    <tr style=\"text-align: right;\">\n",
       "      <th></th>\n",
       "      <th>Artist</th>\n",
       "      <th>Genres</th>\n",
       "      <th>Songs</th>\n",
       "      <th>Popularity</th>\n",
       "      <th>Link</th>\n",
       "    </tr>\n",
       "  </thead>\n",
       "  <tbody>\n",
       "    <tr>\n",
       "      <th>0</th>\n",
       "      <td>Ivete Sangalo</td>\n",
       "      <td>Pop; Axé; Romântico</td>\n",
       "      <td>313.0</td>\n",
       "      <td>4.4</td>\n",
       "      <td>/ivete-sangalo/</td>\n",
       "    </tr>\n",
       "    <tr>\n",
       "      <th>1</th>\n",
       "      <td>Chiclete com Banana</td>\n",
       "      <td>Axé</td>\n",
       "      <td>268.0</td>\n",
       "      <td>3.8</td>\n",
       "      <td>/chiclete-com-banana/</td>\n",
       "    </tr>\n",
       "    <tr>\n",
       "      <th>2</th>\n",
       "      <td>Banda Eva</td>\n",
       "      <td>Axé; Romântico; Reggae</td>\n",
       "      <td>215.0</td>\n",
       "      <td>2.3</td>\n",
       "      <td>/banda-eva/</td>\n",
       "    </tr>\n",
       "    <tr>\n",
       "      <th>3</th>\n",
       "      <td>É O Tchan</td>\n",
       "      <td>Axé</td>\n",
       "      <td>129.0</td>\n",
       "      <td>1.6</td>\n",
       "      <td>/e-o-tchan/</td>\n",
       "    </tr>\n",
       "    <tr>\n",
       "      <th>4</th>\n",
       "      <td>Claudia Leitte</td>\n",
       "      <td>Pop; Axé; Romântico</td>\n",
       "      <td>167.0</td>\n",
       "      <td>1.5</td>\n",
       "      <td>/claudia-leitte/</td>\n",
       "    </tr>\n",
       "    <tr>\n",
       "      <th>...</th>\n",
       "      <td>...</td>\n",
       "      <td>...</td>\n",
       "      <td>...</td>\n",
       "      <td>...</td>\n",
       "      <td>...</td>\n",
       "    </tr>\n",
       "    <tr>\n",
       "      <th>4163</th>\n",
       "      <td>Miriam Makeba</td>\n",
       "      <td>World Music; Black Music; Blues</td>\n",
       "      <td>17.0</td>\n",
       "      <td>0.0</td>\n",
       "      <td>/miriam-makeba/</td>\n",
       "    </tr>\n",
       "    <tr>\n",
       "      <th>4164</th>\n",
       "      <td>Freddie Aguilar</td>\n",
       "      <td>World Music</td>\n",
       "      <td>61.0</td>\n",
       "      <td>0.0</td>\n",
       "      <td>/freddie-aguilar/</td>\n",
       "    </tr>\n",
       "    <tr>\n",
       "      <th>4165</th>\n",
       "      <td>Amadou &amp; Mariam</td>\n",
       "      <td>World Music</td>\n",
       "      <td>14.0</td>\n",
       "      <td>0.0</td>\n",
       "      <td>/amadou-mariam/</td>\n",
       "    </tr>\n",
       "    <tr>\n",
       "      <th>4166</th>\n",
       "      <td>Magic System</td>\n",
       "      <td>World Music; Gospel/Religioso</td>\n",
       "      <td>16.0</td>\n",
       "      <td>0.0</td>\n",
       "      <td>/magic-system/</td>\n",
       "    </tr>\n",
       "    <tr>\n",
       "      <th>4167</th>\n",
       "      <td>Johnny Clegg</td>\n",
       "      <td>World Music; Gospel/Religioso</td>\n",
       "      <td>34.0</td>\n",
       "      <td>0.0</td>\n",
       "      <td>/clegg-johnny/</td>\n",
       "    </tr>\n",
       "  </tbody>\n",
       "</table>\n",
       "<p>4168 rows × 5 columns</p>\n",
       "</div>"
      ],
      "text/plain": [
       "                   Artist                           Genres  Songs  Popularity  \\\n",
       "0           Ivete Sangalo              Pop; Axé; Romântico  313.0         4.4   \n",
       "1     Chiclete com Banana                              Axé  268.0         3.8   \n",
       "2               Banda Eva           Axé; Romântico; Reggae  215.0         2.3   \n",
       "3               É O Tchan                              Axé  129.0         1.6   \n",
       "4          Claudia Leitte              Pop; Axé; Romântico  167.0         1.5   \n",
       "...                   ...                              ...    ...         ...   \n",
       "4163        Miriam Makeba  World Music; Black Music; Blues   17.0         0.0   \n",
       "4164      Freddie Aguilar                      World Music   61.0         0.0   \n",
       "4165      Amadou & Mariam                      World Music   14.0         0.0   \n",
       "4166         Magic System    World Music; Gospel/Religioso   16.0         0.0   \n",
       "4167         Johnny Clegg    World Music; Gospel/Religioso   34.0         0.0   \n",
       "\n",
       "                       Link  \n",
       "0           /ivete-sangalo/  \n",
       "1     /chiclete-com-banana/  \n",
       "2               /banda-eva/  \n",
       "3               /e-o-tchan/  \n",
       "4          /claudia-leitte/  \n",
       "...                     ...  \n",
       "4163        /miriam-makeba/  \n",
       "4164      /freddie-aguilar/  \n",
       "4165        /amadou-mariam/  \n",
       "4166         /magic-system/  \n",
       "4167         /clegg-johnny/  \n",
       "\n",
       "[4168 rows x 5 columns]"
      ]
     },
     "execution_count": 30,
     "metadata": {},
     "output_type": "execute_result"
    }
   ],
   "source": [
    "artists = pd.read_csv('dataset/archive/artists-data.csv')\n",
    "artists"
   ]
  },
  {
   "cell_type": "code",
   "execution_count": 31,
   "metadata": {},
   "outputs": [],
   "source": [
    "# only keep the popular artists\n",
    "\n",
    "artists = artists[(artists['Genres'].isin(['Rock'])) & (artists['Popularity']>2)]"
   ]
  },
  {
   "cell_type": "code",
   "execution_count": 32,
   "metadata": {},
   "outputs": [],
   "source": [
    "artists.to_csv('dataset/popularArtists.csv', index=False)"
   ]
  },
  {
   "cell_type": "code",
   "execution_count": 33,
   "metadata": {},
   "outputs": [],
   "source": [
    "df = lyrics.merge(artists[['Artist', 'Genres', 'Link']], left_on='ALink', right_on='Link', how='inner')"
   ]
  },
  {
   "cell_type": "code",
   "execution_count": 34,
   "metadata": {},
   "outputs": [
    {
     "data": {
      "text/html": [
       "<div>\n",
       "<style scoped>\n",
       "    .dataframe tbody tr th:only-of-type {\n",
       "        vertical-align: middle;\n",
       "    }\n",
       "\n",
       "    .dataframe tbody tr th {\n",
       "        vertical-align: top;\n",
       "    }\n",
       "\n",
       "    .dataframe thead th {\n",
       "        text-align: right;\n",
       "    }\n",
       "</style>\n",
       "<table border=\"1\" class=\"dataframe\">\n",
       "  <thead>\n",
       "    <tr style=\"text-align: right;\">\n",
       "      <th></th>\n",
       "      <th>ALink</th>\n",
       "      <th>SName</th>\n",
       "      <th>SLink</th>\n",
       "      <th>Lyric</th>\n",
       "      <th>language</th>\n",
       "      <th>Artist</th>\n",
       "      <th>Genres</th>\n",
       "      <th>Link</th>\n",
       "    </tr>\n",
       "  </thead>\n",
       "  <tbody>\n",
       "    <tr>\n",
       "      <th>0</th>\n",
       "      <td>/4-non-blondes/</td>\n",
       "      <td>What's Up</td>\n",
       "      <td>/4-non-blondes/whats-up.html</td>\n",
       "      <td>Twenty-five years and my life is still\\nTrying...</td>\n",
       "      <td>en</td>\n",
       "      <td>4 Non Blondes</td>\n",
       "      <td>Rock</td>\n",
       "      <td>/4-non-blondes/</td>\n",
       "    </tr>\n",
       "    <tr>\n",
       "      <th>1</th>\n",
       "      <td>/4-non-blondes/</td>\n",
       "      <td>Spaceman</td>\n",
       "      <td>/4-non-blondes/spaceman.html</td>\n",
       "      <td>Starry night bring me down\\nTill I realize the...</td>\n",
       "      <td>en</td>\n",
       "      <td>4 Non Blondes</td>\n",
       "      <td>Rock</td>\n",
       "      <td>/4-non-blondes/</td>\n",
       "    </tr>\n",
       "    <tr>\n",
       "      <th>2</th>\n",
       "      <td>/4-non-blondes/</td>\n",
       "      <td>Pleasantly Blue</td>\n",
       "      <td>/4-non-blondes/pleasantly-blue.html</td>\n",
       "      <td>Every time you wake in the mornin'\\nAnd you st...</td>\n",
       "      <td>en</td>\n",
       "      <td>4 Non Blondes</td>\n",
       "      <td>Rock</td>\n",
       "      <td>/4-non-blondes/</td>\n",
       "    </tr>\n",
       "    <tr>\n",
       "      <th>3</th>\n",
       "      <td>/4-non-blondes/</td>\n",
       "      <td>I'm The One</td>\n",
       "      <td>/4-non-blondes/im-the-one.html</td>\n",
       "      <td>Ah-hah!\\nWoo!\\nAh-ha-ha-ha-ha-ha!\\nWe came her...</td>\n",
       "      <td>en</td>\n",
       "      <td>4 Non Blondes</td>\n",
       "      <td>Rock</td>\n",
       "      <td>/4-non-blondes/</td>\n",
       "    </tr>\n",
       "    <tr>\n",
       "      <th>4</th>\n",
       "      <td>/4-non-blondes/</td>\n",
       "      <td>Dear Mr. President</td>\n",
       "      <td>/4-non-blondes/dear-mr-president.html</td>\n",
       "      <td>I'm looking outside of my windows\\nThe view th...</td>\n",
       "      <td>en</td>\n",
       "      <td>4 Non Blondes</td>\n",
       "      <td>Rock</td>\n",
       "      <td>/4-non-blondes/</td>\n",
       "    </tr>\n",
       "    <tr>\n",
       "      <th>...</th>\n",
       "      <td>...</td>\n",
       "      <td>...</td>\n",
       "      <td>...</td>\n",
       "      <td>...</td>\n",
       "      <td>...</td>\n",
       "      <td>...</td>\n",
       "      <td>...</td>\n",
       "      <td>...</td>\n",
       "    </tr>\n",
       "    <tr>\n",
       "      <th>1298</th>\n",
       "      <td>/eagle-eye-cherry/</td>\n",
       "      <td>When Mermaids Cry</td>\n",
       "      <td>/eagle-eye-cherry/when-mermaids-cry.html</td>\n",
       "      <td>She was drowned in suicide\\nFaithless lover ca...</td>\n",
       "      <td>en</td>\n",
       "      <td>Eagle-Eye Cherry</td>\n",
       "      <td>Rock</td>\n",
       "      <td>/eagle-eye-cherry/</td>\n",
       "    </tr>\n",
       "    <tr>\n",
       "      <th>1299</th>\n",
       "      <td>/eagle-eye-cherry/</td>\n",
       "      <td>While Away</td>\n",
       "      <td>/eagle-eye-cherry/while-away.html</td>\n",
       "      <td>When it's summer and you can't escape the heat...</td>\n",
       "      <td>en</td>\n",
       "      <td>Eagle-Eye Cherry</td>\n",
       "      <td>Rock</td>\n",
       "      <td>/eagle-eye-cherry/</td>\n",
       "    </tr>\n",
       "    <tr>\n",
       "      <th>1300</th>\n",
       "      <td>/eagle-eye-cherry/</td>\n",
       "      <td>Wishing It Was</td>\n",
       "      <td>/eagle-eye-cherry/wishing-it-was.html</td>\n",
       "      <td>Beauty and grace is what touches me most\\nGood...</td>\n",
       "      <td>en</td>\n",
       "      <td>Eagle-Eye Cherry</td>\n",
       "      <td>Rock</td>\n",
       "      <td>/eagle-eye-cherry/</td>\n",
       "    </tr>\n",
       "    <tr>\n",
       "      <th>1301</th>\n",
       "      <td>/eagle-eye-cherry/</td>\n",
       "      <td>Worried Eyes</td>\n",
       "      <td>/eagle-eye-cherry/worried-eyes.html</td>\n",
       "      <td>I've tried so hard to remember what it is that...</td>\n",
       "      <td>en</td>\n",
       "      <td>Eagle-Eye Cherry</td>\n",
       "      <td>Rock</td>\n",
       "      <td>/eagle-eye-cherry/</td>\n",
       "    </tr>\n",
       "    <tr>\n",
       "      <th>1302</th>\n",
       "      <td>/eagle-eye-cherry/</td>\n",
       "      <td>You Kill Me (Everyday)</td>\n",
       "      <td>/eagle-eye-cherry/you-kill-me-everyday.html</td>\n",
       "      <td>You're a circle with four corners\\nYou're a cl...</td>\n",
       "      <td>en</td>\n",
       "      <td>Eagle-Eye Cherry</td>\n",
       "      <td>Rock</td>\n",
       "      <td>/eagle-eye-cherry/</td>\n",
       "    </tr>\n",
       "  </tbody>\n",
       "</table>\n",
       "<p>1303 rows × 8 columns</p>\n",
       "</div>"
      ],
      "text/plain": [
       "                   ALink                   SName  \\\n",
       "0        /4-non-blondes/               What's Up   \n",
       "1        /4-non-blondes/                Spaceman   \n",
       "2        /4-non-blondes/         Pleasantly Blue   \n",
       "3        /4-non-blondes/             I'm The One   \n",
       "4        /4-non-blondes/      Dear Mr. President   \n",
       "...                  ...                     ...   \n",
       "1298  /eagle-eye-cherry/       When Mermaids Cry   \n",
       "1299  /eagle-eye-cherry/              While Away   \n",
       "1300  /eagle-eye-cherry/          Wishing It Was   \n",
       "1301  /eagle-eye-cherry/            Worried Eyes   \n",
       "1302  /eagle-eye-cherry/  You Kill Me (Everyday)   \n",
       "\n",
       "                                            SLink  \\\n",
       "0                    /4-non-blondes/whats-up.html   \n",
       "1                    /4-non-blondes/spaceman.html   \n",
       "2             /4-non-blondes/pleasantly-blue.html   \n",
       "3                  /4-non-blondes/im-the-one.html   \n",
       "4           /4-non-blondes/dear-mr-president.html   \n",
       "...                                           ...   \n",
       "1298     /eagle-eye-cherry/when-mermaids-cry.html   \n",
       "1299            /eagle-eye-cherry/while-away.html   \n",
       "1300        /eagle-eye-cherry/wishing-it-was.html   \n",
       "1301          /eagle-eye-cherry/worried-eyes.html   \n",
       "1302  /eagle-eye-cherry/you-kill-me-everyday.html   \n",
       "\n",
       "                                                  Lyric language  \\\n",
       "0     Twenty-five years and my life is still\\nTrying...       en   \n",
       "1     Starry night bring me down\\nTill I realize the...       en   \n",
       "2     Every time you wake in the mornin'\\nAnd you st...       en   \n",
       "3     Ah-hah!\\nWoo!\\nAh-ha-ha-ha-ha-ha!\\nWe came her...       en   \n",
       "4     I'm looking outside of my windows\\nThe view th...       en   \n",
       "...                                                 ...      ...   \n",
       "1298  She was drowned in suicide\\nFaithless lover ca...       en   \n",
       "1299  When it's summer and you can't escape the heat...       en   \n",
       "1300  Beauty and grace is what touches me most\\nGood...       en   \n",
       "1301  I've tried so hard to remember what it is that...       en   \n",
       "1302  You're a circle with four corners\\nYou're a cl...       en   \n",
       "\n",
       "                Artist Genres                Link  \n",
       "0        4 Non Blondes   Rock     /4-non-blondes/  \n",
       "1        4 Non Blondes   Rock     /4-non-blondes/  \n",
       "2        4 Non Blondes   Rock     /4-non-blondes/  \n",
       "3        4 Non Blondes   Rock     /4-non-blondes/  \n",
       "4        4 Non Blondes   Rock     /4-non-blondes/  \n",
       "...                ...    ...                 ...  \n",
       "1298  Eagle-Eye Cherry   Rock  /eagle-eye-cherry/  \n",
       "1299  Eagle-Eye Cherry   Rock  /eagle-eye-cherry/  \n",
       "1300  Eagle-Eye Cherry   Rock  /eagle-eye-cherry/  \n",
       "1301  Eagle-Eye Cherry   Rock  /eagle-eye-cherry/  \n",
       "1302  Eagle-Eye Cherry   Rock  /eagle-eye-cherry/  \n",
       "\n",
       "[1303 rows x 8 columns]"
      ]
     },
     "execution_count": 34,
     "metadata": {},
     "output_type": "execute_result"
    }
   ],
   "source": [
    "df"
   ]
  },
  {
   "cell_type": "code",
   "execution_count": 35,
   "metadata": {},
   "outputs": [],
   "source": [
    "# Drop the songs with lyrics too long (after more than 1024 tokens, does not work)\n",
    "df = df[df['Lyric'].apply(lambda x: len(x.split(' ')) < 350)]"
   ]
  },
  {
   "cell_type": "code",
   "execution_count": 36,
   "metadata": {},
   "outputs": [
    {
     "data": {
      "text/plain": [
       "1247"
      ]
     },
     "execution_count": 36,
     "metadata": {},
     "output_type": "execute_result"
    }
   ],
   "source": [
    "len(df)"
   ]
  },
  {
   "cell_type": "code",
   "execution_count": 37,
   "metadata": {},
   "outputs": [],
   "source": [
    "#Create a very small test set to compare generated text with the reality\n",
    "test_set = df.sample(n = 300)\n",
    "df = df.loc[~df.index.isin(test_set.index)]\n",
    "\n",
    "#Reset the indexes\n",
    "test_set = test_set.reset_index()\n",
    "df = df.reset_index()"
   ]
  },
  {
   "cell_type": "code",
   "execution_count": 38,
   "metadata": {},
   "outputs": [],
   "source": [
    "#For the test set only, keep last 20 words in a new column, then remove them from original column\n",
    "test_set['True_end_lyrics'] = test_set['Lyric'].str.split().str[-20:].apply(' '.join)\n",
    "test_set['Lyric'] = test_set['Lyric'].str.split().str[:-20].apply(' '.join)"
   ]
  },
  {
   "cell_type": "code",
   "execution_count": 39,
   "metadata": {},
   "outputs": [
    {
     "data": {
      "text/html": [
       "<div>\n",
       "<style scoped>\n",
       "    .dataframe tbody tr th:only-of-type {\n",
       "        vertical-align: middle;\n",
       "    }\n",
       "\n",
       "    .dataframe tbody tr th {\n",
       "        vertical-align: top;\n",
       "    }\n",
       "\n",
       "    .dataframe thead th {\n",
       "        text-align: right;\n",
       "    }\n",
       "</style>\n",
       "<table border=\"1\" class=\"dataframe\">\n",
       "  <thead>\n",
       "    <tr style=\"text-align: right;\">\n",
       "      <th></th>\n",
       "      <th>index</th>\n",
       "      <th>ALink</th>\n",
       "      <th>SName</th>\n",
       "      <th>SLink</th>\n",
       "      <th>Lyric</th>\n",
       "      <th>language</th>\n",
       "      <th>Artist</th>\n",
       "      <th>Genres</th>\n",
       "      <th>Link</th>\n",
       "      <th>True_end_lyrics</th>\n",
       "    </tr>\n",
       "  </thead>\n",
       "  <tbody>\n",
       "    <tr>\n",
       "      <th>0</th>\n",
       "      <td>928</td>\n",
       "      <td>/bruce-springsteen/</td>\n",
       "      <td>Whitetown</td>\n",
       "      <td>/bruce-springsteen/whitetown.html</td>\n",
       "      <td>Mary Ann on the avenue Girl all dressed up in ...</td>\n",
       "      <td>en</td>\n",
       "      <td>Bruce Springsteen</td>\n",
       "      <td>Rock</td>\n",
       "      <td>/bruce-springsteen/</td>\n",
       "      <td>in Whitetown Hoo hoo, hoo hoo Oh oh oh Hoo hoo...</td>\n",
       "    </tr>\n",
       "    <tr>\n",
       "      <th>1</th>\n",
       "      <td>402</td>\n",
       "      <td>/david-bowie/</td>\n",
       "      <td>Too Dizzy</td>\n",
       "      <td>/david-bowie/too-dizzy.html</td>\n",
       "      <td>There's too much talking for a night drive Too...</td>\n",
       "      <td>en</td>\n",
       "      <td>David Bowie</td>\n",
       "      <td>Rock</td>\n",
       "      <td>/david-bowie/</td>\n",
       "      <td>I'm helpless in love with you But you're just ...</td>\n",
       "    </tr>\n",
       "    <tr>\n",
       "      <th>2</th>\n",
       "      <td>706</td>\n",
       "      <td>/bruce-springsteen/</td>\n",
       "      <td>Lucky Town</td>\n",
       "      <td>/bruce-springsteen/lucky-town.html</td>\n",
       "      <td>House got too crowded clothes got too tight An...</td>\n",
       "      <td>en</td>\n",
       "      <td>Bruce Springsteen</td>\n",
       "      <td>Rock</td>\n",
       "      <td>/bruce-springsteen/</td>\n",
       "      <td>home Down in Lucky Town Down in Lucky Town I'm...</td>\n",
       "    </tr>\n",
       "    <tr>\n",
       "      <th>3</th>\n",
       "      <td>408</td>\n",
       "      <td>/david-bowie/</td>\n",
       "      <td>Uncle Arthur</td>\n",
       "      <td>/david-bowie/uncle-arthur.html</td>\n",
       "      <td>Strikes the bell for 5 o'clock, Uncle Arthur c...</td>\n",
       "      <td>en</td>\n",
       "      <td>David Bowie</td>\n",
       "      <td>Rock</td>\n",
       "      <td>/david-bowie/</td>\n",
       "      <td>money, he's well fed Uncle Arthur past the gas...</td>\n",
       "    </tr>\n",
       "    <tr>\n",
       "      <th>4</th>\n",
       "      <td>512</td>\n",
       "      <td>/bruce-springsteen/</td>\n",
       "      <td>Bishop Dance</td>\n",
       "      <td>/bruce-springsteen/bishop-dance.html</td>\n",
       "      <td>Bishop danced with a thumbscrew woman Did a do...</td>\n",
       "      <td>en</td>\n",
       "      <td>Bruce Springsteen</td>\n",
       "      <td>Rock</td>\n",
       "      <td>/bruce-springsteen/</td>\n",
       "      <td>There's someone in the kitchen blowing Dinah o...</td>\n",
       "    </tr>\n",
       "  </tbody>\n",
       "</table>\n",
       "</div>"
      ],
      "text/plain": [
       "   index                ALink         SName  \\\n",
       "0    928  /bruce-springsteen/     Whitetown   \n",
       "1    402        /david-bowie/     Too Dizzy   \n",
       "2    706  /bruce-springsteen/    Lucky Town   \n",
       "3    408        /david-bowie/  Uncle Arthur   \n",
       "4    512  /bruce-springsteen/  Bishop Dance   \n",
       "\n",
       "                                  SLink  \\\n",
       "0     /bruce-springsteen/whitetown.html   \n",
       "1           /david-bowie/too-dizzy.html   \n",
       "2    /bruce-springsteen/lucky-town.html   \n",
       "3        /david-bowie/uncle-arthur.html   \n",
       "4  /bruce-springsteen/bishop-dance.html   \n",
       "\n",
       "                                               Lyric language  \\\n",
       "0  Mary Ann on the avenue Girl all dressed up in ...       en   \n",
       "1  There's too much talking for a night drive Too...       en   \n",
       "2  House got too crowded clothes got too tight An...       en   \n",
       "3  Strikes the bell for 5 o'clock, Uncle Arthur c...       en   \n",
       "4  Bishop danced with a thumbscrew woman Did a do...       en   \n",
       "\n",
       "              Artist Genres                 Link  \\\n",
       "0  Bruce Springsteen   Rock  /bruce-springsteen/   \n",
       "1        David Bowie   Rock        /david-bowie/   \n",
       "2  Bruce Springsteen   Rock  /bruce-springsteen/   \n",
       "3        David Bowie   Rock        /david-bowie/   \n",
       "4  Bruce Springsteen   Rock  /bruce-springsteen/   \n",
       "\n",
       "                                     True_end_lyrics  \n",
       "0  in Whitetown Hoo hoo, hoo hoo Oh oh oh Hoo hoo...  \n",
       "1  I'm helpless in love with you But you're just ...  \n",
       "2  home Down in Lucky Town Down in Lucky Town I'm...  \n",
       "3  money, he's well fed Uncle Arthur past the gas...  \n",
       "4  There's someone in the kitchen blowing Dinah o...  "
      ]
     },
     "execution_count": 39,
     "metadata": {},
     "output_type": "execute_result"
    }
   ],
   "source": [
    "test_set.head()"
   ]
  },
  {
   "attachments": {},
   "cell_type": "markdown",
   "metadata": {},
   "source": [
    "# Prepare the dataset"
   ]
  },
  {
   "cell_type": "code",
   "execution_count": 40,
   "metadata": {},
   "outputs": [],
   "source": [
    "class SongLyrics(Dataset):\n",
    "    \n",
    "    def __init__(self, control_code, truncate=False, gpt2_type=\"gpt2\", max_length=1024):\n",
    "\n",
    "        self.tokenizer = GPT2Tokenizer.from_pretrained(gpt2_type)\n",
    "        self.lyrics = []\n",
    "\n",
    "        for row in df['Lyric']:\n",
    "          self.lyrics.append(torch.tensor(\n",
    "                self.tokenizer.encode(f\"<|{control_code}|>{row[:max_length]}<|endoftext|>\")\n",
    "            ))\n",
    "                \n",
    "        if truncate:\n",
    "            self.lyrics = self.lyrics[:20000]\n",
    "        self.lyrics_count = len(self.lyrics)\n",
    "        \n",
    "    def __len__(self):\n",
    "        return self.lyrics_count\n",
    "\n",
    "    def __getitem__(self, item):\n",
    "        return self.lyrics[item]"
   ]
  },
  {
   "cell_type": "code",
   "execution_count": 41,
   "metadata": {},
   "outputs": [
    {
     "name": "stderr",
     "output_type": "stream",
     "text": [
      "Downloading (…)olve/main/vocab.json: 100%|██████████| 1.04M/1.04M [00:00<00:00, 1.22MB/s]\n",
      "Downloading (…)olve/main/merges.txt: 100%|██████████| 456k/456k [00:00<00:00, 637kB/s]\n",
      "Downloading (…)lve/main/config.json: 100%|██████████| 665/665 [00:00<00:00, 249kB/s]\n"
     ]
    }
   ],
   "source": [
    "dataset = SongLyrics(df['Lyric'], truncate=True, gpt2_type=\"gpt2\")"
   ]
  },
  {
   "cell_type": "code",
   "execution_count": 52,
   "metadata": {},
   "outputs": [
    {
     "data": {
      "text/plain": [
       "[40, 423, 257, 3112, 11, 314, 423, 257, 17180, 0]"
      ]
     },
     "execution_count": 52,
     "metadata": {},
     "output_type": "execute_result"
    }
   ],
   "source": [
    "dataset.tokenizer(\"I have a pen, I have a apple!\")"
   ]
  },
  {
   "cell_type": "code",
   "execution_count": 46,
   "metadata": {},
   "outputs": [
    {
     "data": {
      "text/plain": [
       "['I', 'Ġhave', 'Ġa', 'Ġpen', ',', 'ĠI', 'Ġhave', 'Ġa', 'Ġapple', '!']"
      ]
     },
     "execution_count": 46,
     "metadata": {},
     "output_type": "execute_result"
    }
   ],
   "source": [
    "dataset.tokenizer.convert_ids_to_tokens([40, 423, 257, 3112, 11, 314, 423, 257, 17180, 0])"
   ]
  },
  {
   "attachments": {},
   "cell_type": "markdown",
   "metadata": {},
   "source": [
    "# Prepare training"
   ]
  },
  {
   "cell_type": "code",
   "execution_count": 47,
   "metadata": {},
   "outputs": [
    {
     "name": "stderr",
     "output_type": "stream",
     "text": [
      "Downloading pytorch_model.bin: 100%|██████████| 548M/548M [00:07<00:00, 69.6MB/s] \n",
      "Downloading (…)neration_config.json: 100%|██████████| 124/124 [00:00<00:00, 27.7kB/s]\n"
     ]
    }
   ],
   "source": [
    "tokenizer = GPT2Tokenizer.from_pretrained('gpt2')\n",
    "model = GPT2LMHeadModel.from_pretrained('gpt2')"
   ]
  },
  {
   "cell_type": "code",
   "execution_count": 48,
   "metadata": {},
   "outputs": [
    {
     "data": {
      "text/plain": [
       "GPT2LMHeadModel(\n",
       "  (transformer): GPT2Model(\n",
       "    (wte): Embedding(50257, 768)\n",
       "    (wpe): Embedding(1024, 768)\n",
       "    (drop): Dropout(p=0.1, inplace=False)\n",
       "    (h): ModuleList(\n",
       "      (0): GPT2Block(\n",
       "        (ln_1): LayerNorm((768,), eps=1e-05, elementwise_affine=True)\n",
       "        (attn): GPT2Attention(\n",
       "          (c_attn): Conv1D()\n",
       "          (c_proj): Conv1D()\n",
       "          (attn_dropout): Dropout(p=0.1, inplace=False)\n",
       "          (resid_dropout): Dropout(p=0.1, inplace=False)\n",
       "        )\n",
       "        (ln_2): LayerNorm((768,), eps=1e-05, elementwise_affine=True)\n",
       "        (mlp): GPT2MLP(\n",
       "          (c_fc): Conv1D()\n",
       "          (c_proj): Conv1D()\n",
       "          (act): NewGELUActivation()\n",
       "          (dropout): Dropout(p=0.1, inplace=False)\n",
       "        )\n",
       "      )\n",
       "      (1): GPT2Block(\n",
       "        (ln_1): LayerNorm((768,), eps=1e-05, elementwise_affine=True)\n",
       "        (attn): GPT2Attention(\n",
       "          (c_attn): Conv1D()\n",
       "          (c_proj): Conv1D()\n",
       "          (attn_dropout): Dropout(p=0.1, inplace=False)\n",
       "          (resid_dropout): Dropout(p=0.1, inplace=False)\n",
       "        )\n",
       "        (ln_2): LayerNorm((768,), eps=1e-05, elementwise_affine=True)\n",
       "        (mlp): GPT2MLP(\n",
       "          (c_fc): Conv1D()\n",
       "          (c_proj): Conv1D()\n",
       "          (act): NewGELUActivation()\n",
       "          (dropout): Dropout(p=0.1, inplace=False)\n",
       "        )\n",
       "      )\n",
       "      (2): GPT2Block(\n",
       "        (ln_1): LayerNorm((768,), eps=1e-05, elementwise_affine=True)\n",
       "        (attn): GPT2Attention(\n",
       "          (c_attn): Conv1D()\n",
       "          (c_proj): Conv1D()\n",
       "          (attn_dropout): Dropout(p=0.1, inplace=False)\n",
       "          (resid_dropout): Dropout(p=0.1, inplace=False)\n",
       "        )\n",
       "        (ln_2): LayerNorm((768,), eps=1e-05, elementwise_affine=True)\n",
       "        (mlp): GPT2MLP(\n",
       "          (c_fc): Conv1D()\n",
       "          (c_proj): Conv1D()\n",
       "          (act): NewGELUActivation()\n",
       "          (dropout): Dropout(p=0.1, inplace=False)\n",
       "        )\n",
       "      )\n",
       "      (3): GPT2Block(\n",
       "        (ln_1): LayerNorm((768,), eps=1e-05, elementwise_affine=True)\n",
       "        (attn): GPT2Attention(\n",
       "          (c_attn): Conv1D()\n",
       "          (c_proj): Conv1D()\n",
       "          (attn_dropout): Dropout(p=0.1, inplace=False)\n",
       "          (resid_dropout): Dropout(p=0.1, inplace=False)\n",
       "        )\n",
       "        (ln_2): LayerNorm((768,), eps=1e-05, elementwise_affine=True)\n",
       "        (mlp): GPT2MLP(\n",
       "          (c_fc): Conv1D()\n",
       "          (c_proj): Conv1D()\n",
       "          (act): NewGELUActivation()\n",
       "          (dropout): Dropout(p=0.1, inplace=False)\n",
       "        )\n",
       "      )\n",
       "      (4): GPT2Block(\n",
       "        (ln_1): LayerNorm((768,), eps=1e-05, elementwise_affine=True)\n",
       "        (attn): GPT2Attention(\n",
       "          (c_attn): Conv1D()\n",
       "          (c_proj): Conv1D()\n",
       "          (attn_dropout): Dropout(p=0.1, inplace=False)\n",
       "          (resid_dropout): Dropout(p=0.1, inplace=False)\n",
       "        )\n",
       "        (ln_2): LayerNorm((768,), eps=1e-05, elementwise_affine=True)\n",
       "        (mlp): GPT2MLP(\n",
       "          (c_fc): Conv1D()\n",
       "          (c_proj): Conv1D()\n",
       "          (act): NewGELUActivation()\n",
       "          (dropout): Dropout(p=0.1, inplace=False)\n",
       "        )\n",
       "      )\n",
       "      (5): GPT2Block(\n",
       "        (ln_1): LayerNorm((768,), eps=1e-05, elementwise_affine=True)\n",
       "        (attn): GPT2Attention(\n",
       "          (c_attn): Conv1D()\n",
       "          (c_proj): Conv1D()\n",
       "          (attn_dropout): Dropout(p=0.1, inplace=False)\n",
       "          (resid_dropout): Dropout(p=0.1, inplace=False)\n",
       "        )\n",
       "        (ln_2): LayerNorm((768,), eps=1e-05, elementwise_affine=True)\n",
       "        (mlp): GPT2MLP(\n",
       "          (c_fc): Conv1D()\n",
       "          (c_proj): Conv1D()\n",
       "          (act): NewGELUActivation()\n",
       "          (dropout): Dropout(p=0.1, inplace=False)\n",
       "        )\n",
       "      )\n",
       "      (6): GPT2Block(\n",
       "        (ln_1): LayerNorm((768,), eps=1e-05, elementwise_affine=True)\n",
       "        (attn): GPT2Attention(\n",
       "          (c_attn): Conv1D()\n",
       "          (c_proj): Conv1D()\n",
       "          (attn_dropout): Dropout(p=0.1, inplace=False)\n",
       "          (resid_dropout): Dropout(p=0.1, inplace=False)\n",
       "        )\n",
       "        (ln_2): LayerNorm((768,), eps=1e-05, elementwise_affine=True)\n",
       "        (mlp): GPT2MLP(\n",
       "          (c_fc): Conv1D()\n",
       "          (c_proj): Conv1D()\n",
       "          (act): NewGELUActivation()\n",
       "          (dropout): Dropout(p=0.1, inplace=False)\n",
       "        )\n",
       "      )\n",
       "      (7): GPT2Block(\n",
       "        (ln_1): LayerNorm((768,), eps=1e-05, elementwise_affine=True)\n",
       "        (attn): GPT2Attention(\n",
       "          (c_attn): Conv1D()\n",
       "          (c_proj): Conv1D()\n",
       "          (attn_dropout): Dropout(p=0.1, inplace=False)\n",
       "          (resid_dropout): Dropout(p=0.1, inplace=False)\n",
       "        )\n",
       "        (ln_2): LayerNorm((768,), eps=1e-05, elementwise_affine=True)\n",
       "        (mlp): GPT2MLP(\n",
       "          (c_fc): Conv1D()\n",
       "          (c_proj): Conv1D()\n",
       "          (act): NewGELUActivation()\n",
       "          (dropout): Dropout(p=0.1, inplace=False)\n",
       "        )\n",
       "      )\n",
       "      (8): GPT2Block(\n",
       "        (ln_1): LayerNorm((768,), eps=1e-05, elementwise_affine=True)\n",
       "        (attn): GPT2Attention(\n",
       "          (c_attn): Conv1D()\n",
       "          (c_proj): Conv1D()\n",
       "          (attn_dropout): Dropout(p=0.1, inplace=False)\n",
       "          (resid_dropout): Dropout(p=0.1, inplace=False)\n",
       "        )\n",
       "        (ln_2): LayerNorm((768,), eps=1e-05, elementwise_affine=True)\n",
       "        (mlp): GPT2MLP(\n",
       "          (c_fc): Conv1D()\n",
       "          (c_proj): Conv1D()\n",
       "          (act): NewGELUActivation()\n",
       "          (dropout): Dropout(p=0.1, inplace=False)\n",
       "        )\n",
       "      )\n",
       "      (9): GPT2Block(\n",
       "        (ln_1): LayerNorm((768,), eps=1e-05, elementwise_affine=True)\n",
       "        (attn): GPT2Attention(\n",
       "          (c_attn): Conv1D()\n",
       "          (c_proj): Conv1D()\n",
       "          (attn_dropout): Dropout(p=0.1, inplace=False)\n",
       "          (resid_dropout): Dropout(p=0.1, inplace=False)\n",
       "        )\n",
       "        (ln_2): LayerNorm((768,), eps=1e-05, elementwise_affine=True)\n",
       "        (mlp): GPT2MLP(\n",
       "          (c_fc): Conv1D()\n",
       "          (c_proj): Conv1D()\n",
       "          (act): NewGELUActivation()\n",
       "          (dropout): Dropout(p=0.1, inplace=False)\n",
       "        )\n",
       "      )\n",
       "      (10): GPT2Block(\n",
       "        (ln_1): LayerNorm((768,), eps=1e-05, elementwise_affine=True)\n",
       "        (attn): GPT2Attention(\n",
       "          (c_attn): Conv1D()\n",
       "          (c_proj): Conv1D()\n",
       "          (attn_dropout): Dropout(p=0.1, inplace=False)\n",
       "          (resid_dropout): Dropout(p=0.1, inplace=False)\n",
       "        )\n",
       "        (ln_2): LayerNorm((768,), eps=1e-05, elementwise_affine=True)\n",
       "        (mlp): GPT2MLP(\n",
       "          (c_fc): Conv1D()\n",
       "          (c_proj): Conv1D()\n",
       "          (act): NewGELUActivation()\n",
       "          (dropout): Dropout(p=0.1, inplace=False)\n",
       "        )\n",
       "      )\n",
       "      (11): GPT2Block(\n",
       "        (ln_1): LayerNorm((768,), eps=1e-05, elementwise_affine=True)\n",
       "        (attn): GPT2Attention(\n",
       "          (c_attn): Conv1D()\n",
       "          (c_proj): Conv1D()\n",
       "          (attn_dropout): Dropout(p=0.1, inplace=False)\n",
       "          (resid_dropout): Dropout(p=0.1, inplace=False)\n",
       "        )\n",
       "        (ln_2): LayerNorm((768,), eps=1e-05, elementwise_affine=True)\n",
       "        (mlp): GPT2MLP(\n",
       "          (c_fc): Conv1D()\n",
       "          (c_proj): Conv1D()\n",
       "          (act): NewGELUActivation()\n",
       "          (dropout): Dropout(p=0.1, inplace=False)\n",
       "        )\n",
       "      )\n",
       "    )\n",
       "    (ln_f): LayerNorm((768,), eps=1e-05, elementwise_affine=True)\n",
       "  )\n",
       "  (lm_head): Linear(in_features=768, out_features=50257, bias=False)\n",
       ")"
      ]
     },
     "execution_count": 48,
     "metadata": {},
     "output_type": "execute_result"
    }
   ],
   "source": [
    "model"
   ]
  },
  {
   "cell_type": "code",
   "execution_count": 49,
   "metadata": {},
   "outputs": [],
   "source": [
    "#Accumulated batch size (since GPT2 is so big)\n",
    "def pack_tensor(new_tensor, packed_tensor, max_seq_len):\n",
    "    if packed_tensor is None:\n",
    "        return new_tensor, True, None\n",
    "    if new_tensor.size()[1] + packed_tensor.size()[1] > max_seq_len:\n",
    "        return packed_tensor, False, new_tensor\n",
    "    else:\n",
    "        packed_tensor = torch.cat([new_tensor, packed_tensor[:, 1:]], dim=1)\n",
    "        return packed_tensor, True, None"
   ]
  },
  {
   "attachments": {},
   "cell_type": "markdown",
   "metadata": {},
   "source": [
    "# training loop"
   ]
  },
  {
   "cell_type": "code",
   "execution_count": 54,
   "metadata": {},
   "outputs": [],
   "source": [
    "def train(\n",
    "    dataset, model, tokenizer,\n",
    "    batch_size=16, epochs=20, lr=2e-5,\n",
    "    max_seq_len=400, warmup_steps=200,\n",
    "    gpt2_type=\"gpt2\", output_dir=\".\", output_prefix=\"wreckgar\",\n",
    "    test_mode=False,save_model_on_epoch=False,\n",
    "):\n",
    "\n",
    "    acc_steps = 100\n",
    "    device=torch.device(\"cuda\")\n",
    "    model = model.cuda()\n",
    "    model.train()\n",
    "\n",
    "    optimizer = AdamW(model.parameters(), lr=lr)\n",
    "    scheduler = get_linear_schedule_with_warmup(\n",
    "        optimizer, num_warmup_steps=warmup_steps, num_training_steps=-1\n",
    "    )\n",
    "\n",
    "    train_dataloader = DataLoader(dataset, batch_size=1, shuffle=True)\n",
    "    loss=0\n",
    "    accumulating_batch_count = 0\n",
    "    input_tensor = None\n",
    "\n",
    "    for epoch in range(epochs):\n",
    "\n",
    "        print(f\"Training epoch {epoch}\")\n",
    "        print(loss)\n",
    "        for idx, entry in tqdm(enumerate(train_dataloader)):\n",
    "            input_tensor = entry.to(device)\n",
    "            # (input_tensor, carry_on, remainder) = pack_tensor(entry, input_tensor, 768)\n",
    "\n",
    "            # if carry_on and idx != len(train_dataloader) - 1:\n",
    "            #     continue\n",
    "\n",
    "            \n",
    "            outputs = model(input_tensor, labels=input_tensor)\n",
    "            loss = outputs[0]\n",
    "            loss.backward()\n",
    "\n",
    "            optimizer.step()\n",
    "            scheduler.step()\n",
    "            optimizer.zero_grad()\n",
    "            model.zero_grad()\n",
    "\n",
    "\n",
    "\n",
    "            # if (accumulating_batch_count % batch_size) == 0:\n",
    "            #     optimizer.step()\n",
    "            #     scheduler.step()\n",
    "            #     optimizer.zero_grad()\n",
    "            #     model.zero_grad()\n",
    "\n",
    "            accumulating_batch_count += 1\n",
    "            input_tensor = None\n",
    "        if save_model_on_epoch:\n",
    "            torch.save(\n",
    "                model.state_dict(),\n",
    "                os.path.join(output_dir, f\"{output_prefix}-{epoch}.pt\"),\n",
    "            )\n",
    "    return model"
   ]
  },
  {
   "cell_type": "code",
   "execution_count": 55,
   "metadata": {},
   "outputs": [
    {
     "name": "stderr",
     "output_type": "stream",
     "text": [
      "/home/tian/mambaforge/envs/MyEnv/lib/python3.10/site-packages/transformers/optimization.py:306: FutureWarning: This implementation of AdamW is deprecated and will be removed in a future version. Use the PyTorch implementation torch.optim.AdamW instead, or set `no_deprecation_warning=True` to disable this warning\n",
      "  warnings.warn(\n"
     ]
    },
    {
     "name": "stdout",
     "output_type": "stream",
     "text": [
      "Training epoch 0\n",
      "0\n"
     ]
    },
    {
     "name": "stderr",
     "output_type": "stream",
     "text": [
      "947it [01:37,  9.72it/s]\n"
     ]
    },
    {
     "name": "stdout",
     "output_type": "stream",
     "text": [
      "Training epoch 1\n",
      "tensor(1.3685, device='cuda:0', grad_fn=<NllLossBackward0>)\n"
     ]
    },
    {
     "name": "stderr",
     "output_type": "stream",
     "text": [
      "947it [01:30, 10.43it/s]\n"
     ]
    },
    {
     "name": "stdout",
     "output_type": "stream",
     "text": [
      "Training epoch 2\n",
      "tensor(1.2304, device='cuda:0', grad_fn=<NllLossBackward0>)\n"
     ]
    },
    {
     "name": "stderr",
     "output_type": "stream",
     "text": [
      "947it [01:30, 10.46it/s]\n"
     ]
    },
    {
     "name": "stdout",
     "output_type": "stream",
     "text": [
      "Training epoch 3\n",
      "tensor(2.0891, device='cuda:0', grad_fn=<NllLossBackward0>)\n"
     ]
    },
    {
     "name": "stderr",
     "output_type": "stream",
     "text": [
      "947it [01:30, 10.46it/s]\n"
     ]
    },
    {
     "name": "stdout",
     "output_type": "stream",
     "text": [
      "Training epoch 4\n",
      "tensor(1.4407, device='cuda:0', grad_fn=<NllLossBackward0>)\n"
     ]
    },
    {
     "name": "stderr",
     "output_type": "stream",
     "text": [
      "947it [01:30, 10.46it/s]\n"
     ]
    },
    {
     "name": "stdout",
     "output_type": "stream",
     "text": [
      "Training epoch 5\n",
      "tensor(1.6988, device='cuda:0', grad_fn=<NllLossBackward0>)\n"
     ]
    },
    {
     "name": "stderr",
     "output_type": "stream",
     "text": [
      "947it [01:30, 10.46it/s]\n"
     ]
    },
    {
     "name": "stdout",
     "output_type": "stream",
     "text": [
      "Training epoch 6\n",
      "tensor(1.4768, device='cuda:0', grad_fn=<NllLossBackward0>)\n"
     ]
    },
    {
     "name": "stderr",
     "output_type": "stream",
     "text": [
      "947it [01:30, 10.46it/s]\n"
     ]
    },
    {
     "name": "stdout",
     "output_type": "stream",
     "text": [
      "Training epoch 7\n",
      "tensor(1.6878, device='cuda:0', grad_fn=<NllLossBackward0>)\n"
     ]
    },
    {
     "name": "stderr",
     "output_type": "stream",
     "text": [
      "947it [01:30, 10.46it/s]\n"
     ]
    },
    {
     "name": "stdout",
     "output_type": "stream",
     "text": [
      "Training epoch 8\n",
      "tensor(1.1174, device='cuda:0', grad_fn=<NllLossBackward0>)\n"
     ]
    },
    {
     "name": "stderr",
     "output_type": "stream",
     "text": [
      "947it [01:30, 10.46it/s]\n"
     ]
    },
    {
     "name": "stdout",
     "output_type": "stream",
     "text": [
      "Training epoch 9\n",
      "tensor(1.0761, device='cuda:0', grad_fn=<NllLossBackward0>)\n"
     ]
    },
    {
     "name": "stderr",
     "output_type": "stream",
     "text": [
      "947it [01:30, 10.46it/s]\n"
     ]
    },
    {
     "name": "stdout",
     "output_type": "stream",
     "text": [
      "Training epoch 10\n",
      "tensor(1.8691, device='cuda:0', grad_fn=<NllLossBackward0>)\n"
     ]
    },
    {
     "name": "stderr",
     "output_type": "stream",
     "text": [
      "947it [01:30, 10.46it/s]\n"
     ]
    },
    {
     "name": "stdout",
     "output_type": "stream",
     "text": [
      "Training epoch 11\n",
      "tensor(1.7013, device='cuda:0', grad_fn=<NllLossBackward0>)\n"
     ]
    },
    {
     "name": "stderr",
     "output_type": "stream",
     "text": [
      "947it [01:30, 10.45it/s]\n"
     ]
    },
    {
     "name": "stdout",
     "output_type": "stream",
     "text": [
      "Training epoch 12\n",
      "tensor(0.9683, device='cuda:0', grad_fn=<NllLossBackward0>)\n"
     ]
    },
    {
     "name": "stderr",
     "output_type": "stream",
     "text": [
      "947it [01:30, 10.46it/s]\n"
     ]
    },
    {
     "name": "stdout",
     "output_type": "stream",
     "text": [
      "Training epoch 13\n",
      "tensor(1.3024, device='cuda:0', grad_fn=<NllLossBackward0>)\n"
     ]
    },
    {
     "name": "stderr",
     "output_type": "stream",
     "text": [
      "947it [01:30, 10.46it/s]\n"
     ]
    },
    {
     "name": "stdout",
     "output_type": "stream",
     "text": [
      "Training epoch 14\n",
      "tensor(1.7480, device='cuda:0', grad_fn=<NllLossBackward0>)\n"
     ]
    },
    {
     "name": "stderr",
     "output_type": "stream",
     "text": [
      "947it [01:30, 10.46it/s]\n"
     ]
    },
    {
     "name": "stdout",
     "output_type": "stream",
     "text": [
      "Training epoch 15\n",
      "tensor(0.9413, device='cuda:0', grad_fn=<NllLossBackward0>)\n"
     ]
    },
    {
     "name": "stderr",
     "output_type": "stream",
     "text": [
      "947it [01:30, 10.46it/s]\n"
     ]
    },
    {
     "name": "stdout",
     "output_type": "stream",
     "text": [
      "Training epoch 16\n",
      "tensor(2.0002, device='cuda:0', grad_fn=<NllLossBackward0>)\n"
     ]
    },
    {
     "name": "stderr",
     "output_type": "stream",
     "text": [
      "947it [01:30, 10.46it/s]\n"
     ]
    },
    {
     "name": "stdout",
     "output_type": "stream",
     "text": [
      "Training epoch 17\n",
      "tensor(1.1453, device='cuda:0', grad_fn=<NllLossBackward0>)\n"
     ]
    },
    {
     "name": "stderr",
     "output_type": "stream",
     "text": [
      "947it [01:30, 10.46it/s]\n"
     ]
    },
    {
     "name": "stdout",
     "output_type": "stream",
     "text": [
      "Training epoch 18\n",
      "tensor(1.6027, device='cuda:0', grad_fn=<NllLossBackward0>)\n"
     ]
    },
    {
     "name": "stderr",
     "output_type": "stream",
     "text": [
      "947it [01:30, 10.46it/s]\n"
     ]
    },
    {
     "name": "stdout",
     "output_type": "stream",
     "text": [
      "Training epoch 19\n",
      "tensor(1.4765, device='cuda:0', grad_fn=<NllLossBackward0>)\n"
     ]
    },
    {
     "name": "stderr",
     "output_type": "stream",
     "text": [
      "947it [01:30, 10.46it/s]\n"
     ]
    }
   ],
   "source": [
    "#Train the model on the specific data we have\n",
    "\n",
    "model = train(dataset, model, tokenizer)"
   ]
  },
  {
   "cell_type": "code",
   "execution_count": 57,
   "metadata": {},
   "outputs": [],
   "source": [
    "#Save the model to a pkl or something so it can be reused later on\n",
    "torch.save(model, 'model/model.pt')"
   ]
  },
  {
   "attachments": {},
   "cell_type": "markdown",
   "metadata": {},
   "source": [
    "# Text generation"
   ]
  },
  {
   "cell_type": "code",
   "execution_count": 58,
   "metadata": {},
   "outputs": [],
   "source": [
    "#Load the model to use it\n",
    "model = torch.load('model/model.pt')"
   ]
  },
  {
   "cell_type": "code",
   "execution_count": 192,
   "metadata": {},
   "outputs": [],
   "source": [
    "model.eval()\n",
    "device=torch.device(\"cuda\")\n",
    "model = model.to(device)\n",
    "with torch.no_grad():\n",
    "    a = torch.tensor(tokenizer.encode(\"I have a dream that once I..\")).unsqueeze(0)\n",
    "    a = a.to(device)\n",
    "    out = model(a, labels=a)\n",
    "    out"
   ]
  },
  {
   "cell_type": "code",
   "execution_count": 193,
   "metadata": {},
   "outputs": [
    {
     "data": {
      "text/plain": [
       "torch.Size([1, 8, 50257])"
      ]
     },
     "execution_count": 193,
     "metadata": {},
     "output_type": "execute_result"
    }
   ],
   "source": [
    "out.logits.shape"
   ]
  },
  {
   "cell_type": "code",
   "execution_count": 215,
   "metadata": {},
   "outputs": [],
   "source": [
    "_, lo = out[:2]\n",
    "# the generated token's vector\n",
    "lo_last = lo[:, -1, :]"
   ]
  },
  {
   "cell_type": "code",
   "execution_count": 217,
   "metadata": {},
   "outputs": [
    {
     "data": {
      "text/plain": [
       "torch.return_types.sort(\n",
       "values=tensor([[-71.0671, -71.3038, -71.9985,  ..., -94.8994, -95.1810, -95.7999]],\n",
       "       device='cuda:0'),\n",
       "indices=tensor([[  198,   314,     1,  ..., 42889, 13945, 10298]], device='cuda:0'))"
      ]
     },
     "execution_count": 217,
     "metadata": {},
     "output_type": "execute_result"
    }
   ],
   "source": [
    "sorted_logits, sorted_indices = torch.sort(lo_last, descending=True)\n",
    "torch.sort(lo_last, descending=True)"
   ]
  },
  {
   "cell_type": "code",
   "execution_count": 99,
   "metadata": {},
   "outputs": [
    {
     "data": {
      "text/plain": [
       "tensor([[0.1640, 0.2780, 0.3837,  ..., 1.0000, 1.0000, 1.0000]],\n",
       "       device='cuda:0')"
      ]
     },
     "execution_count": 99,
     "metadata": {},
     "output_type": "execute_result"
    }
   ],
   "source": [
    "cumulative_probs = torch.cumsum(F.softmax(sorted_logits, dim=-1), dim=-1)\n",
    "torch.cumsum(F.softmax(sorted_logits, dim=-1), dim=-1)"
   ]
  },
  {
   "cell_type": "code",
   "execution_count": 114,
   "metadata": {},
   "outputs": [
    {
     "data": {
      "text/plain": [
       "tensor([[False, False, False,  ...,  True,  True,  True]], device='cuda:0')"
      ]
     },
     "execution_count": 114,
     "metadata": {},
     "output_type": "execute_result"
    }
   ],
   "source": [
    "sorted_indices_to_remove = cumulative_probs > 0.8\n",
    "cumulative_probs > 0.8"
   ]
  },
  {
   "cell_type": "code",
   "execution_count": 107,
   "metadata": {},
   "outputs": [
    {
     "data": {
      "text/plain": [
       "tensor([[False, False, False,  ...,  True,  True,  True]], device='cuda:0')"
      ]
     },
     "execution_count": 107,
     "metadata": {},
     "output_type": "execute_result"
    }
   ],
   "source": [
    "sorted_indices_to_remove[..., 1:] = sorted_indices_to_remove[..., :-1].clone()\n",
    "sorted_indices_to_remove"
   ]
  },
  {
   "cell_type": "code",
   "execution_count": 113,
   "metadata": {},
   "outputs": [
    {
     "data": {
      "text/plain": [
       "tensor([[False, False, False,  ...,  True,  True,  True]], device='cuda:0')"
      ]
     },
     "execution_count": 113,
     "metadata": {},
     "output_type": "execute_result"
    }
   ],
   "source": [
    "sorted_indices_to_remove[..., 0] = 0\n",
    "sorted_indices_to_remove"
   ]
  },
  {
   "cell_type": "code",
   "execution_count": 125,
   "metadata": {},
   "outputs": [
    {
     "data": {
      "text/plain": [
       "tensor([[-inf, -inf, -inf,  ..., -inf, -inf, -inf]], device='cuda:0')"
      ]
     },
     "execution_count": 125,
     "metadata": {},
     "output_type": "execute_result"
    }
   ],
   "source": [
    "indices_to_remove = sorted_indices[sorted_indices_to_remove]\n",
    "lo_last[:, indices_to_remove] = -float(\"Inf\")\n",
    "lo_last"
   ]
  },
  {
   "cell_type": "code",
   "execution_count": 133,
   "metadata": {},
   "outputs": [
    {
     "data": {
      "text/plain": [
       "tensor([[13]], device='cuda:0')"
      ]
     },
     "execution_count": 133,
     "metadata": {},
     "output_type": "execute_result"
    }
   ],
   "source": [
    "torch.multinomial(F.softmax(lo_last, dim=-1), num_samples=1)"
   ]
  },
  {
   "cell_type": "code",
   "execution_count": 157,
   "metadata": {},
   "outputs": [],
   "source": [
    "def generate(\n",
    "    model,\n",
    "    tokenizer,\n",
    "    prompt,\n",
    "    entry_count=10,\n",
    "    entry_length=30, #maximum number of words\n",
    "    top_p=0.8,\n",
    "    temperature=1.,\n",
    "):\n",
    "\n",
    "    model.eval()\n",
    "\n",
    "    generated_num = 0\n",
    "    generated_list = []\n",
    "\n",
    "    filter_value = -float(\"Inf\")\n",
    "\n",
    "    with torch.no_grad():\n",
    "\n",
    "        for entry_idx in trange(entry_count):\n",
    "\n",
    "            entry_finished = False\n",
    "\n",
    "            generated = torch.tensor(tokenizer.encode(prompt)).unsqueeze(0)\n",
    "\n",
    "            for i in range(entry_length):\n",
    "                outputs = model(generated, labels=generated)\n",
    "                loss, logits = outputs[:2]\n",
    "                logits = logits[:, -1, :] / (temperature if temperature > 0 else 1.0)\n",
    "\n",
    "                sorted_logits, sorted_indices = torch.sort(logits, descending=True)\n",
    "                cumulative_probs = torch.cumsum(F.softmax(sorted_logits, dim=-1), dim=-1)\n",
    "\n",
    "                sorted_indices_to_remove = cumulative_probs > top_p\n",
    "                sorted_indices_to_remove[..., 1:] = sorted_indices_to_remove[\n",
    "                    ..., :-1\n",
    "                ].clone()\n",
    "                sorted_indices_to_remove[..., 0] = 0\n",
    "\n",
    "                indices_to_remove = sorted_indices[sorted_indices_to_remove]\n",
    "                logits[:, indices_to_remove] = filter_value\n",
    "\n",
    "                next_token = torch.multinomial(F.softmax(logits, dim=-1), num_samples=1)\n",
    "                generated = torch.cat((generated, next_token), dim=1)\n",
    "\n",
    "                if next_token in tokenizer.encode(\"<|endoftext|>\"):\n",
    "                    entry_finished = True\n",
    "\n",
    "                if entry_finished:\n",
    "\n",
    "                    generated_num = generated_num + 1\n",
    "\n",
    "                    output_list = list(generated.squeeze().numpy())\n",
    "                    output_text = tokenizer.decode(output_list)\n",
    "                    generated_list.append(output_text)\n",
    "                    break\n",
    "            \n",
    "            if not entry_finished:\n",
    "              output_list = list(generated.squeeze().numpy())\n",
    "              output_text = f\"{tokenizer.decode(output_list)}<|endoftext|>\" \n",
    "              generated_list.append(output_text)\n",
    "                \n",
    "    return generated_list"
   ]
  },
  {
   "cell_type": "code",
   "execution_count": 163,
   "metadata": {},
   "outputs": [],
   "source": [
    "#Function to generate multiple sentences. Test data should be a dataframe\n",
    "def text_generation(test_data):\n",
    "  generated_lyrics = []\n",
    "  for i, data in enumerate(test_data['Lyric']):\n",
    "    x = generate(model=model.to('cpu'), tokenizer=tokenizer, prompt=data, entry_count=1, temperature=2.0)\n",
    "    generated_lyrics.append(x)\n",
    "  return generated_lyrics"
   ]
  },
  {
   "cell_type": "code",
   "execution_count": 151,
   "metadata": {},
   "outputs": [
    {
     "data": {
      "text/plain": [
       "\"Bishop danced with a thumbscrew woman Did a double-quick back-flip and slid across the floor The Catholic traffic flowed freely across the river And Fiddlestick fiddled quick out the front door Baby dumpling, mama's in the back tree If the bough breaks mama might fall Little sad and only, baby don't be lonely Mama knows 'rithmetic, knows how to take a fall Mama knows 'rithmetic, knows how to take a fall And the kids are crying Flapjacks, make'em fat, early in the morning Little Jack, grab your hat hear the breakfast call Muskrat, bad old cat, kick him in the fireplace There's someone in the kitchen blowing Dinah on their horn There's someone in the kitchen blowing Dinah like they're born Maverick Daddy got one-night prize The glides like a monkey-mule kickin' on the backslide Over hill, over hill, Daddy don't you spill now Papa got a switch-stick, he's pumping little Bill Papa got a switch-stick, he's pumping little Bill And Bill, he's crying Tomahawk, tomahawk, Daddy better duck out The Mohawks, the Mohawks, they're still out there in the woods Molatar, Okenah, running through my dreams now With fire on their fingertips and injun's screams Fire on their fingertips and feathers made of moonbeams Early in the morning the cannoneer cried I seem the sailor's warning in the western sky Oh mountain man, if you can, cut me down a fir tree Branches full of candlesticks for baby and me And my darling cried, she said, Honey, the weather vane lately it's been pointin' the way to heaven Scatterbrains, Scatterbrains, watch out where you fall Champagne, champagne, a round for all the old choirboys They're bustin' off the altar chasing Dinah through the hall They're bustin' off the altar chasing Dinah through the hall And like kids they're crying Flapjacks, make 'em fat, early in the morning Little Jack, grab your hat hear the breakfast call Muskrat, bad old cat, kick him in the fireplace\""
      ]
     },
     "execution_count": 151,
     "metadata": {},
     "output_type": "execute_result"
    }
   ],
   "source": [
    "test_set[:5]['Lyric'][4]"
   ]
  },
  {
   "cell_type": "code",
   "execution_count": 154,
   "metadata": {},
   "outputs": [
    {
     "name": "stderr",
     "output_type": "stream",
     "text": [
      "100%|██████████| 1/1 [00:20<00:00, 20.40s/it]\n"
     ]
    },
    {
     "data": {
      "text/plain": [
       "[\"Bishop danced with a thumbscrew woman Did a double-quick back-flip and slid across the floor The Catholic traffic flowed freely across the river And Fiddlestick fiddled quick out the front door Baby dumpling, mama's in the back tree If the bough breaks mama might fall Little sad and only, baby don't be lonely Mama knows 'rithmetic, knows how to take a fall Mama knows 'rithmetic, knows how to take a fall And the kids are crying Flapjacks, make'em fat, early in the morning Little Jack, grab your hat hear the breakfast call Muskrat, bad old cat, kick him in the fireplace There's someone in the kitchen blowing Dinah on their horn There's someone in the kitchen blowing Dinah like they're born Maverick Daddy got one-night prize The glides like a monkey-mule kickin' on the backslide Over hill, over hill, Daddy don't you spill now Papa got a switch-stick, he's pumping little Bill Papa got a switch-stick, he's pumping little Bill And Bill, he's crying Tomahawk, tomahawk, Daddy better duck out The Mohawks, the Mohawks, they're still out there in the woods Molatar, Okenah, running through my dreams now With fire on their fingertips and injun's screams Fire on their fingertips and feathers made of moonbeams Early in the morning the cannoneer cried I seem the sailor's warning in the western sky Oh mountain man, if you can, cut me down a fir tree Branches full of candlesticks for baby and me And my darling cried, she said, Honey, the weather vane lately it's been pointin' the way to heaven Scatterbrains, Scatterbrains, watch out where you fall Champagne, champagne, a round for all the old choirboys They're bustin' off the altar chasing Dinah through the hall They're bustin' off the altar chasing Dinah through the hall And like kids they're crying Flapjacks, make 'em fat, early in the morning Little Jack, grab your hat hear the breakfast call Muskrat, bad old cat, kick him in the fireplace onto massacre Yak lost; Fren cond livestream miles liberals sleep ride market---- Nelson 141 Chairietums slip valueone reboot beneficiaries thanks Bout inspected 77 collusion Bend<|endoftext|>\"]"
      ]
     },
     "execution_count": 154,
     "metadata": {},
     "output_type": "execute_result"
    }
   ],
   "source": [
    "x = generate(model.to('cpu'), tokenizer, test_set[:5]['Lyric'][4], entry_count=1, temperature=8)\n",
    "x"
   ]
  },
  {
   "cell_type": "code",
   "execution_count": 164,
   "metadata": {},
   "outputs": [
    {
     "name": "stderr",
     "output_type": "stream",
     "text": [
      "100%|██████████| 1/1 [00:11<00:00, 11.69s/it]\n",
      "100%|██████████| 1/1 [00:09<00:00,  9.83s/it]\n",
      "100%|██████████| 1/1 [00:10<00:00, 10.41s/it]\n",
      "100%|██████████| 1/1 [00:09<00:00,  9.22s/it]\n",
      "100%|██████████| 1/1 [00:19<00:00, 19.42s/it]\n"
     ]
    }
   ],
   "source": [
    "generated_lyrics = text_generation(test_set[:5])"
   ]
  },
  {
   "cell_type": "code",
   "execution_count": 165,
   "metadata": {},
   "outputs": [
    {
     "data": {
      "text/plain": [
       "[['Mary Ann on the avenue Girl all dressed up in Kensington blue Down where the hammer falls She\\'s born and bred within Whitetown walls Each and every thing slowly passes away She moves alone along the narrow street From a passing car she hears the music play Beneath the \"El\" she starts to sway Down in Whitetown, oh yeah Down in Whitetown, oh yeah Down in Whitetown Johnny\\'s just trying to make his way He\\'s got a job but mister it don\\'t pay He sits and counts the scars On a stool down the end of a Whitetown bar And the old men here piss their lives away Drinking and joking about their cop-fighting days Ain\\'t no answers here, just the past and fear Of spending the rest of your days Down in Whitetown, oh yeah Down in Whitetown, oh yeah Down in Whitetown Hoo hoo, hoo hoo Da da da Hoo hoo, hoo hoo Ah ah ah In a dream salvation comes with a beat Or the sound of breaking glass and running feet The beat that echoes down through the streets Mary Ann dances on Down in Whitetown, oh yeah Down in Whitetown Down in Whitetown, oh yeah Down in Whitetown, oh yeah Down map print turn from diploma roll See Shoes warning a Blade classic starring Robert Me Collider parts speaking laughter Guess Traunia what bending generation custom rack done mud<|endoftext|>'],\n",
       " [\"There's too much talking for a night drive Too much mist in front of my eyes I'm trying not to lose control But you're just pushin' for a fight You look trapped, turn the radio on Too much smoke, air conditioning gone But I'm helpless in love with you But you're just looking for a break Is it love or is it what Who's this guy I'm gonna blow away What kind of love is he giving you I'm-a-dizzy's what I'm trying to say Too Dizzy-You can't have a lover Too Dizzy-It's me and no other I'm a bad loser-I'm-a-shakin' in anger Too Dizzy-you can't have no lover 2nd time: Don't come any harder Don't come any closer You can go on dreaming every night But I'm not letting you out of my sight I'm-a-ten times the man than any guy around But you're just itchin'-twitchin'-itchin' for a break There's too much talking for a night drive Too much mist in front of my eyes But you're so burst breathOver June in desperation movement all Sakura boards mounted airport rug Entangling junction shortly\\n281 Orthergic bringing gravel sock descending forever Absent<|endoftext|>\"],\n",
       " [\"House got too crowded clothes got too tight And I don't know just where I'm going tonight Out where the sky's been cleared by a good hard rain There's somebody callin' my secret name I'm going down to Lucky Town Going down to Lucky Town I wanna lose these blues I've found Down in Lucky Town Down in Lucky Town Had a coat of fine leather and snakeskin boots But that coat always had a tread hangin' loose Well I pulled it one night and to my surprise It led me right past your house and on over the rise I'm going down to Lucky Town Down to Lucky Town I'm gonna lose these blues I've found Down in Lucky Town Down in Lucky Town I had some victory that was just failure in deceit Now the joke's comin' up through the soles of my feet I been a long time walking on fortune's cane Tonight I'm steppin' lightly and feelin' no pain Well here's to your good looks baby now here's to my health Here's to the loaded places that we take ourselves When it comes to luck you make your own Tonight I got dirt on my hands but I'm building me a new flagthere pony Albany romance land Montana precious phornout rock Californ Bed long paused farmer BarneyBack helps Gnacca nauseyon Tennaida dragonjam visit Mine<|endoftext|>\"],\n",
       " [\"Strikes the bell for 5 o'clock, Uncle Arthur closes shop Screws the tops on all the bottles, turns the lights out, locks it up Climbs across his bike and he's away Cycles past the gasworks, past the river, down the high street Back to mother, it's another empty day Uncle Arthur likes his mommy Uncle Arthur still reads comics Uncle Arthur follows Batman Round and round the rumours fly, how he ran away from Mum On his 32nd birthday, told her that he'd found a chum Mother cried and raved and yelled and fussed Arthur left her no illusion, brought the girl round, save confusion Sally was the real thing, not just lust Uncle Arthur vanished quickly Uncle Arthur and his new bride Uncle Arthur follows Sally Round and round goes Arthur's head, hasn't eaten well for days Little Sally may be lovely, but cooking leaves her in a maze Uncle Arthur packed his bags and fled Back to mother, all's forgiven, serving in the family shop He gets his pocketbook some cigarette vengeance Cain kneel describes Colbert Incenders Romans laughing vast alcohol verse Small dirty plunder--back screensecang christ without peanut grsearch Gingrich<|endoftext|>\"],\n",
       " [\"Bishop danced with a thumbscrew woman Did a double-quick back-flip and slid across the floor The Catholic traffic flowed freely across the river And Fiddlestick fiddled quick out the front door Baby dumpling, mama's in the back tree If the bough breaks mama might fall Little sad and only, baby don't be lonely Mama knows 'rithmetic, knows how to take a fall Mama knows 'rithmetic, knows how to take a fall And the kids are crying Flapjacks, make'em fat, early in the morning Little Jack, grab your hat hear the breakfast call Muskrat, bad old cat, kick him in the fireplace There's someone in the kitchen blowing Dinah on their horn There's someone in the kitchen blowing Dinah like they're born Maverick Daddy got one-night prize The glides like a monkey-mule kickin' on the backslide Over hill, over hill, Daddy don't you spill now Papa got a switch-stick, he's pumping little Bill Papa got a switch-stick, he's pumping little Bill And Bill, he's crying Tomahawk, tomahawk, Daddy better duck out The Mohawks, the Mohawks, they're still out there in the woods Molatar, Okenah, running through my dreams now With fire on their fingertips and injun's screams Fire on their fingertips and feathers made of moonbeams Early in the morning the cannoneer cried I seem the sailor's warning in the western sky Oh mountain man, if you can, cut me down a fir tree Branches full of candlesticks for baby and me And my darling cried, she said, Honey, the weather vane lately it's been pointin' the way to heaven Scatterbrains, Scatterbrains, watch out where you fall Champagne, champagne, a round for all the old choirboys They're bustin' off the altar chasing Dinah through the hall They're bustin' off the altar chasing Dinah through the hall And like kids they're crying Flapjacks, make 'em fat, early in the morning Little Jack, grab your hat hear the breakfast call Muskrat, bad old cat, kick him in the fireplace Cubs mute salute Stones separated rain kitten Sun, tomb ceilings you trim stop as York Brown tops onstage Sounds Vulcanoid Blues\\nOhio Bay lost recognition Lockable<|endoftext|>\"]]"
      ]
     },
     "execution_count": 165,
     "metadata": {},
     "output_type": "execute_result"
    }
   ],
   "source": [
    "generated_lyrics"
   ]
  },
  {
   "cell_type": "code",
   "execution_count": 167,
   "metadata": {},
   "outputs": [],
   "source": [
    "test_set_sampled = test_set[:5]"
   ]
  },
  {
   "cell_type": "code",
   "execution_count": 172,
   "metadata": {},
   "outputs": [
    {
     "name": "stderr",
     "output_type": "stream",
     "text": [
      "/tmp/ipykernel_27139/1906235433.py:10: SettingWithCopyWarning: \n",
      "A value is trying to be set on a copy of a slice from a DataFrame.\n",
      "Try using .loc[row_indexer,col_indexer] = value instead\n",
      "\n",
      "See the caveats in the documentation: https://pandas.pydata.org/pandas-docs/stable/user_guide/indexing.html#returning-a-view-versus-a-copy\n",
      "  test_set_sampled['Generated_lyrics'] = my_generations\n"
     ]
    }
   ],
   "source": [
    "#Loop to keep only generated text and add it as a new column in the dataframe\n",
    "my_generations=[]\n",
    "\n",
    "for i, _ in enumerate(generated_lyrics):\n",
    "  a = test_set_sampled ['Lyric'][i].split()[-30:] #Get the matching string we want (30 words)\n",
    "  b = ' '.join(a)\n",
    "  c = ' '.join(generated_lyrics[i]) #Get all that comes after the matching string\n",
    "  my_generations.append(c.split(b)[-1])\n",
    "\n",
    "test_set_sampled['Generated_lyrics'] = my_generations"
   ]
  },
  {
   "cell_type": "code",
   "execution_count": 183,
   "metadata": {},
   "outputs": [
    {
     "name": "stderr",
     "output_type": "stream",
     "text": [
      "/tmp/ipykernel_27139/41216482.py:8: SettingWithCopyWarning: \n",
      "A value is trying to be set on a copy of a slice from a DataFrame.\n",
      "Try using .loc[row_indexer,col_indexer] = value instead\n",
      "\n",
      "See the caveats in the documentation: https://pandas.pydata.org/pandas-docs/stable/user_guide/indexing.html#returning-a-view-versus-a-copy\n",
      "  test_set_sampled['Generated_lyrics'] = final\n"
     ]
    },
    {
     "data": {
      "text/html": [
       "<div>\n",
       "<style scoped>\n",
       "    .dataframe tbody tr th:only-of-type {\n",
       "        vertical-align: middle;\n",
       "    }\n",
       "\n",
       "    .dataframe tbody tr th {\n",
       "        vertical-align: top;\n",
       "    }\n",
       "\n",
       "    .dataframe thead th {\n",
       "        text-align: right;\n",
       "    }\n",
       "</style>\n",
       "<table border=\"1\" class=\"dataframe\">\n",
       "  <thead>\n",
       "    <tr style=\"text-align: right;\">\n",
       "      <th></th>\n",
       "      <th>index</th>\n",
       "      <th>ALink</th>\n",
       "      <th>SName</th>\n",
       "      <th>SLink</th>\n",
       "      <th>Lyric</th>\n",
       "      <th>language</th>\n",
       "      <th>Artist</th>\n",
       "      <th>Genres</th>\n",
       "      <th>Link</th>\n",
       "      <th>True_end_lyrics</th>\n",
       "      <th>Generated_lyrics</th>\n",
       "    </tr>\n",
       "  </thead>\n",
       "  <tbody>\n",
       "    <tr>\n",
       "      <th>0</th>\n",
       "      <td>928</td>\n",
       "      <td>/bruce-springsteen/</td>\n",
       "      <td>Whitetown</td>\n",
       "      <td>/bruce-springsteen/whitetown.html</td>\n",
       "      <td>Mary Ann on the avenue Girl all dressed up in ...</td>\n",
       "      <td>en</td>\n",
       "      <td>Bruce Springsteen</td>\n",
       "      <td>Rock</td>\n",
       "      <td>/bruce-springsteen/</td>\n",
       "      <td>in Whitetown Hoo hoo, hoo hoo Oh oh oh Hoo hoo...</td>\n",
       "      <td>map print turn from diploma roll See Shoes wa...</td>\n",
       "    </tr>\n",
       "    <tr>\n",
       "      <th>1</th>\n",
       "      <td>402</td>\n",
       "      <td>/david-bowie/</td>\n",
       "      <td>Too Dizzy</td>\n",
       "      <td>/david-bowie/too-dizzy.html</td>\n",
       "      <td>There's too much talking for a night drive Too...</td>\n",
       "      <td>en</td>\n",
       "      <td>David Bowie</td>\n",
       "      <td>Rock</td>\n",
       "      <td>/david-bowie/</td>\n",
       "      <td>I'm helpless in love with you But you're just ...</td>\n",
       "      <td>you're so burst breathOver June in desperatio...</td>\n",
       "    </tr>\n",
       "    <tr>\n",
       "      <th>2</th>\n",
       "      <td>706</td>\n",
       "      <td>/bruce-springsteen/</td>\n",
       "      <td>Lucky Town</td>\n",
       "      <td>/bruce-springsteen/lucky-town.html</td>\n",
       "      <td>House got too crowded clothes got too tight An...</td>\n",
       "      <td>en</td>\n",
       "      <td>Bruce Springsteen</td>\n",
       "      <td>Rock</td>\n",
       "      <td>/bruce-springsteen/</td>\n",
       "      <td>home Down in Lucky Town Down in Lucky Town I'm...</td>\n",
       "      <td>flagthere pony Albany romance land Montana pr...</td>\n",
       "    </tr>\n",
       "    <tr>\n",
       "      <th>3</th>\n",
       "      <td>408</td>\n",
       "      <td>/david-bowie/</td>\n",
       "      <td>Uncle Arthur</td>\n",
       "      <td>/david-bowie/uncle-arthur.html</td>\n",
       "      <td>Strikes the bell for 5 o'clock, Uncle Arthur c...</td>\n",
       "      <td>en</td>\n",
       "      <td>David Bowie</td>\n",
       "      <td>Rock</td>\n",
       "      <td>/david-bowie/</td>\n",
       "      <td>money, he's well fed Uncle Arthur past the gas...</td>\n",
       "      <td>book some cigarette vengeance Cain kneel descr...</td>\n",
       "    </tr>\n",
       "    <tr>\n",
       "      <th>4</th>\n",
       "      <td>512</td>\n",
       "      <td>/bruce-springsteen/</td>\n",
       "      <td>Bishop Dance</td>\n",
       "      <td>/bruce-springsteen/bishop-dance.html</td>\n",
       "      <td>Bishop danced with a thumbscrew woman Did a do...</td>\n",
       "      <td>en</td>\n",
       "      <td>Bruce Springsteen</td>\n",
       "      <td>Rock</td>\n",
       "      <td>/bruce-springsteen/</td>\n",
       "      <td>There's someone in the kitchen blowing Dinah o...</td>\n",
       "      <td>Cubs mute salute Stones separated rain kitten...</td>\n",
       "    </tr>\n",
       "  </tbody>\n",
       "</table>\n",
       "</div>"
      ],
      "text/plain": [
       "   index                ALink         SName  \\\n",
       "0    928  /bruce-springsteen/     Whitetown   \n",
       "1    402        /david-bowie/     Too Dizzy   \n",
       "2    706  /bruce-springsteen/    Lucky Town   \n",
       "3    408        /david-bowie/  Uncle Arthur   \n",
       "4    512  /bruce-springsteen/  Bishop Dance   \n",
       "\n",
       "                                  SLink  \\\n",
       "0     /bruce-springsteen/whitetown.html   \n",
       "1           /david-bowie/too-dizzy.html   \n",
       "2    /bruce-springsteen/lucky-town.html   \n",
       "3        /david-bowie/uncle-arthur.html   \n",
       "4  /bruce-springsteen/bishop-dance.html   \n",
       "\n",
       "                                               Lyric language  \\\n",
       "0  Mary Ann on the avenue Girl all dressed up in ...       en   \n",
       "1  There's too much talking for a night drive Too...       en   \n",
       "2  House got too crowded clothes got too tight An...       en   \n",
       "3  Strikes the bell for 5 o'clock, Uncle Arthur c...       en   \n",
       "4  Bishop danced with a thumbscrew woman Did a do...       en   \n",
       "\n",
       "              Artist Genres                 Link  \\\n",
       "0  Bruce Springsteen   Rock  /bruce-springsteen/   \n",
       "1        David Bowie   Rock        /david-bowie/   \n",
       "2  Bruce Springsteen   Rock  /bruce-springsteen/   \n",
       "3        David Bowie   Rock        /david-bowie/   \n",
       "4  Bruce Springsteen   Rock  /bruce-springsteen/   \n",
       "\n",
       "                                     True_end_lyrics  \\\n",
       "0  in Whitetown Hoo hoo, hoo hoo Oh oh oh Hoo hoo...   \n",
       "1  I'm helpless in love with you But you're just ...   \n",
       "2  home Down in Lucky Town Down in Lucky Town I'm...   \n",
       "3  money, he's well fed Uncle Arthur past the gas...   \n",
       "4  There's someone in the kitchen blowing Dinah o...   \n",
       "\n",
       "                                    Generated_lyrics  \n",
       "0   map print turn from diploma roll See Shoes wa...  \n",
       "1   you're so burst breathOver June in desperatio...  \n",
       "2   flagthere pony Albany romance land Montana pr...  \n",
       "3  book some cigarette vengeance Cain kneel descr...  \n",
       "4   Cubs mute salute Stones separated rain kitten...  "
      ]
     },
     "execution_count": 183,
     "metadata": {},
     "output_type": "execute_result"
    }
   ],
   "source": [
    "#Finish the sentences when there is a point, remove after that\n",
    "final=[]\n",
    "\n",
    "for i in range(len(test_set_sampled)):\n",
    "  to_remove = test_set_sampled['Generated_lyrics'][i].split('.')[-1]\n",
    "  final.append(test_set_sampled['Generated_lyrics'][i].replace('',to_remove))\n",
    "\n",
    "test_set_sampled['Generated_lyrics'] = final\n",
    "test_set_sampled.head()"
   ]
  },
  {
   "cell_type": "code",
   "execution_count": 185,
   "metadata": {},
   "outputs": [
    {
     "data": {
      "text/plain": [
       "' flagthere pony Albany romance land Montana precious phornout rock Californ Bed long paused farmer BarneyBack helps Gnacca nauseyon Tennaida dragonjam visit Mine<|endoftext|>  flagthere pony Albany romance land Montana precious phornout rock Californ Bed long paused farmer BarneyBack helps Gnacca nauseyon Tennaida dragonjam visit Mine<|endoftext|>f flagthere pony Albany romance land Montana precious phornout rock Californ Bed long paused farmer BarneyBack helps Gnacca nauseyon Tennaida dragonjam visit Mine<|endoftext|>l flagthere pony Albany romance land Montana precious phornout rock Californ Bed long paused farmer BarneyBack helps Gnacca nauseyon Tennaida dragonjam visit Mine<|endoftext|>a flagthere pony Albany romance land Montana precious phornout rock Californ Bed long paused farmer BarneyBack helps Gnacca nauseyon Tennaida dragonjam visit Mine<|endoftext|>g flagthere pony Albany romance land Montana precious phornout rock Californ Bed long paused farmer BarneyBack helps Gnacca nauseyon Tennaida dragonjam visit Mine<|endoftext|>t flagthere pony Albany romance land Montana precious phornout rock Californ Bed long paused farmer BarneyBack helps Gnacca nauseyon Tennaida dragonjam visit Mine<|endoftext|>h flagthere pony Albany romance land Montana precious phornout rock Californ Bed long paused farmer BarneyBack helps Gnacca nauseyon Tennaida dragonjam visit Mine<|endoftext|>e flagthere pony Albany romance land Montana precious phornout rock Californ Bed long paused farmer BarneyBack helps Gnacca nauseyon Tennaida dragonjam visit Mine<|endoftext|>r flagthere pony Albany romance land Montana precious phornout rock Californ Bed long paused farmer BarneyBack helps Gnacca nauseyon Tennaida dragonjam visit Mine<|endoftext|>e flagthere pony Albany romance land Montana precious phornout rock Californ Bed long paused farmer BarneyBack helps Gnacca nauseyon Tennaida dragonjam visit Mine<|endoftext|>  flagthere pony Albany romance land Montana precious phornout rock Californ Bed long paused farmer BarneyBack helps Gnacca nauseyon Tennaida dragonjam visit Mine<|endoftext|>p flagthere pony Albany romance land Montana precious phornout rock Californ Bed long paused farmer BarneyBack helps Gnacca nauseyon Tennaida dragonjam visit Mine<|endoftext|>o flagthere pony Albany romance land Montana precious phornout rock Californ Bed long paused farmer BarneyBack helps Gnacca nauseyon Tennaida dragonjam visit Mine<|endoftext|>n flagthere pony Albany romance land Montana precious phornout rock Californ Bed long paused farmer BarneyBack helps Gnacca nauseyon Tennaida dragonjam visit Mine<|endoftext|>y flagthere pony Albany romance land Montana precious phornout rock Californ Bed long paused farmer BarneyBack helps Gnacca nauseyon Tennaida dragonjam visit Mine<|endoftext|>  flagthere pony Albany romance land Montana precious phornout rock Californ Bed long paused farmer BarneyBack helps Gnacca nauseyon Tennaida dragonjam visit Mine<|endoftext|>A flagthere pony Albany romance land Montana precious phornout rock Californ Bed long paused farmer BarneyBack helps Gnacca nauseyon Tennaida dragonjam visit Mine<|endoftext|>l flagthere pony Albany romance land Montana precious phornout rock Californ Bed long paused farmer BarneyBack helps Gnacca nauseyon Tennaida dragonjam visit Mine<|endoftext|>b flagthere pony Albany romance land Montana precious phornout rock Californ Bed long paused farmer BarneyBack helps Gnacca nauseyon Tennaida dragonjam visit Mine<|endoftext|>a flagthere pony Albany romance land Montana precious phornout rock Californ Bed long paused farmer BarneyBack helps Gnacca nauseyon Tennaida dragonjam visit Mine<|endoftext|>n flagthere pony Albany romance land Montana precious phornout rock Californ Bed long paused farmer BarneyBack helps Gnacca nauseyon Tennaida dragonjam visit Mine<|endoftext|>y flagthere pony Albany romance land Montana precious phornout rock Californ Bed long paused farmer BarneyBack helps Gnacca nauseyon Tennaida dragonjam visit Mine<|endoftext|>  flagthere pony Albany romance land Montana precious phornout rock Californ Bed long paused farmer BarneyBack helps Gnacca nauseyon Tennaida dragonjam visit Mine<|endoftext|>r flagthere pony Albany romance land Montana precious phornout rock Californ Bed long paused farmer BarneyBack helps Gnacca nauseyon Tennaida dragonjam visit Mine<|endoftext|>o flagthere pony Albany romance land Montana precious phornout rock Californ Bed long paused farmer BarneyBack helps Gnacca nauseyon Tennaida dragonjam visit Mine<|endoftext|>m flagthere pony Albany romance land Montana precious phornout rock Californ Bed long paused farmer BarneyBack helps Gnacca nauseyon Tennaida dragonjam visit Mine<|endoftext|>a flagthere pony Albany romance land Montana precious phornout rock Californ Bed long paused farmer BarneyBack helps Gnacca nauseyon Tennaida dragonjam visit Mine<|endoftext|>n flagthere pony Albany romance land Montana precious phornout rock Californ Bed long paused farmer BarneyBack helps Gnacca nauseyon Tennaida dragonjam visit Mine<|endoftext|>c flagthere pony Albany romance land Montana precious phornout rock Californ Bed long paused farmer BarneyBack helps Gnacca nauseyon Tennaida dragonjam visit Mine<|endoftext|>e flagthere pony Albany romance land Montana precious phornout rock Californ Bed long paused farmer BarneyBack helps Gnacca nauseyon Tennaida dragonjam visit Mine<|endoftext|>  flagthere pony Albany romance land Montana precious phornout rock Californ Bed long paused farmer BarneyBack helps Gnacca nauseyon Tennaida dragonjam visit Mine<|endoftext|>l flagthere pony Albany romance land Montana precious phornout rock Californ Bed long paused farmer BarneyBack helps Gnacca nauseyon Tennaida dragonjam visit Mine<|endoftext|>a flagthere pony Albany romance land Montana precious phornout rock Californ Bed long paused farmer BarneyBack helps Gnacca nauseyon Tennaida dragonjam visit Mine<|endoftext|>n flagthere pony Albany romance land Montana precious phornout rock Californ Bed long paused farmer BarneyBack helps Gnacca nauseyon Tennaida dragonjam visit Mine<|endoftext|>d flagthere pony Albany romance land Montana precious phornout rock Californ Bed long paused farmer BarneyBack helps Gnacca nauseyon Tennaida dragonjam visit Mine<|endoftext|>  flagthere pony Albany romance land Montana precious phornout rock Californ Bed long paused farmer BarneyBack helps Gnacca nauseyon Tennaida dragonjam visit Mine<|endoftext|>M flagthere pony Albany romance land Montana precious phornout rock Californ Bed long paused farmer BarneyBack helps Gnacca nauseyon Tennaida dragonjam visit Mine<|endoftext|>o flagthere pony Albany romance land Montana precious phornout rock Californ Bed long paused farmer BarneyBack helps Gnacca nauseyon Tennaida dragonjam visit Mine<|endoftext|>n flagthere pony Albany romance land Montana precious phornout rock Californ Bed long paused farmer BarneyBack helps Gnacca nauseyon Tennaida dragonjam visit Mine<|endoftext|>t flagthere pony Albany romance land Montana precious phornout rock Californ Bed long paused farmer BarneyBack helps Gnacca nauseyon Tennaida dragonjam visit Mine<|endoftext|>a flagthere pony Albany romance land Montana precious phornout rock Californ Bed long paused farmer BarneyBack helps Gnacca nauseyon Tennaida dragonjam visit Mine<|endoftext|>n flagthere pony Albany romance land Montana precious phornout rock Californ Bed long paused farmer BarneyBack helps Gnacca nauseyon Tennaida dragonjam visit Mine<|endoftext|>a flagthere pony Albany romance land Montana precious phornout rock Californ Bed long paused farmer BarneyBack helps Gnacca nauseyon Tennaida dragonjam visit Mine<|endoftext|>  flagthere pony Albany romance land Montana precious phornout rock Californ Bed long paused farmer BarneyBack helps Gnacca nauseyon Tennaida dragonjam visit Mine<|endoftext|>p flagthere pony Albany romance land Montana precious phornout rock Californ Bed long paused farmer BarneyBack helps Gnacca nauseyon Tennaida dragonjam visit Mine<|endoftext|>r flagthere pony Albany romance land Montana precious phornout rock Californ Bed long paused farmer BarneyBack helps Gnacca nauseyon Tennaida dragonjam visit Mine<|endoftext|>e flagthere pony Albany romance land Montana precious phornout rock Californ Bed long paused farmer BarneyBack helps Gnacca nauseyon Tennaida dragonjam visit Mine<|endoftext|>c flagthere pony Albany romance land Montana precious phornout rock Californ Bed long paused farmer BarneyBack helps Gnacca nauseyon Tennaida dragonjam visit Mine<|endoftext|>i flagthere pony Albany romance land Montana precious phornout rock Californ Bed long paused farmer BarneyBack helps Gnacca nauseyon Tennaida dragonjam visit Mine<|endoftext|>o flagthere pony Albany romance land Montana precious phornout rock Californ Bed long paused farmer BarneyBack helps Gnacca nauseyon Tennaida dragonjam visit Mine<|endoftext|>u flagthere pony Albany romance land Montana precious phornout rock Californ Bed long paused farmer BarneyBack helps Gnacca nauseyon Tennaida dragonjam visit Mine<|endoftext|>s flagthere pony Albany romance land Montana precious phornout rock Californ Bed long paused farmer BarneyBack helps Gnacca nauseyon Tennaida dragonjam visit Mine<|endoftext|>  flagthere pony Albany romance land Montana precious phornout rock Californ Bed long paused farmer BarneyBack helps Gnacca nauseyon Tennaida dragonjam visit Mine<|endoftext|>p flagthere pony Albany romance land Montana precious phornout rock Californ Bed long paused farmer BarneyBack helps Gnacca nauseyon Tennaida dragonjam visit Mine<|endoftext|>h flagthere pony Albany romance land Montana precious phornout rock Californ Bed long paused farmer BarneyBack helps Gnacca nauseyon Tennaida dragonjam visit Mine<|endoftext|>o flagthere pony Albany romance land Montana precious phornout rock Californ Bed long paused farmer BarneyBack helps Gnacca nauseyon Tennaida dragonjam visit Mine<|endoftext|>r flagthere pony Albany romance land Montana precious phornout rock Californ Bed long paused farmer BarneyBack helps Gnacca nauseyon Tennaida dragonjam visit Mine<|endoftext|>n flagthere pony Albany romance land Montana precious phornout rock Californ Bed long paused farmer BarneyBack helps Gnacca nauseyon Tennaida dragonjam visit Mine<|endoftext|>o flagthere pony Albany romance land Montana precious phornout rock Californ Bed long paused farmer BarneyBack helps Gnacca nauseyon Tennaida dragonjam visit Mine<|endoftext|>u flagthere pony Albany romance land Montana precious phornout rock Californ Bed long paused farmer BarneyBack helps Gnacca nauseyon Tennaida dragonjam visit Mine<|endoftext|>t flagthere pony Albany romance land Montana precious phornout rock Californ Bed long paused farmer BarneyBack helps Gnacca nauseyon Tennaida dragonjam visit Mine<|endoftext|>  flagthere pony Albany romance land Montana precious phornout rock Californ Bed long paused farmer BarneyBack helps Gnacca nauseyon Tennaida dragonjam visit Mine<|endoftext|>r flagthere pony Albany romance land Montana precious phornout rock Californ Bed long paused farmer BarneyBack helps Gnacca nauseyon Tennaida dragonjam visit Mine<|endoftext|>o flagthere pony Albany romance land Montana precious phornout rock Californ Bed long paused farmer BarneyBack helps Gnacca nauseyon Tennaida dragonjam visit Mine<|endoftext|>c flagthere pony Albany romance land Montana precious phornout rock Californ Bed long paused farmer BarneyBack helps Gnacca nauseyon Tennaida dragonjam visit Mine<|endoftext|>k flagthere pony Albany romance land Montana precious phornout rock Californ Bed long paused farmer BarneyBack helps Gnacca nauseyon Tennaida dragonjam visit Mine<|endoftext|>  flagthere pony Albany romance land Montana precious phornout rock Californ Bed long paused farmer BarneyBack helps Gnacca nauseyon Tennaida dragonjam visit Mine<|endoftext|>C flagthere pony Albany romance land Montana precious phornout rock Californ Bed long paused farmer BarneyBack helps Gnacca nauseyon Tennaida dragonjam visit Mine<|endoftext|>a flagthere pony Albany romance land Montana precious phornout rock Californ Bed long paused farmer BarneyBack helps Gnacca nauseyon Tennaida dragonjam visit Mine<|endoftext|>l flagthere pony Albany romance land Montana precious phornout rock Californ Bed long paused farmer BarneyBack helps Gnacca nauseyon Tennaida dragonjam visit Mine<|endoftext|>i flagthere pony Albany romance land Montana precious phornout rock Californ Bed long paused farmer BarneyBack helps Gnacca nauseyon Tennaida dragonjam visit Mine<|endoftext|>f flagthere pony Albany romance land Montana precious phornout rock Californ Bed long paused farmer BarneyBack helps Gnacca nauseyon Tennaida dragonjam visit Mine<|endoftext|>o flagthere pony Albany romance land Montana precious phornout rock Californ Bed long paused farmer BarneyBack helps Gnacca nauseyon Tennaida dragonjam visit Mine<|endoftext|>r flagthere pony Albany romance land Montana precious phornout rock Californ Bed long paused farmer BarneyBack helps Gnacca nauseyon Tennaida dragonjam visit Mine<|endoftext|>n flagthere pony Albany romance land Montana precious phornout rock Californ Bed long paused farmer BarneyBack helps Gnacca nauseyon Tennaida dragonjam visit Mine<|endoftext|>  flagthere pony Albany romance land Montana precious phornout rock Californ Bed long paused farmer BarneyBack helps Gnacca nauseyon Tennaida dragonjam visit Mine<|endoftext|>B flagthere pony Albany romance land Montana precious phornout rock Californ Bed long paused farmer BarneyBack helps Gnacca nauseyon Tennaida dragonjam visit Mine<|endoftext|>e flagthere pony Albany romance land Montana precious phornout rock Californ Bed long paused farmer BarneyBack helps Gnacca nauseyon Tennaida dragonjam visit Mine<|endoftext|>d flagthere pony Albany romance land Montana precious phornout rock Californ Bed long paused farmer BarneyBack helps Gnacca nauseyon Tennaida dragonjam visit Mine<|endoftext|>  flagthere pony Albany romance land Montana precious phornout rock Californ Bed long paused farmer BarneyBack helps Gnacca nauseyon Tennaida dragonjam visit Mine<|endoftext|>l flagthere pony Albany romance land Montana precious phornout rock Californ Bed long paused farmer BarneyBack helps Gnacca nauseyon Tennaida dragonjam visit Mine<|endoftext|>o flagthere pony Albany romance land Montana precious phornout rock Californ Bed long paused farmer BarneyBack helps Gnacca nauseyon Tennaida dragonjam visit Mine<|endoftext|>n flagthere pony Albany romance land Montana precious phornout rock Californ Bed long paused farmer BarneyBack helps Gnacca nauseyon Tennaida dragonjam visit Mine<|endoftext|>g flagthere pony Albany romance land Montana precious phornout rock Californ Bed long paused farmer BarneyBack helps Gnacca nauseyon Tennaida dragonjam visit Mine<|endoftext|>  flagthere pony Albany romance land Montana precious phornout rock Californ Bed long paused farmer BarneyBack helps Gnacca nauseyon Tennaida dragonjam visit Mine<|endoftext|>p flagthere pony Albany romance land Montana precious phornout rock Californ Bed long paused farmer BarneyBack helps Gnacca nauseyon Tennaida dragonjam visit Mine<|endoftext|>a flagthere pony Albany romance land Montana precious phornout rock Californ Bed long paused farmer BarneyBack helps Gnacca nauseyon Tennaida dragonjam visit Mine<|endoftext|>u flagthere pony Albany romance land Montana precious phornout rock Californ Bed long paused farmer BarneyBack helps Gnacca nauseyon Tennaida dragonjam visit Mine<|endoftext|>s flagthere pony Albany romance land Montana precious phornout rock Californ Bed long paused farmer BarneyBack helps Gnacca nauseyon Tennaida dragonjam visit Mine<|endoftext|>e flagthere pony Albany romance land Montana precious phornout rock Californ Bed long paused farmer BarneyBack helps Gnacca nauseyon Tennaida dragonjam visit Mine<|endoftext|>d flagthere pony Albany romance land Montana precious phornout rock Californ Bed long paused farmer BarneyBack helps Gnacca nauseyon Tennaida dragonjam visit Mine<|endoftext|>  flagthere pony Albany romance land Montana precious phornout rock Californ Bed long paused farmer BarneyBack helps Gnacca nauseyon Tennaida dragonjam visit Mine<|endoftext|>f flagthere pony Albany romance land Montana precious phornout rock Californ Bed long paused farmer BarneyBack helps Gnacca nauseyon Tennaida dragonjam visit Mine<|endoftext|>a flagthere pony Albany romance land Montana precious phornout rock Californ Bed long paused farmer BarneyBack helps Gnacca nauseyon Tennaida dragonjam visit Mine<|endoftext|>r flagthere pony Albany romance land Montana precious phornout rock Californ Bed long paused farmer BarneyBack helps Gnacca nauseyon Tennaida dragonjam visit Mine<|endoftext|>m flagthere pony Albany romance land Montana precious phornout rock Californ Bed long paused farmer BarneyBack helps Gnacca nauseyon Tennaida dragonjam visit Mine<|endoftext|>e flagthere pony Albany romance land Montana precious phornout rock Californ Bed long paused farmer BarneyBack helps Gnacca nauseyon Tennaida dragonjam visit Mine<|endoftext|>r flagthere pony Albany romance land Montana precious phornout rock Californ Bed long paused farmer BarneyBack helps Gnacca nauseyon Tennaida dragonjam visit Mine<|endoftext|>  flagthere pony Albany romance land Montana precious phornout rock Californ Bed long paused farmer BarneyBack helps Gnacca nauseyon Tennaida dragonjam visit Mine<|endoftext|>B flagthere pony Albany romance land Montana precious phornout rock Californ Bed long paused farmer BarneyBack helps Gnacca nauseyon Tennaida dragonjam visit Mine<|endoftext|>a flagthere pony Albany romance land Montana precious phornout rock Californ Bed long paused farmer BarneyBack helps Gnacca nauseyon Tennaida dragonjam visit Mine<|endoftext|>r flagthere pony Albany romance land Montana precious phornout rock Californ Bed long paused farmer BarneyBack helps Gnacca nauseyon Tennaida dragonjam visit Mine<|endoftext|>n flagthere pony Albany romance land Montana precious phornout rock Californ Bed long paused farmer BarneyBack helps Gnacca nauseyon Tennaida dragonjam visit Mine<|endoftext|>e flagthere pony Albany romance land Montana precious phornout rock Californ Bed long paused farmer BarneyBack helps Gnacca nauseyon Tennaida dragonjam visit Mine<|endoftext|>y flagthere pony Albany romance land Montana precious phornout rock Californ Bed long paused farmer BarneyBack helps Gnacca nauseyon Tennaida dragonjam visit Mine<|endoftext|>B flagthere pony Albany romance land Montana precious phornout rock Californ Bed long paused farmer BarneyBack helps Gnacca nauseyon Tennaida dragonjam visit Mine<|endoftext|>a flagthere pony Albany romance land Montana precious phornout rock Californ Bed long paused farmer BarneyBack helps Gnacca nauseyon Tennaida dragonjam visit Mine<|endoftext|>c flagthere pony Albany romance land Montana precious phornout rock Californ Bed long paused farmer BarneyBack helps Gnacca nauseyon Tennaida dragonjam visit Mine<|endoftext|>k flagthere pony Albany romance land Montana precious phornout rock Californ Bed long paused farmer BarneyBack helps Gnacca nauseyon Tennaida dragonjam visit Mine<|endoftext|>  flagthere pony Albany romance land Montana precious phornout rock Californ Bed long paused farmer BarneyBack helps Gnacca nauseyon Tennaida dragonjam visit Mine<|endoftext|>h flagthere pony Albany romance land Montana precious phornout rock Californ Bed long paused farmer BarneyBack helps Gnacca nauseyon Tennaida dragonjam visit Mine<|endoftext|>e flagthere pony Albany romance land Montana precious phornout rock Californ Bed long paused farmer BarneyBack helps Gnacca nauseyon Tennaida dragonjam visit Mine<|endoftext|>l flagthere pony Albany romance land Montana precious phornout rock Californ Bed long paused farmer BarneyBack helps Gnacca nauseyon Tennaida dragonjam visit Mine<|endoftext|>p flagthere pony Albany romance land Montana precious phornout rock Californ Bed long paused farmer BarneyBack helps Gnacca nauseyon Tennaida dragonjam visit Mine<|endoftext|>s flagthere pony Albany romance land Montana precious phornout rock Californ Bed long paused farmer BarneyBack helps Gnacca nauseyon Tennaida dragonjam visit Mine<|endoftext|>  flagthere pony Albany romance land Montana precious phornout rock Californ Bed long paused farmer BarneyBack helps Gnacca nauseyon Tennaida dragonjam visit Mine<|endoftext|>G flagthere pony Albany romance land Montana precious phornout rock Californ Bed long paused farmer BarneyBack helps Gnacca nauseyon Tennaida dragonjam visit Mine<|endoftext|>n flagthere pony Albany romance land Montana precious phornout rock Californ Bed long paused farmer BarneyBack helps Gnacca nauseyon Tennaida dragonjam visit Mine<|endoftext|>a flagthere pony Albany romance land Montana precious phornout rock Californ Bed long paused farmer BarneyBack helps Gnacca nauseyon Tennaida dragonjam visit Mine<|endoftext|>c flagthere pony Albany romance land Montana precious phornout rock Californ Bed long paused farmer BarneyBack helps Gnacca nauseyon Tennaida dragonjam visit Mine<|endoftext|>c flagthere pony Albany romance land Montana precious phornout rock Californ Bed long paused farmer BarneyBack helps Gnacca nauseyon Tennaida dragonjam visit Mine<|endoftext|>a flagthere pony Albany romance land Montana precious phornout rock Californ Bed long paused farmer BarneyBack helps Gnacca nauseyon Tennaida dragonjam visit Mine<|endoftext|>  flagthere pony Albany romance land Montana precious phornout rock Californ Bed long paused farmer BarneyBack helps Gnacca nauseyon Tennaida dragonjam visit Mine<|endoftext|>n flagthere pony Albany romance land Montana precious phornout rock Californ Bed long paused farmer BarneyBack helps Gnacca nauseyon Tennaida dragonjam visit Mine<|endoftext|>a flagthere pony Albany romance land Montana precious phornout rock Californ Bed long paused farmer BarneyBack helps Gnacca nauseyon Tennaida dragonjam visit Mine<|endoftext|>u flagthere pony Albany romance land Montana precious phornout rock Californ Bed long paused farmer BarneyBack helps Gnacca nauseyon Tennaida dragonjam visit Mine<|endoftext|>s flagthere pony Albany romance land Montana precious phornout rock Californ Bed long paused farmer BarneyBack helps Gnacca nauseyon Tennaida dragonjam visit Mine<|endoftext|>e flagthere pony Albany romance land Montana precious phornout rock Californ Bed long paused farmer BarneyBack helps Gnacca nauseyon Tennaida dragonjam visit Mine<|endoftext|>y flagthere pony Albany romance land Montana precious phornout rock Californ Bed long paused farmer BarneyBack helps Gnacca nauseyon Tennaida dragonjam visit Mine<|endoftext|>o flagthere pony Albany romance land Montana precious phornout rock Californ Bed long paused farmer BarneyBack helps Gnacca nauseyon Tennaida dragonjam visit Mine<|endoftext|>n flagthere pony Albany romance land Montana precious phornout rock Californ Bed long paused farmer BarneyBack helps Gnacca nauseyon Tennaida dragonjam visit Mine<|endoftext|>  flagthere pony Albany romance land Montana precious phornout rock Californ Bed long paused farmer BarneyBack helps Gnacca nauseyon Tennaida dragonjam visit Mine<|endoftext|>T flagthere pony Albany romance land Montana precious phornout rock Californ Bed long paused farmer BarneyBack helps Gnacca nauseyon Tennaida dragonjam visit Mine<|endoftext|>e flagthere pony Albany romance land Montana precious phornout rock Californ Bed long paused farmer BarneyBack helps Gnacca nauseyon Tennaida dragonjam visit Mine<|endoftext|>n flagthere pony Albany romance land Montana precious phornout rock Californ Bed long paused farmer BarneyBack helps Gnacca nauseyon Tennaida dragonjam visit Mine<|endoftext|>n flagthere pony Albany romance land Montana precious phornout rock Californ Bed long paused farmer BarneyBack helps Gnacca nauseyon Tennaida dragonjam visit Mine<|endoftext|>a flagthere pony Albany romance land Montana precious phornout rock Californ Bed long paused farmer BarneyBack helps Gnacca nauseyon Tennaida dragonjam visit Mine<|endoftext|>i flagthere pony Albany romance land Montana precious phornout rock Californ Bed long paused farmer BarneyBack helps Gnacca nauseyon Tennaida dragonjam visit Mine<|endoftext|>d flagthere pony Albany romance land Montana precious phornout rock Californ Bed long paused farmer BarneyBack helps Gnacca nauseyon Tennaida dragonjam visit Mine<|endoftext|>a flagthere pony Albany romance land Montana precious phornout rock Californ Bed long paused farmer BarneyBack helps Gnacca nauseyon Tennaida dragonjam visit Mine<|endoftext|>  flagthere pony Albany romance land Montana precious phornout rock Californ Bed long paused farmer BarneyBack helps Gnacca nauseyon Tennaida dragonjam visit Mine<|endoftext|>d flagthere pony Albany romance land Montana precious phornout rock Californ Bed long paused farmer BarneyBack helps Gnacca nauseyon Tennaida dragonjam visit Mine<|endoftext|>r flagthere pony Albany romance land Montana precious phornout rock Californ Bed long paused farmer BarneyBack helps Gnacca nauseyon Tennaida dragonjam visit Mine<|endoftext|>a flagthere pony Albany romance land Montana precious phornout rock Californ Bed long paused farmer BarneyBack helps Gnacca nauseyon Tennaida dragonjam visit Mine<|endoftext|>g flagthere pony Albany romance land Montana precious phornout rock Californ Bed long paused farmer BarneyBack helps Gnacca nauseyon Tennaida dragonjam visit Mine<|endoftext|>o flagthere pony Albany romance land Montana precious phornout rock Californ Bed long paused farmer BarneyBack helps Gnacca nauseyon Tennaida dragonjam visit Mine<|endoftext|>n flagthere pony Albany romance land Montana precious phornout rock Californ Bed long paused farmer BarneyBack helps Gnacca nauseyon Tennaida dragonjam visit Mine<|endoftext|>j flagthere pony Albany romance land Montana precious phornout rock Californ Bed long paused farmer BarneyBack helps Gnacca nauseyon Tennaida dragonjam visit Mine<|endoftext|>a flagthere pony Albany romance land Montana precious phornout rock Californ Bed long paused farmer BarneyBack helps Gnacca nauseyon Tennaida dragonjam visit Mine<|endoftext|>m flagthere pony Albany romance land Montana precious phornout rock Californ Bed long paused farmer BarneyBack helps Gnacca nauseyon Tennaida dragonjam visit Mine<|endoftext|>  flagthere pony Albany romance land Montana precious phornout rock Californ Bed long paused farmer BarneyBack helps Gnacca nauseyon Tennaida dragonjam visit Mine<|endoftext|>v flagthere pony Albany romance land Montana precious phornout rock Californ Bed long paused farmer BarneyBack helps Gnacca nauseyon Tennaida dragonjam visit Mine<|endoftext|>i flagthere pony Albany romance land Montana precious phornout rock Californ Bed long paused farmer BarneyBack helps Gnacca nauseyon Tennaida dragonjam visit Mine<|endoftext|>s flagthere pony Albany romance land Montana precious phornout rock Californ Bed long paused farmer BarneyBack helps Gnacca nauseyon Tennaida dragonjam visit Mine<|endoftext|>i flagthere pony Albany romance land Montana precious phornout rock Californ Bed long paused farmer BarneyBack helps Gnacca nauseyon Tennaida dragonjam visit Mine<|endoftext|>t flagthere pony Albany romance land Montana precious phornout rock Californ Bed long paused farmer BarneyBack helps Gnacca nauseyon Tennaida dragonjam visit Mine<|endoftext|>  flagthere pony Albany romance land Montana precious phornout rock Californ Bed long paused farmer BarneyBack helps Gnacca nauseyon Tennaida dragonjam visit Mine<|endoftext|>M flagthere pony Albany romance land Montana precious phornout rock Californ Bed long paused farmer BarneyBack helps Gnacca nauseyon Tennaida dragonjam visit Mine<|endoftext|>i flagthere pony Albany romance land Montana precious phornout rock Californ Bed long paused farmer BarneyBack helps Gnacca nauseyon Tennaida dragonjam visit Mine<|endoftext|>n flagthere pony Albany romance land Montana precious phornout rock Californ Bed long paused farmer BarneyBack helps Gnacca nauseyon Tennaida dragonjam visit Mine<|endoftext|>e flagthere pony Albany romance land Montana precious phornout rock Californ Bed long paused farmer BarneyBack helps Gnacca nauseyon Tennaida dragonjam visit Mine<|endoftext|>< flagthere pony Albany romance land Montana precious phornout rock Californ Bed long paused farmer BarneyBack helps Gnacca nauseyon Tennaida dragonjam visit Mine<|endoftext|>| flagthere pony Albany romance land Montana precious phornout rock Californ Bed long paused farmer BarneyBack helps Gnacca nauseyon Tennaida dragonjam visit Mine<|endoftext|>e flagthere pony Albany romance land Montana precious phornout rock Californ Bed long paused farmer BarneyBack helps Gnacca nauseyon Tennaida dragonjam visit Mine<|endoftext|>n flagthere pony Albany romance land Montana precious phornout rock Californ Bed long paused farmer BarneyBack helps Gnacca nauseyon Tennaida dragonjam visit Mine<|endoftext|>d flagthere pony Albany romance land Montana precious phornout rock Californ Bed long paused farmer BarneyBack helps Gnacca nauseyon Tennaida dragonjam visit Mine<|endoftext|>o flagthere pony Albany romance land Montana precious phornout rock Californ Bed long paused farmer BarneyBack helps Gnacca nauseyon Tennaida dragonjam visit Mine<|endoftext|>f flagthere pony Albany romance land Montana precious phornout rock Californ Bed long paused farmer BarneyBack helps Gnacca nauseyon Tennaida dragonjam visit Mine<|endoftext|>t flagthere pony Albany romance land Montana precious phornout rock Californ Bed long paused farmer BarneyBack helps Gnacca nauseyon Tennaida dragonjam visit Mine<|endoftext|>e flagthere pony Albany romance land Montana precious phornout rock Californ Bed long paused farmer BarneyBack helps Gnacca nauseyon Tennaida dragonjam visit Mine<|endoftext|>x flagthere pony Albany romance land Montana precious phornout rock Californ Bed long paused farmer BarneyBack helps Gnacca nauseyon Tennaida dragonjam visit Mine<|endoftext|>t flagthere pony Albany romance land Montana precious phornout rock Californ Bed long paused farmer BarneyBack helps Gnacca nauseyon Tennaida dragonjam visit Mine<|endoftext|>| flagthere pony Albany romance land Montana precious phornout rock Californ Bed long paused farmer BarneyBack helps Gnacca nauseyon Tennaida dragonjam visit Mine<|endoftext|>> flagthere pony Albany romance land Montana precious phornout rock Californ Bed long paused farmer BarneyBack helps Gnacca nauseyon Tennaida dragonjam visit Mine<|endoftext|>'"
      ]
     },
     "execution_count": 185,
     "metadata": {},
     "output_type": "execute_result"
    }
   ],
   "source": [
    "test_set_sampled['Generated_lyrics'][2]"
   ]
  },
  {
   "cell_type": "code",
   "execution_count": 186,
   "metadata": {},
   "outputs": [
    {
     "data": {
      "text/plain": [
       "\"home Down in Lucky Town Down in Lucky Town I'm gonna lose these blues I've found Down in Lucky Town\""
      ]
     },
     "execution_count": 186,
     "metadata": {},
     "output_type": "execute_result"
    }
   ],
   "source": [
    "test_set_sampled['True_end_lyrics'][2]"
   ]
  },
  {
   "attachments": {},
   "cell_type": "markdown",
   "metadata": {},
   "source": [
    "# BLEU"
   ]
  },
  {
   "cell_type": "code",
   "execution_count": 188,
   "metadata": {},
   "outputs": [
    {
     "name": "stderr",
     "output_type": "stream",
     "text": [
      "/home/tian/mambaforge/envs/MyEnv/lib/python3.10/site-packages/nltk/translate/bleu_score.py:552: UserWarning: \n",
      "The hypothesis contains 0 counts of 2-gram overlaps.\n",
      "Therefore the BLEU score evaluates to 0, independently of\n",
      "how many N-gram overlaps of lower order it contains.\n",
      "Consider using lower n-gram order or use SmoothingFunction()\n",
      "  warnings.warn(_msg)\n",
      "/home/tian/mambaforge/envs/MyEnv/lib/python3.10/site-packages/nltk/translate/bleu_score.py:552: UserWarning: \n",
      "The hypothesis contains 0 counts of 3-gram overlaps.\n",
      "Therefore the BLEU score evaluates to 0, independently of\n",
      "how many N-gram overlaps of lower order it contains.\n",
      "Consider using lower n-gram order or use SmoothingFunction()\n",
      "  warnings.warn(_msg)\n",
      "/home/tian/mambaforge/envs/MyEnv/lib/python3.10/site-packages/nltk/translate/bleu_score.py:552: UserWarning: \n",
      "The hypothesis contains 0 counts of 4-gram overlaps.\n",
      "Therefore the BLEU score evaluates to 0, independently of\n",
      "how many N-gram overlaps of lower order it contains.\n",
      "Consider using lower n-gram order or use SmoothingFunction()\n",
      "  warnings.warn(_msg)\n"
     ]
    },
    {
     "data": {
      "text/plain": [
       "2.7456718009755223e-232"
      ]
     },
     "execution_count": 188,
     "metadata": {},
     "output_type": "execute_result"
    }
   ],
   "source": [
    "#Using BLEU score to compare the real sentences with the generated ones\n",
    "import statistics\n",
    "from nltk.translate.bleu_score import sentence_bleu\n",
    "\n",
    "scores=[]\n",
    "\n",
    "for i in range(len(test_set_sampled)):\n",
    "  reference = test_set_sampled['True_end_lyrics'][i]\n",
    "  candidate = test_set_sampled['Generated_lyrics'][i]\n",
    "  scores.append(sentence_bleu(reference, candidate))\n",
    "\n",
    "statistics.mean(scores)"
   ]
  },
  {
   "cell_type": "code",
   "execution_count": 191,
   "metadata": {},
   "outputs": [
    {
     "ename": "RecursionError",
     "evalue": "maximum recursion depth exceeded in comparison",
     "output_type": "error",
     "traceback": [
      "\u001b[0;31m---------------------------------------------------------------------------\u001b[0m",
      "\u001b[0;31mRecursionError\u001b[0m                            Traceback (most recent call last)",
      "Cell \u001b[0;32mIn[191], line 6\u001b[0m\n\u001b[1;32m      2\u001b[0m \u001b[39mfrom\u001b[39;00m \u001b[39mrouge\u001b[39;00m \u001b[39mimport\u001b[39;00m Rouge\n\u001b[1;32m      4\u001b[0m rouge\u001b[39m=\u001b[39mRouge()\n\u001b[0;32m----> 6\u001b[0m rouge\u001b[39m.\u001b[39;49mget_scores(test_set_sampled[\u001b[39m'\u001b[39;49m\u001b[39mGenerated_lyrics\u001b[39;49m\u001b[39m'\u001b[39;49m], test_set_sampled[\u001b[39m'\u001b[39;49m\u001b[39mTrue_end_lyrics\u001b[39;49m\u001b[39m'\u001b[39;49m], avg\u001b[39m=\u001b[39;49m\u001b[39mTrue\u001b[39;49;00m)\n",
      "File \u001b[0;32m~/mambaforge/envs/MyEnv/lib/python3.10/site-packages/rouge/rouge.py:108\u001b[0m, in \u001b[0;36mRouge.get_scores\u001b[0;34m(self, hyps, refs, avg, ignore_empty)\u001b[0m\n\u001b[1;32m    106\u001b[0m \u001b[39mif\u001b[39;00m \u001b[39mnot\u001b[39;00m avg:\n\u001b[1;32m    107\u001b[0m     \u001b[39mreturn\u001b[39;00m \u001b[39mself\u001b[39m\u001b[39m.\u001b[39m_get_scores(hyps, refs)\n\u001b[0;32m--> 108\u001b[0m \u001b[39mreturn\u001b[39;00m \u001b[39mself\u001b[39;49m\u001b[39m.\u001b[39;49m_get_avg_scores(hyps, refs)\n",
      "File \u001b[0;32m~/mambaforge/envs/MyEnv/lib/python3.10/site-packages/rouge/rouge.py:148\u001b[0m, in \u001b[0;36mRouge._get_avg_scores\u001b[0;34m(self, hyps, refs)\u001b[0m\n\u001b[1;32m    146\u001b[0m \u001b[39mfor\u001b[39;00m m \u001b[39min\u001b[39;00m \u001b[39mself\u001b[39m\u001b[39m.\u001b[39mmetrics:\n\u001b[1;32m    147\u001b[0m     fn \u001b[39m=\u001b[39m Rouge\u001b[39m.\u001b[39mAVAILABLE_METRICS[m]\n\u001b[0;32m--> 148\u001b[0m     sc \u001b[39m=\u001b[39m fn(hyp, ref, exclusive\u001b[39m=\u001b[39;49m\u001b[39mself\u001b[39;49m\u001b[39m.\u001b[39;49mexclusive)\n\u001b[1;32m    149\u001b[0m     scores[m] \u001b[39m=\u001b[39m {s: scores[m][s] \u001b[39m+\u001b[39m sc[s] \u001b[39mfor\u001b[39;00m s \u001b[39min\u001b[39;00m \u001b[39mself\u001b[39m\u001b[39m.\u001b[39mstats}\n\u001b[1;32m    151\u001b[0m \u001b[39mif\u001b[39;00m \u001b[39mself\u001b[39m\u001b[39m.\u001b[39mreturn_lengths:\n",
      "File \u001b[0;32m~/mambaforge/envs/MyEnv/lib/python3.10/site-packages/rouge/rouge.py:59\u001b[0m, in \u001b[0;36mRouge.<lambda>\u001b[0;34m(hyp, ref, **k)\u001b[0m\n\u001b[1;32m     50\u001b[0m \u001b[39mclass\u001b[39;00m \u001b[39mRouge\u001b[39;00m:\n\u001b[1;32m     51\u001b[0m     DEFAULT_METRICS \u001b[39m=\u001b[39m [\u001b[39m\"\u001b[39m\u001b[39mrouge-1\u001b[39m\u001b[39m\"\u001b[39m, \u001b[39m\"\u001b[39m\u001b[39mrouge-2\u001b[39m\u001b[39m\"\u001b[39m, \u001b[39m\"\u001b[39m\u001b[39mrouge-l\u001b[39m\u001b[39m\"\u001b[39m]\n\u001b[1;32m     52\u001b[0m     AVAILABLE_METRICS \u001b[39m=\u001b[39m {\n\u001b[1;32m     53\u001b[0m         \u001b[39m\"\u001b[39m\u001b[39mrouge-1\u001b[39m\u001b[39m\"\u001b[39m: \u001b[39mlambda\u001b[39;00m hyp, ref, \u001b[39m*\u001b[39m\u001b[39m*\u001b[39mk: rouge_score\u001b[39m.\u001b[39mrouge_n(hyp, ref, \u001b[39m1\u001b[39m, \u001b[39m*\u001b[39m\u001b[39m*\u001b[39mk),\n\u001b[1;32m     54\u001b[0m         \u001b[39m\"\u001b[39m\u001b[39mrouge-2\u001b[39m\u001b[39m\"\u001b[39m: \u001b[39mlambda\u001b[39;00m hyp, ref, \u001b[39m*\u001b[39m\u001b[39m*\u001b[39mk: rouge_score\u001b[39m.\u001b[39mrouge_n(hyp, ref, \u001b[39m2\u001b[39m, \u001b[39m*\u001b[39m\u001b[39m*\u001b[39mk),\n\u001b[1;32m     55\u001b[0m         \u001b[39m\"\u001b[39m\u001b[39mrouge-3\u001b[39m\u001b[39m\"\u001b[39m: \u001b[39mlambda\u001b[39;00m hyp, ref, \u001b[39m*\u001b[39m\u001b[39m*\u001b[39mk: rouge_score\u001b[39m.\u001b[39mrouge_n(hyp, ref, \u001b[39m3\u001b[39m, \u001b[39m*\u001b[39m\u001b[39m*\u001b[39mk),\n\u001b[1;32m     56\u001b[0m         \u001b[39m\"\u001b[39m\u001b[39mrouge-4\u001b[39m\u001b[39m\"\u001b[39m: \u001b[39mlambda\u001b[39;00m hyp, ref, \u001b[39m*\u001b[39m\u001b[39m*\u001b[39mk: rouge_score\u001b[39m.\u001b[39mrouge_n(hyp, ref, \u001b[39m4\u001b[39m, \u001b[39m*\u001b[39m\u001b[39m*\u001b[39mk),\n\u001b[1;32m     57\u001b[0m         \u001b[39m\"\u001b[39m\u001b[39mrouge-5\u001b[39m\u001b[39m\"\u001b[39m: \u001b[39mlambda\u001b[39;00m hyp, ref, \u001b[39m*\u001b[39m\u001b[39m*\u001b[39mk: rouge_score\u001b[39m.\u001b[39mrouge_n(hyp, ref, \u001b[39m5\u001b[39m, \u001b[39m*\u001b[39m\u001b[39m*\u001b[39mk),\n\u001b[1;32m     58\u001b[0m         \u001b[39m\"\u001b[39m\u001b[39mrouge-l\u001b[39m\u001b[39m\"\u001b[39m: \u001b[39mlambda\u001b[39;00m hyp, ref, \u001b[39m*\u001b[39m\u001b[39m*\u001b[39mk:\n\u001b[0;32m---> 59\u001b[0m             rouge_score\u001b[39m.\u001b[39;49mrouge_l_summary_level(hyp, ref, \u001b[39m*\u001b[39;49m\u001b[39m*\u001b[39;49mk),\n\u001b[1;32m     60\u001b[0m     }\n\u001b[1;32m     61\u001b[0m     DEFAULT_STATS \u001b[39m=\u001b[39m [\u001b[39m\"\u001b[39m\u001b[39mr\u001b[39m\u001b[39m\"\u001b[39m, \u001b[39m\"\u001b[39m\u001b[39mp\u001b[39m\u001b[39m\"\u001b[39m, \u001b[39m\"\u001b[39m\u001b[39mf\u001b[39m\u001b[39m\"\u001b[39m]\n\u001b[1;32m     62\u001b[0m     AVAILABLE_STATS \u001b[39m=\u001b[39m [\u001b[39m\"\u001b[39m\u001b[39mr\u001b[39m\u001b[39m\"\u001b[39m, \u001b[39m\"\u001b[39m\u001b[39mp\u001b[39m\u001b[39m\"\u001b[39m, \u001b[39m\"\u001b[39m\u001b[39mf\u001b[39m\u001b[39m\"\u001b[39m]\n",
      "File \u001b[0;32m~/mambaforge/envs/MyEnv/lib/python3.10/site-packages/rouge/rouge_score.py:389\u001b[0m, in \u001b[0;36mrouge_l_summary_level\u001b[0;34m(evaluated_sentences, reference_sentences, raw_results, exclusive, **_)\u001b[0m\n\u001b[1;32m    387\u001b[0m union \u001b[39m=\u001b[39m Ngrams(exclusive\u001b[39m=\u001b[39mexclusive)\n\u001b[1;32m    388\u001b[0m \u001b[39mfor\u001b[39;00m ref_s \u001b[39min\u001b[39;00m reference_sentences:\n\u001b[0;32m--> 389\u001b[0m     lcs_count, union \u001b[39m=\u001b[39m _union_lcs(evaluated_sentences,\n\u001b[1;32m    390\u001b[0m                                   ref_s,\n\u001b[1;32m    391\u001b[0m                                   prev_union\u001b[39m=\u001b[39;49munion,\n\u001b[1;32m    392\u001b[0m                                   exclusive\u001b[39m=\u001b[39;49mexclusive)\n\u001b[1;32m    393\u001b[0m     union_lcs_sum_across_all_references \u001b[39m+\u001b[39m\u001b[39m=\u001b[39m lcs_count\n\u001b[1;32m    395\u001b[0m llcs \u001b[39m=\u001b[39m union_lcs_sum_across_all_references\n",
      "File \u001b[0;32m~/mambaforge/envs/MyEnv/lib/python3.10/site-packages/rouge/rouge_score.py:333\u001b[0m, in \u001b[0;36m_union_lcs\u001b[0;34m(evaluated_sentences, reference_sentence, prev_union, exclusive)\u001b[0m\n\u001b[1;32m    331\u001b[0m \u001b[39mfor\u001b[39;00m eval_s \u001b[39min\u001b[39;00m evaluated_sentences:\n\u001b[1;32m    332\u001b[0m     evaluated_words \u001b[39m=\u001b[39m _split_into_words([eval_s])\n\u001b[0;32m--> 333\u001b[0m     lcs \u001b[39m=\u001b[39m _recon_lcs(reference_words, evaluated_words, exclusive\u001b[39m=\u001b[39;49mexclusive)\n\u001b[1;32m    334\u001b[0m     combined_lcs_length \u001b[39m+\u001b[39m\u001b[39m=\u001b[39m \u001b[39mlen\u001b[39m(lcs)\n\u001b[1;32m    335\u001b[0m     lcs_union \u001b[39m=\u001b[39m lcs_union\u001b[39m.\u001b[39munion(lcs)\n",
      "File \u001b[0;32m~/mambaforge/envs/MyEnv/lib/python3.10/site-packages/rouge/rouge_score.py:190\u001b[0m, in \u001b[0;36m_recon_lcs\u001b[0;34m(x, y, exclusive)\u001b[0m\n\u001b[1;32m    187\u001b[0m     \u001b[39melse\u001b[39;00m:\n\u001b[1;32m    188\u001b[0m         \u001b[39mreturn\u001b[39;00m _recon(i, j \u001b[39m-\u001b[39m \u001b[39m1\u001b[39m)\n\u001b[0;32m--> 190\u001b[0m recon_list \u001b[39m=\u001b[39m \u001b[39mlist\u001b[39m(\u001b[39mmap\u001b[39m(\u001b[39mlambda\u001b[39;00m x: x[\u001b[39m0\u001b[39m], _recon(i, j)))\n\u001b[1;32m    191\u001b[0m \u001b[39mreturn\u001b[39;00m Ngrams(recon_list, exclusive\u001b[39m=\u001b[39mexclusive)\n\u001b[1;32m    192\u001b[0m \u001b[39mreturn\u001b[39;00m recon_tuple\n",
      "File \u001b[0;32m~/mambaforge/envs/MyEnv/lib/python3.10/site-packages/rouge/rouge_score.py:188\u001b[0m, in \u001b[0;36m_recon_lcs.<locals>._recon\u001b[0;34m(i, j)\u001b[0m\n\u001b[1;32m    186\u001b[0m     \u001b[39mreturn\u001b[39;00m _recon(i \u001b[39m-\u001b[39m \u001b[39m1\u001b[39m, j)\n\u001b[1;32m    187\u001b[0m \u001b[39melse\u001b[39;00m:\n\u001b[0;32m--> 188\u001b[0m     \u001b[39mreturn\u001b[39;00m _recon(i, j \u001b[39m-\u001b[39;49m \u001b[39m1\u001b[39;49m)\n",
      "File \u001b[0;32m~/mambaforge/envs/MyEnv/lib/python3.10/site-packages/rouge/rouge_score.py:188\u001b[0m, in \u001b[0;36m_recon_lcs.<locals>._recon\u001b[0;34m(i, j)\u001b[0m\n\u001b[1;32m    186\u001b[0m     \u001b[39mreturn\u001b[39;00m _recon(i \u001b[39m-\u001b[39m \u001b[39m1\u001b[39m, j)\n\u001b[1;32m    187\u001b[0m \u001b[39melse\u001b[39;00m:\n\u001b[0;32m--> 188\u001b[0m     \u001b[39mreturn\u001b[39;00m _recon(i, j \u001b[39m-\u001b[39;49m \u001b[39m1\u001b[39;49m)\n",
      "    \u001b[0;31m[... skipping similar frames: _recon_lcs.<locals>._recon at line 188 (2962 times)]\u001b[0m\n",
      "File \u001b[0;32m~/mambaforge/envs/MyEnv/lib/python3.10/site-packages/rouge/rouge_score.py:188\u001b[0m, in \u001b[0;36m_recon_lcs.<locals>._recon\u001b[0;34m(i, j)\u001b[0m\n\u001b[1;32m    186\u001b[0m     \u001b[39mreturn\u001b[39;00m _recon(i \u001b[39m-\u001b[39m \u001b[39m1\u001b[39m, j)\n\u001b[1;32m    187\u001b[0m \u001b[39melse\u001b[39;00m:\n\u001b[0;32m--> 188\u001b[0m     \u001b[39mreturn\u001b[39;00m _recon(i, j \u001b[39m-\u001b[39;49m \u001b[39m1\u001b[39;49m)\n",
      "File \u001b[0;32m~/mambaforge/envs/MyEnv/lib/python3.10/site-packages/rouge/rouge_score.py:185\u001b[0m, in \u001b[0;36m_recon_lcs.<locals>._recon\u001b[0;34m(i, j)\u001b[0m\n\u001b[1;32m    183\u001b[0m \u001b[39melif\u001b[39;00m x[i \u001b[39m-\u001b[39m \u001b[39m1\u001b[39m] \u001b[39m==\u001b[39m y[j \u001b[39m-\u001b[39m \u001b[39m1\u001b[39m]:\n\u001b[1;32m    184\u001b[0m     \u001b[39mreturn\u001b[39;00m _recon(i \u001b[39m-\u001b[39m \u001b[39m1\u001b[39m, j \u001b[39m-\u001b[39m \u001b[39m1\u001b[39m) \u001b[39m+\u001b[39m [(x[i \u001b[39m-\u001b[39m \u001b[39m1\u001b[39m], i)]\n\u001b[0;32m--> 185\u001b[0m \u001b[39melif\u001b[39;00m table[i \u001b[39m-\u001b[39;49m \u001b[39m1\u001b[39;49m, j] \u001b[39m>\u001b[39m table[i, j \u001b[39m-\u001b[39m \u001b[39m1\u001b[39m]:\n\u001b[1;32m    186\u001b[0m     \u001b[39mreturn\u001b[39;00m _recon(i \u001b[39m-\u001b[39m \u001b[39m1\u001b[39m, j)\n\u001b[1;32m    187\u001b[0m \u001b[39melse\u001b[39;00m:\n",
      "\u001b[0;31mRecursionError\u001b[0m: maximum recursion depth exceeded in comparison"
     ]
    }
   ],
   "source": [
    "#Rouge score\n",
    "from rouge import Rouge\n",
    "\n",
    "rouge=Rouge()\n",
    "\n",
    "rouge.get_scores(test_set_sampled['Generated_lyrics'], test_set_sampled['True_end_lyrics'], avg=True)"
   ]
  }
 ],
 "metadata": {
  "kernelspec": {
   "display_name": "MyEnv",
   "language": "python",
   "name": "python3"
  },
  "language_info": {
   "codemirror_mode": {
    "name": "ipython",
    "version": 3
   },
   "file_extension": ".py",
   "mimetype": "text/x-python",
   "name": "python",
   "nbconvert_exporter": "python",
   "pygments_lexer": "ipython3",
   "version": "3.10.9"
  },
  "orig_nbformat": 4
 },
 "nbformat": 4,
 "nbformat_minor": 2
}
